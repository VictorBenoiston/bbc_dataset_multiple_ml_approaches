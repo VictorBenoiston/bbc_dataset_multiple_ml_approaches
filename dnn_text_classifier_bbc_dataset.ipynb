{
  "cells": [
    {
      "cell_type": "markdown",
      "metadata": {
        "colab_type": "text",
        "id": "view-in-github"
      },
      "source": [
        "<a href=\"https://colab.research.google.com/github/VictorBenoiston/bbc_dataset_multiple_ml_approaches/blob/main/dnn_text_classifier_bbc_dataset.ipynb\" target=\"_parent\"><img src=\"https://colab.research.google.com/assets/colab-badge.svg\" alt=\"Open In Colab\"/></a>"
      ]
    },
    {
      "cell_type": "code",
      "execution_count": 107,
      "metadata": {
        "colab": {
          "base_uri": "https://localhost:8080/"
        },
        "id": "P9lfhx2IPOq-",
        "outputId": "af2663b7-b382-48b7-dbb2-4294edef8818"
      },
      "outputs": [
        {
          "name": "stdout",
          "output_type": "stream",
          "text": [
            "Requirement already satisfied: keras in /Users/jusbrasil/.pyenv/versions/3.11.1/lib/python3.11/site-packages (2.13.1)\n",
            "\n",
            "\u001b[1m[\u001b[0m\u001b[34;49mnotice\u001b[0m\u001b[1;39;49m]\u001b[0m\u001b[39;49m A new release of pip available: \u001b[0m\u001b[31;49m22.3.1\u001b[0m\u001b[39;49m -> \u001b[0m\u001b[32;49m23.3.1\u001b[0m\n",
            "\u001b[1m[\u001b[0m\u001b[34;49mnotice\u001b[0m\u001b[1;39;49m]\u001b[0m\u001b[39;49m To update, run: \u001b[0m\u001b[32;49mpip install --upgrade pip\u001b[0m\n",
            "Requirement already satisfied: tensorflow in /Users/jusbrasil/.pyenv/versions/3.11.1/lib/python3.11/site-packages (2.13.0rc2)\n",
            "Requirement already satisfied: tensorflow-macos==2.13.0-rc2 in /Users/jusbrasil/.pyenv/versions/3.11.1/lib/python3.11/site-packages (from tensorflow) (2.13.0rc2)\n",
            "Requirement already satisfied: absl-py>=1.0.0 in /Users/jusbrasil/.pyenv/versions/3.11.1/lib/python3.11/site-packages (from tensorflow-macos==2.13.0-rc2->tensorflow) (1.4.0)\n",
            "Requirement already satisfied: astunparse>=1.6.0 in /Users/jusbrasil/.pyenv/versions/3.11.1/lib/python3.11/site-packages (from tensorflow-macos==2.13.0-rc2->tensorflow) (1.6.3)\n",
            "Requirement already satisfied: flatbuffers>=23.1.21 in /Users/jusbrasil/.pyenv/versions/3.11.1/lib/python3.11/site-packages (from tensorflow-macos==2.13.0-rc2->tensorflow) (23.5.26)\n",
            "Requirement already satisfied: gast<=0.4.0,>=0.2.1 in /Users/jusbrasil/.pyenv/versions/3.11.1/lib/python3.11/site-packages (from tensorflow-macos==2.13.0-rc2->tensorflow) (0.4.0)\n",
            "Requirement already satisfied: google-pasta>=0.1.1 in /Users/jusbrasil/.pyenv/versions/3.11.1/lib/python3.11/site-packages (from tensorflow-macos==2.13.0-rc2->tensorflow) (0.2.0)\n",
            "Requirement already satisfied: h5py>=2.9.0 in /Users/jusbrasil/.pyenv/versions/3.11.1/lib/python3.11/site-packages (from tensorflow-macos==2.13.0-rc2->tensorflow) (3.9.0)\n",
            "Requirement already satisfied: libclang>=13.0.0 in /Users/jusbrasil/.pyenv/versions/3.11.1/lib/python3.11/site-packages (from tensorflow-macos==2.13.0-rc2->tensorflow) (16.0.0)\n",
            "Requirement already satisfied: numpy>=1.22 in /Users/jusbrasil/.pyenv/versions/3.11.1/lib/python3.11/site-packages (from tensorflow-macos==2.13.0-rc2->tensorflow) (1.24.3)\n",
            "Requirement already satisfied: opt-einsum>=2.3.2 in /Users/jusbrasil/.pyenv/versions/3.11.1/lib/python3.11/site-packages (from tensorflow-macos==2.13.0-rc2->tensorflow) (3.3.0)\n",
            "Requirement already satisfied: packaging in /Users/jusbrasil/.pyenv/versions/3.11.1/lib/python3.11/site-packages (from tensorflow-macos==2.13.0-rc2->tensorflow) (23.1)\n",
            "Requirement already satisfied: protobuf!=4.21.0,!=4.21.1,!=4.21.2,!=4.21.3,!=4.21.4,!=4.21.5,<5.0.0dev,>=3.20.3 in /Users/jusbrasil/.pyenv/versions/3.11.1/lib/python3.11/site-packages (from tensorflow-macos==2.13.0-rc2->tensorflow) (4.23.3)\n",
            "Requirement already satisfied: setuptools in /Users/jusbrasil/.pyenv/versions/3.11.1/lib/python3.11/site-packages (from tensorflow-macos==2.13.0-rc2->tensorflow) (65.5.0)\n",
            "Requirement already satisfied: six>=1.12.0 in /Users/jusbrasil/.pyenv/versions/3.11.1/lib/python3.11/site-packages (from tensorflow-macos==2.13.0-rc2->tensorflow) (1.16.0)\n",
            "Requirement already satisfied: termcolor>=1.1.0 in /Users/jusbrasil/.pyenv/versions/3.11.1/lib/python3.11/site-packages (from tensorflow-macos==2.13.0-rc2->tensorflow) (2.3.0)\n",
            "Requirement already satisfied: typing-extensions<4.6.0,>=3.6.6 in /Users/jusbrasil/.pyenv/versions/3.11.1/lib/python3.11/site-packages (from tensorflow-macos==2.13.0-rc2->tensorflow) (4.5.0)\n",
            "Requirement already satisfied: wrapt>=1.11.0 in /Users/jusbrasil/.pyenv/versions/3.11.1/lib/python3.11/site-packages (from tensorflow-macos==2.13.0-rc2->tensorflow) (1.15.0)\n",
            "Requirement already satisfied: grpcio<2.0,>=1.24.3 in /Users/jusbrasil/.pyenv/versions/3.11.1/lib/python3.11/site-packages (from tensorflow-macos==2.13.0-rc2->tensorflow) (1.56.0)\n",
            "Requirement already satisfied: tensorboard<2.14,>=2.13 in /Users/jusbrasil/.pyenv/versions/3.11.1/lib/python3.11/site-packages (from tensorflow-macos==2.13.0-rc2->tensorflow) (2.13.0)\n",
            "Requirement already satisfied: tensorflow-estimator<2.14,>=2.13.0rc0 in /Users/jusbrasil/.pyenv/versions/3.11.1/lib/python3.11/site-packages (from tensorflow-macos==2.13.0-rc2->tensorflow) (2.13.0)\n",
            "Requirement already satisfied: keras<2.14,>=2.13.1rc0 in /Users/jusbrasil/.pyenv/versions/3.11.1/lib/python3.11/site-packages (from tensorflow-macos==2.13.0-rc2->tensorflow) (2.13.1)\n",
            "Requirement already satisfied: wheel<1.0,>=0.23.0 in /Users/jusbrasil/.pyenv/versions/3.11.1/lib/python3.11/site-packages (from astunparse>=1.6.0->tensorflow-macos==2.13.0-rc2->tensorflow) (0.40.0)\n",
            "Requirement already satisfied: google-auth<3,>=1.6.3 in /Users/jusbrasil/.pyenv/versions/3.11.1/lib/python3.11/site-packages (from tensorboard<2.14,>=2.13->tensorflow-macos==2.13.0-rc2->tensorflow) (2.21.0)\n",
            "Requirement already satisfied: google-auth-oauthlib<1.1,>=0.5 in /Users/jusbrasil/.pyenv/versions/3.11.1/lib/python3.11/site-packages (from tensorboard<2.14,>=2.13->tensorflow-macos==2.13.0-rc2->tensorflow) (1.0.0)\n",
            "Requirement already satisfied: markdown>=2.6.8 in /Users/jusbrasil/.pyenv/versions/3.11.1/lib/python3.11/site-packages (from tensorboard<2.14,>=2.13->tensorflow-macos==2.13.0-rc2->tensorflow) (3.4.3)\n",
            "Requirement already satisfied: requests<3,>=2.21.0 in /Users/jusbrasil/.pyenv/versions/3.11.1/lib/python3.11/site-packages (from tensorboard<2.14,>=2.13->tensorflow-macos==2.13.0-rc2->tensorflow) (2.28.2)\n",
            "Requirement already satisfied: tensorboard-data-server<0.8.0,>=0.7.0 in /Users/jusbrasil/.pyenv/versions/3.11.1/lib/python3.11/site-packages (from tensorboard<2.14,>=2.13->tensorflow-macos==2.13.0-rc2->tensorflow) (0.7.1)\n",
            "Requirement already satisfied: werkzeug>=1.0.1 in /Users/jusbrasil/.pyenv/versions/3.11.1/lib/python3.11/site-packages (from tensorboard<2.14,>=2.13->tensorflow-macos==2.13.0-rc2->tensorflow) (2.3.6)\n",
            "Requirement already satisfied: cachetools<6.0,>=2.0.0 in /Users/jusbrasil/.pyenv/versions/3.11.1/lib/python3.11/site-packages (from google-auth<3,>=1.6.3->tensorboard<2.14,>=2.13->tensorflow-macos==2.13.0-rc2->tensorflow) (5.3.1)\n",
            "Requirement already satisfied: pyasn1-modules>=0.2.1 in /Users/jusbrasil/.pyenv/versions/3.11.1/lib/python3.11/site-packages (from google-auth<3,>=1.6.3->tensorboard<2.14,>=2.13->tensorflow-macos==2.13.0-rc2->tensorflow) (0.3.0)\n",
            "Requirement already satisfied: rsa<5,>=3.1.4 in /Users/jusbrasil/.pyenv/versions/3.11.1/lib/python3.11/site-packages (from google-auth<3,>=1.6.3->tensorboard<2.14,>=2.13->tensorflow-macos==2.13.0-rc2->tensorflow) (4.7.2)\n",
            "Requirement already satisfied: urllib3<2.0 in /Users/jusbrasil/.pyenv/versions/3.11.1/lib/python3.11/site-packages (from google-auth<3,>=1.6.3->tensorboard<2.14,>=2.13->tensorflow-macos==2.13.0-rc2->tensorflow) (1.26.14)\n",
            "Requirement already satisfied: requests-oauthlib>=0.7.0 in /Users/jusbrasil/.pyenv/versions/3.11.1/lib/python3.11/site-packages (from google-auth-oauthlib<1.1,>=0.5->tensorboard<2.14,>=2.13->tensorflow-macos==2.13.0-rc2->tensorflow) (1.3.1)\n",
            "Requirement already satisfied: charset-normalizer<4,>=2 in /Users/jusbrasil/.pyenv/versions/3.11.1/lib/python3.11/site-packages (from requests<3,>=2.21.0->tensorboard<2.14,>=2.13->tensorflow-macos==2.13.0-rc2->tensorflow) (3.0.1)\n",
            "Requirement already satisfied: idna<4,>=2.5 in /Users/jusbrasil/.pyenv/versions/3.11.1/lib/python3.11/site-packages (from requests<3,>=2.21.0->tensorboard<2.14,>=2.13->tensorflow-macos==2.13.0-rc2->tensorflow) (3.4)\n",
            "Requirement already satisfied: certifi>=2017.4.17 in /Users/jusbrasil/.pyenv/versions/3.11.1/lib/python3.11/site-packages (from requests<3,>=2.21.0->tensorboard<2.14,>=2.13->tensorflow-macos==2.13.0-rc2->tensorflow) (2022.12.7)\n",
            "Requirement already satisfied: MarkupSafe>=2.1.1 in /Users/jusbrasil/.pyenv/versions/3.11.1/lib/python3.11/site-packages (from werkzeug>=1.0.1->tensorboard<2.14,>=2.13->tensorflow-macos==2.13.0-rc2->tensorflow) (2.1.3)\n",
            "Requirement already satisfied: pyasn1<0.6.0,>=0.4.6 in /Users/jusbrasil/.pyenv/versions/3.11.1/lib/python3.11/site-packages (from pyasn1-modules>=0.2.1->google-auth<3,>=1.6.3->tensorboard<2.14,>=2.13->tensorflow-macos==2.13.0-rc2->tensorflow) (0.5.0)\n",
            "Requirement already satisfied: oauthlib>=3.0.0 in /Users/jusbrasil/.pyenv/versions/3.11.1/lib/python3.11/site-packages (from requests-oauthlib>=0.7.0->google-auth-oauthlib<1.1,>=0.5->tensorboard<2.14,>=2.13->tensorflow-macos==2.13.0-rc2->tensorflow) (3.2.2)\n",
            "\n",
            "\u001b[1m[\u001b[0m\u001b[34;49mnotice\u001b[0m\u001b[1;39;49m]\u001b[0m\u001b[39;49m A new release of pip available: \u001b[0m\u001b[31;49m22.3.1\u001b[0m\u001b[39;49m -> \u001b[0m\u001b[32;49m23.3.1\u001b[0m\n",
            "\u001b[1m[\u001b[0m\u001b[34;49mnotice\u001b[0m\u001b[1;39;49m]\u001b[0m\u001b[39;49m To update, run: \u001b[0m\u001b[32;49mpip install --upgrade pip\u001b[0m\n",
            "Requirement already satisfied: tensorflow-hub in /Users/jusbrasil/.pyenv/versions/3.11.1/lib/python3.11/site-packages (0.15.0)\n",
            "Requirement already satisfied: numpy>=1.12.0 in /Users/jusbrasil/.pyenv/versions/3.11.1/lib/python3.11/site-packages (from tensorflow-hub) (1.24.3)\n",
            "Requirement already satisfied: protobuf>=3.19.6 in /Users/jusbrasil/.pyenv/versions/3.11.1/lib/python3.11/site-packages (from tensorflow-hub) (4.23.3)\n",
            "\n",
            "\u001b[1m[\u001b[0m\u001b[34;49mnotice\u001b[0m\u001b[1;39;49m]\u001b[0m\u001b[39;49m A new release of pip available: \u001b[0m\u001b[31;49m22.3.1\u001b[0m\u001b[39;49m -> \u001b[0m\u001b[32;49m23.3.1\u001b[0m\n",
            "\u001b[1m[\u001b[0m\u001b[34;49mnotice\u001b[0m\u001b[1;39;49m]\u001b[0m\u001b[39;49m To update, run: \u001b[0m\u001b[32;49mpip install --upgrade pip\u001b[0m\n",
            "Requirement already satisfied: seaborn in /Users/jusbrasil/.pyenv/versions/3.11.1/lib/python3.11/site-packages (0.13.0)\n",
            "Requirement already satisfied: numpy!=1.24.0,>=1.20 in /Users/jusbrasil/.pyenv/versions/3.11.1/lib/python3.11/site-packages (from seaborn) (1.24.3)\n",
            "Requirement already satisfied: pandas>=1.2 in /Users/jusbrasil/.pyenv/versions/3.11.1/lib/python3.11/site-packages (from seaborn) (2.0.3)\n",
            "Requirement already satisfied: matplotlib!=3.6.1,>=3.3 in /Users/jusbrasil/.pyenv/versions/3.11.1/lib/python3.11/site-packages (from seaborn) (3.7.1)\n",
            "Requirement already satisfied: contourpy>=1.0.1 in /Users/jusbrasil/.pyenv/versions/3.11.1/lib/python3.11/site-packages (from matplotlib!=3.6.1,>=3.3->seaborn) (1.1.0)\n",
            "Requirement already satisfied: cycler>=0.10 in /Users/jusbrasil/.pyenv/versions/3.11.1/lib/python3.11/site-packages (from matplotlib!=3.6.1,>=3.3->seaborn) (0.11.0)\n",
            "Requirement already satisfied: fonttools>=4.22.0 in /Users/jusbrasil/.pyenv/versions/3.11.1/lib/python3.11/site-packages (from matplotlib!=3.6.1,>=3.3->seaborn) (4.40.0)\n",
            "Requirement already satisfied: kiwisolver>=1.0.1 in /Users/jusbrasil/.pyenv/versions/3.11.1/lib/python3.11/site-packages (from matplotlib!=3.6.1,>=3.3->seaborn) (1.4.4)\n",
            "Requirement already satisfied: packaging>=20.0 in /Users/jusbrasil/.pyenv/versions/3.11.1/lib/python3.11/site-packages (from matplotlib!=3.6.1,>=3.3->seaborn) (23.1)\n",
            "Requirement already satisfied: pillow>=6.2.0 in /Users/jusbrasil/.pyenv/versions/3.11.1/lib/python3.11/site-packages (from matplotlib!=3.6.1,>=3.3->seaborn) (9.5.0)\n",
            "Requirement already satisfied: pyparsing>=2.3.1 in /Users/jusbrasil/.pyenv/versions/3.11.1/lib/python3.11/site-packages (from matplotlib!=3.6.1,>=3.3->seaborn) (3.1.0)\n",
            "Requirement already satisfied: python-dateutil>=2.7 in /Users/jusbrasil/.pyenv/versions/3.11.1/lib/python3.11/site-packages (from matplotlib!=3.6.1,>=3.3->seaborn) (2.8.2)\n",
            "Requirement already satisfied: pytz>=2020.1 in /Users/jusbrasil/.pyenv/versions/3.11.1/lib/python3.11/site-packages (from pandas>=1.2->seaborn) (2023.3)\n",
            "Requirement already satisfied: tzdata>=2022.1 in /Users/jusbrasil/.pyenv/versions/3.11.1/lib/python3.11/site-packages (from pandas>=1.2->seaborn) (2023.3)\n",
            "Requirement already satisfied: six>=1.5 in /Users/jusbrasil/.pyenv/versions/3.11.1/lib/python3.11/site-packages (from python-dateutil>=2.7->matplotlib!=3.6.1,>=3.3->seaborn) (1.16.0)\n",
            "\n",
            "\u001b[1m[\u001b[0m\u001b[34;49mnotice\u001b[0m\u001b[1;39;49m]\u001b[0m\u001b[39;49m A new release of pip available: \u001b[0m\u001b[31;49m22.3.1\u001b[0m\u001b[39;49m -> \u001b[0m\u001b[32;49m23.3.1\u001b[0m\n",
            "\u001b[1m[\u001b[0m\u001b[34;49mnotice\u001b[0m\u001b[1;39;49m]\u001b[0m\u001b[39;49m To update, run: \u001b[0m\u001b[32;49mpip install --upgrade pip\u001b[0m\n",
            "Requirement already satisfied: wordcloud in /Users/jusbrasil/.pyenv/versions/3.11.1/lib/python3.11/site-packages (1.9.2)\n",
            "Requirement already satisfied: numpy>=1.6.1 in /Users/jusbrasil/.pyenv/versions/3.11.1/lib/python3.11/site-packages (from wordcloud) (1.24.3)\n",
            "Requirement already satisfied: pillow in /Users/jusbrasil/.pyenv/versions/3.11.1/lib/python3.11/site-packages (from wordcloud) (9.5.0)\n",
            "Requirement already satisfied: matplotlib in /Users/jusbrasil/.pyenv/versions/3.11.1/lib/python3.11/site-packages (from wordcloud) (3.7.1)\n",
            "Requirement already satisfied: contourpy>=1.0.1 in /Users/jusbrasil/.pyenv/versions/3.11.1/lib/python3.11/site-packages (from matplotlib->wordcloud) (1.1.0)\n",
            "Requirement already satisfied: cycler>=0.10 in /Users/jusbrasil/.pyenv/versions/3.11.1/lib/python3.11/site-packages (from matplotlib->wordcloud) (0.11.0)\n",
            "Requirement already satisfied: fonttools>=4.22.0 in /Users/jusbrasil/.pyenv/versions/3.11.1/lib/python3.11/site-packages (from matplotlib->wordcloud) (4.40.0)\n",
            "Requirement already satisfied: kiwisolver>=1.0.1 in /Users/jusbrasil/.pyenv/versions/3.11.1/lib/python3.11/site-packages (from matplotlib->wordcloud) (1.4.4)\n",
            "Requirement already satisfied: packaging>=20.0 in /Users/jusbrasil/.pyenv/versions/3.11.1/lib/python3.11/site-packages (from matplotlib->wordcloud) (23.1)\n",
            "Requirement already satisfied: pyparsing>=2.3.1 in /Users/jusbrasil/.pyenv/versions/3.11.1/lib/python3.11/site-packages (from matplotlib->wordcloud) (3.1.0)\n",
            "Requirement already satisfied: python-dateutil>=2.7 in /Users/jusbrasil/.pyenv/versions/3.11.1/lib/python3.11/site-packages (from matplotlib->wordcloud) (2.8.2)\n",
            "Requirement already satisfied: six>=1.5 in /Users/jusbrasil/.pyenv/versions/3.11.1/lib/python3.11/site-packages (from python-dateutil>=2.7->matplotlib->wordcloud) (1.16.0)\n",
            "\n",
            "\u001b[1m[\u001b[0m\u001b[34;49mnotice\u001b[0m\u001b[1;39;49m]\u001b[0m\u001b[39;49m A new release of pip available: \u001b[0m\u001b[31;49m22.3.1\u001b[0m\u001b[39;49m -> \u001b[0m\u001b[32;49m23.3.1\u001b[0m\n",
            "\u001b[1m[\u001b[0m\u001b[34;49mnotice\u001b[0m\u001b[1;39;49m]\u001b[0m\u001b[39;49m To update, run: \u001b[0m\u001b[32;49mpip install --upgrade pip\u001b[0m\n",
            "Requirement already satisfied: nltk in /Users/jusbrasil/.pyenv/versions/3.11.1/lib/python3.11/site-packages (3.8.1)\n",
            "Requirement already satisfied: click in /Users/jusbrasil/.pyenv/versions/3.11.1/lib/python3.11/site-packages (from nltk) (8.1.3)\n",
            "Requirement already satisfied: joblib in /Users/jusbrasil/.pyenv/versions/3.11.1/lib/python3.11/site-packages (from nltk) (1.3.2)\n",
            "Requirement already satisfied: regex>=2021.8.3 in /Users/jusbrasil/.pyenv/versions/3.11.1/lib/python3.11/site-packages (from nltk) (2023.10.3)\n",
            "Requirement already satisfied: tqdm in /Users/jusbrasil/.pyenv/versions/3.11.1/lib/python3.11/site-packages (from nltk) (4.65.0)\n",
            "\n",
            "\u001b[1m[\u001b[0m\u001b[34;49mnotice\u001b[0m\u001b[1;39;49m]\u001b[0m\u001b[39;49m A new release of pip available: \u001b[0m\u001b[31;49m22.3.1\u001b[0m\u001b[39;49m -> \u001b[0m\u001b[32;49m23.3.1\u001b[0m\n",
            "\u001b[1m[\u001b[0m\u001b[34;49mnotice\u001b[0m\u001b[1;39;49m]\u001b[0m\u001b[39;49m To update, run: \u001b[0m\u001b[32;49mpip install --upgrade pip\u001b[0m\n",
            "Requirement already satisfied: gensim in /Users/jusbrasil/.pyenv/versions/3.11.1/lib/python3.11/site-packages (4.3.2)\n",
            "Requirement already satisfied: numpy>=1.18.5 in /Users/jusbrasil/.pyenv/versions/3.11.1/lib/python3.11/site-packages (from gensim) (1.24.3)\n",
            "Requirement already satisfied: scipy>=1.7.0 in /Users/jusbrasil/.pyenv/versions/3.11.1/lib/python3.11/site-packages (from gensim) (1.11.1)\n",
            "Requirement already satisfied: smart-open>=1.8.1 in /Users/jusbrasil/.pyenv/versions/3.11.1/lib/python3.11/site-packages (from gensim) (6.4.0)\n",
            "\n",
            "\u001b[1m[\u001b[0m\u001b[34;49mnotice\u001b[0m\u001b[1;39;49m]\u001b[0m\u001b[39;49m A new release of pip available: \u001b[0m\u001b[31;49m22.3.1\u001b[0m\u001b[39;49m -> \u001b[0m\u001b[32;49m23.3.1\u001b[0m\n",
            "\u001b[1m[\u001b[0m\u001b[34;49mnotice\u001b[0m\u001b[1;39;49m]\u001b[0m\u001b[39;49m To update, run: \u001b[0m\u001b[32;49mpip install --upgrade pip\u001b[0m\n",
            "Requirement already satisfied: scikit-learn in /Users/jusbrasil/.pyenv/versions/3.11.1/lib/python3.11/site-packages (1.3.2)\n",
            "Requirement already satisfied: numpy<2.0,>=1.17.3 in /Users/jusbrasil/.pyenv/versions/3.11.1/lib/python3.11/site-packages (from scikit-learn) (1.24.3)\n",
            "Requirement already satisfied: scipy>=1.5.0 in /Users/jusbrasil/.pyenv/versions/3.11.1/lib/python3.11/site-packages (from scikit-learn) (1.11.1)\n",
            "Requirement already satisfied: joblib>=1.1.1 in /Users/jusbrasil/.pyenv/versions/3.11.1/lib/python3.11/site-packages (from scikit-learn) (1.3.2)\n",
            "Requirement already satisfied: threadpoolctl>=2.0.0 in /Users/jusbrasil/.pyenv/versions/3.11.1/lib/python3.11/site-packages (from scikit-learn) (3.2.0)\n",
            "\n",
            "\u001b[1m[\u001b[0m\u001b[34;49mnotice\u001b[0m\u001b[1;39;49m]\u001b[0m\u001b[39;49m A new release of pip available: \u001b[0m\u001b[31;49m22.3.1\u001b[0m\u001b[39;49m -> \u001b[0m\u001b[32;49m23.3.1\u001b[0m\n",
            "\u001b[1m[\u001b[0m\u001b[34;49mnotice\u001b[0m\u001b[1;39;49m]\u001b[0m\u001b[39;49m To update, run: \u001b[0m\u001b[32;49mpip install --upgrade pip\u001b[0m\n"
          ]
        }
      ],
      "source": [
        "!pip install keras\n",
        "!pip install tensorflow\n",
        "!pip install tensorflow-hub\n",
        "!pip install seaborn\n",
        "!pip install wordcloud\n",
        "!pip install nltk\n",
        "!pip install gensim\n",
        "!pip install scikit-learn"
      ]
    },
    {
      "cell_type": "code",
      "execution_count": 108,
      "metadata": {
        "id": "7oZH0keZPsJP"
      },
      "outputs": [],
      "source": [
        "# Importing packages\n",
        "import os\n",
        "import nltk\n",
        "import re\n",
        "import string\n",
        "import warnings\n",
        "\n",
        "import matplotlib.pyplot as plt\n",
        "import numpy as np\n",
        "import pandas as pd\n",
        "import seaborn as sns\n",
        "import tensorflow as tf\n",
        "import tensorflow_hub as hub\n",
        "\n",
        "from nltk.stem import PorterStemmer\n",
        "from nltk.stem import WordNetLemmatizer\n",
        "from nltk.corpus import stopwords\n",
        "from sklearn.manifold import TSNE\n",
        "from sklearn.metrics import confusion_matrix\n",
        "from sklearn.metrics import ConfusionMatrixDisplay\n",
        "from sklearn.model_selection import train_test_split, cross_val_score\n",
        "from sklearn.preprocessing import LabelEncoder, LabelBinarizer\n",
        "from wordcloud import WordCloud, STOPWORDS\n",
        "\n",
        "\n",
        "for dirname, _, filenames in os.walk('/kaggle/input'):\n",
        "    for filename in filenames:\n",
        "        print(os.path.join(dirname, filename))"
      ]
    },
    {
      "cell_type": "markdown",
      "metadata": {
        "id": "iM3Q1CuSZOIr"
      },
      "source": [
        "# Data Visualization and Pre-processing"
      ]
    },
    {
      "cell_type": "code",
      "execution_count": 109,
      "metadata": {
        "id": "78sstqCQPzFT"
      },
      "outputs": [],
      "source": [
        "df = pd.read_csv(\"bbc-text.csv\")\n",
        "df = df[['text', 'category']]"
      ]
    },
    {
      "cell_type": "code",
      "execution_count": 110,
      "metadata": {
        "colab": {
          "base_uri": "https://localhost:8080/",
          "height": 175
        },
        "id": "ptF3FJqGP2k7",
        "outputId": "b0f66904-ec85-472c-c4ac-4476c9ef4597"
      },
      "outputs": [
        {
          "data": {
            "text/html": [
              "<div>\n",
              "<style scoped>\n",
              "    .dataframe tbody tr th:only-of-type {\n",
              "        vertical-align: middle;\n",
              "    }\n",
              "\n",
              "    .dataframe tbody tr th {\n",
              "        vertical-align: top;\n",
              "    }\n",
              "\n",
              "    .dataframe thead th {\n",
              "        text-align: right;\n",
              "    }\n",
              "</style>\n",
              "<table border=\"1\" class=\"dataframe\">\n",
              "  <thead>\n",
              "    <tr style=\"text-align: right;\">\n",
              "      <th></th>\n",
              "      <th>text</th>\n",
              "      <th>category</th>\n",
              "    </tr>\n",
              "  </thead>\n",
              "  <tbody>\n",
              "    <tr>\n",
              "      <th>count</th>\n",
              "      <td>2225</td>\n",
              "      <td>2225</td>\n",
              "    </tr>\n",
              "    <tr>\n",
              "      <th>unique</th>\n",
              "      <td>2126</td>\n",
              "      <td>5</td>\n",
              "    </tr>\n",
              "    <tr>\n",
              "      <th>top</th>\n",
              "      <td>kennedy questions trust of blair lib dem leade...</td>\n",
              "      <td>sport</td>\n",
              "    </tr>\n",
              "    <tr>\n",
              "      <th>freq</th>\n",
              "      <td>2</td>\n",
              "      <td>511</td>\n",
              "    </tr>\n",
              "  </tbody>\n",
              "</table>\n",
              "</div>"
            ],
            "text/plain": [
              "                                                     text category\n",
              "count                                                2225     2225\n",
              "unique                                               2126        5\n",
              "top     kennedy questions trust of blair lib dem leade...    sport\n",
              "freq                                                    2      511"
            ]
          },
          "execution_count": 110,
          "metadata": {},
          "output_type": "execute_result"
        }
      ],
      "source": [
        "df.describe(include='all')"
      ]
    },
    {
      "cell_type": "code",
      "execution_count": 111,
      "metadata": {
        "id": "NmLn66ZsP-si"
      },
      "outputs": [],
      "source": [
        "# Avoiding unwanted warnings.\n",
        "warnings.filterwarnings('ignore')"
      ]
    },
    {
      "cell_type": "code",
      "execution_count": 112,
      "metadata": {
        "id": "tb4Et6vWQD15"
      },
      "outputs": [],
      "source": [
        "embed = hub.load(\"https://tfhub.dev/google/universal-sentence-encoder/4\")"
      ]
    },
    {
      "cell_type": "code",
      "execution_count": 113,
      "metadata": {
        "id": "O-M2bACwQF1a"
      },
      "outputs": [],
      "source": [
        "text_vect = embed(df['text'])\n",
        "x_reduced = TSNE(n_components=2, random_state=0).fit_transform(text_vect)"
      ]
    },
    {
      "cell_type": "code",
      "execution_count": 114,
      "metadata": {
        "colab": {
          "base_uri": "https://localhost:8080/",
          "height": 424
        },
        "id": "HSXMITcxQHrP",
        "outputId": "9e722bdf-6216-421a-c816-5e705a848a40"
      },
      "outputs": [
        {
          "name": "stdout",
          "output_type": "stream",
          "text": [
            "           0          1       category\n",
            "0 -26.482426 -35.541965           tech\n",
            "1 -24.379734  -1.249552       business\n",
            "2  51.936264   5.007519          sport\n",
            "3  55.438316  18.857044          sport\n",
            "4   7.079295 -50.518711  entertainment\n",
            "        category  count\n",
            "0          sport    511\n",
            "1       business    510\n",
            "2       politics    417\n",
            "3           tech    401\n",
            "4  entertainment    386\n"
          ]
        },
        {
          "data": {
            "text/html": [
              "<div>\n",
              "<style scoped>\n",
              "    .dataframe tbody tr th:only-of-type {\n",
              "        vertical-align: middle;\n",
              "    }\n",
              "\n",
              "    .dataframe tbody tr th {\n",
              "        vertical-align: top;\n",
              "    }\n",
              "\n",
              "    .dataframe thead th {\n",
              "        text-align: right;\n",
              "    }\n",
              "</style>\n",
              "<table border=\"1\" class=\"dataframe\">\n",
              "  <thead>\n",
              "    <tr style=\"text-align: right;\">\n",
              "      <th></th>\n",
              "      <th>0</th>\n",
              "      <th>1</th>\n",
              "      <th>category</th>\n",
              "      <th>count</th>\n",
              "    </tr>\n",
              "  </thead>\n",
              "  <tbody>\n",
              "    <tr>\n",
              "      <th>0</th>\n",
              "      <td>-26.482426</td>\n",
              "      <td>-35.541965</td>\n",
              "      <td>tech</td>\n",
              "      <td>401</td>\n",
              "    </tr>\n",
              "    <tr>\n",
              "      <th>1</th>\n",
              "      <td>-24.379734</td>\n",
              "      <td>-1.249552</td>\n",
              "      <td>business</td>\n",
              "      <td>510</td>\n",
              "    </tr>\n",
              "    <tr>\n",
              "      <th>2</th>\n",
              "      <td>51.936264</td>\n",
              "      <td>5.007519</td>\n",
              "      <td>sport</td>\n",
              "      <td>511</td>\n",
              "    </tr>\n",
              "    <tr>\n",
              "      <th>3</th>\n",
              "      <td>55.438316</td>\n",
              "      <td>18.857044</td>\n",
              "      <td>sport</td>\n",
              "      <td>511</td>\n",
              "    </tr>\n",
              "    <tr>\n",
              "      <th>4</th>\n",
              "      <td>7.079295</td>\n",
              "      <td>-50.518711</td>\n",
              "      <td>entertainment</td>\n",
              "      <td>386</td>\n",
              "    </tr>\n",
              "    <tr>\n",
              "      <th>...</th>\n",
              "      <td>...</td>\n",
              "      <td>...</td>\n",
              "      <td>...</td>\n",
              "      <td>...</td>\n",
              "    </tr>\n",
              "    <tr>\n",
              "      <th>2220</th>\n",
              "      <td>-52.176918</td>\n",
              "      <td>27.808544</td>\n",
              "      <td>business</td>\n",
              "      <td>510</td>\n",
              "    </tr>\n",
              "    <tr>\n",
              "      <th>2221</th>\n",
              "      <td>-5.694871</td>\n",
              "      <td>19.166719</td>\n",
              "      <td>politics</td>\n",
              "      <td>417</td>\n",
              "    </tr>\n",
              "    <tr>\n",
              "      <th>2222</th>\n",
              "      <td>12.613019</td>\n",
              "      <td>-10.894905</td>\n",
              "      <td>entertainment</td>\n",
              "      <td>386</td>\n",
              "    </tr>\n",
              "    <tr>\n",
              "      <th>2223</th>\n",
              "      <td>3.507278</td>\n",
              "      <td>8.745628</td>\n",
              "      <td>politics</td>\n",
              "      <td>417</td>\n",
              "    </tr>\n",
              "    <tr>\n",
              "      <th>2224</th>\n",
              "      <td>50.541367</td>\n",
              "      <td>16.856836</td>\n",
              "      <td>sport</td>\n",
              "      <td>511</td>\n",
              "    </tr>\n",
              "  </tbody>\n",
              "</table>\n",
              "<p>2225 rows × 4 columns</p>\n",
              "</div>"
            ],
            "text/plain": [
              "              0          1       category  count\n",
              "0    -26.482426 -35.541965           tech    401\n",
              "1    -24.379734  -1.249552       business    510\n",
              "2     51.936264   5.007519          sport    511\n",
              "3     55.438316  18.857044          sport    511\n",
              "4      7.079295 -50.518711  entertainment    386\n",
              "...         ...        ...            ...    ...\n",
              "2220 -52.176918  27.808544       business    510\n",
              "2221  -5.694871  19.166719       politics    417\n",
              "2222  12.613019 -10.894905  entertainment    386\n",
              "2223   3.507278   8.745628       politics    417\n",
              "2224  50.541367  16.856836          sport    511\n",
              "\n",
              "[2225 rows x 4 columns]"
            ]
          },
          "execution_count": 114,
          "metadata": {},
          "output_type": "execute_result"
        }
      ],
      "source": [
        "left = pd.concat([pd.DataFrame(x_reduced),df['category']],axis = 1)\n",
        "print(left.head())\n",
        "right = pd.DataFrame(df['category'].value_counts()).reset_index().rename(columns={\"index\":\"category\"})\n",
        "print(right.head())\n",
        "pd.merge(\n",
        "    left = left,\n",
        "    right = right,\n",
        "    on='category', how='left')"
      ]
    },
    {
      "cell_type": "code",
      "execution_count": 115,
      "metadata": {
        "id": "72ReJwLGQNdI"
      },
      "outputs": [],
      "source": [
        "# Transforming the most used abbraviations.\n",
        "\n",
        "abbreviations = {\n",
        "    \"$\" : \" dollar \",\n",
        "    \"€\" : \" euro \",\n",
        "    \"4ao\" : \"for adults only\",\n",
        "    \"a.m\" : \"before midday\",\n",
        "    \"a3\" : \"anytime anywhere anyplace\",\n",
        "    \"aamof\" : \"as a matter of fact\",\n",
        "    \"acct\" : \"account\",\n",
        "    \"adih\" : \"another day in hell\",\n",
        "    \"afaic\" : \"as far as i am concerned\",\n",
        "    \"afaict\" : \"as far as i can tell\",\n",
        "    \"afaik\" : \"as far as i know\",\n",
        "    \"afair\" : \"as far as i remember\",\n",
        "    \"afk\" : \"away from keyboard\",\n",
        "    \"app\" : \"application\",\n",
        "    \"approx\" : \"approximately\",\n",
        "    \"apps\" : \"applications\",\n",
        "    \"asap\" : \"as soon as possible\",\n",
        "    \"asl\" : \"age, sex, location\",\n",
        "    \"atk\" : \"at the keyboard\",\n",
        "    \"ave.\" : \"avenue\",\n",
        "    \"aymm\" : \"are you my mother\",\n",
        "    \"ayor\" : \"at your own risk\",\n",
        "    \"b&b\" : \"bed and breakfast\",\n",
        "    \"b+b\" : \"bed and breakfast\",\n",
        "    \"b.c\" : \"before christ\",\n",
        "    \"b2b\" : \"business to business\",\n",
        "    \"b2c\" : \"business to customer\",\n",
        "    \"b4\" : \"before\",\n",
        "    \"b4n\" : \"bye for now\",\n",
        "    \"b@u\" : \"back at you\",\n",
        "    \"bae\" : \"before anyone else\",\n",
        "    \"bak\" : \"back at keyboard\",\n",
        "    \"bbbg\" : \"bye bye be good\",\n",
        "    \"bbc\" : \"british broadcasting corporation\",\n",
        "    \"bbias\" : \"be back in a second\",\n",
        "    \"bbl\" : \"be back later\",\n",
        "    \"bbs\" : \"be back soon\",\n",
        "    \"be4\" : \"before\",\n",
        "    \"bfn\" : \"bye for now\",\n",
        "    \"blvd\" : \"boulevard\",\n",
        "    \"bout\" : \"about\",\n",
        "    \"brb\" : \"be right back\",\n",
        "    \"bros\" : \"brothers\",\n",
        "    \"brt\" : \"be right there\",\n",
        "    \"bsaaw\" : \"big smile and a wink\",\n",
        "    \"btw\" : \"by the way\",\n",
        "    \"bwl\" : \"bursting with laughter\",\n",
        "    \"c/o\" : \"care of\",\n",
        "    \"cet\" : \"central european time\",\n",
        "    \"cf\" : \"compare\",\n",
        "    \"cia\" : \"central intelligence agency\",\n",
        "    \"csl\" : \"can not stop laughing\",\n",
        "    \"cu\" : \"see you\",\n",
        "    \"cul8r\" : \"see you later\",\n",
        "    \"cv\" : \"curriculum vitae\",\n",
        "    \"cwot\" : \"complete waste of time\",\n",
        "    \"cya\" : \"see you\",\n",
        "    \"cyt\" : \"see you tomorrow\",\n",
        "    \"dae\" : \"does anyone else\",\n",
        "    \"dbmib\" : \"do not bother me i am busy\",\n",
        "    \"diy\" : \"do it yourself\",\n",
        "    \"dm\" : \"direct message\",\n",
        "    \"dwh\" : \"during work hours\",\n",
        "    \"e123\" : \"easy as one two three\",\n",
        "    \"eet\" : \"eastern european time\",\n",
        "    \"eg\" : \"example\",\n",
        "    \"embm\" : \"early morning business meeting\",\n",
        "    \"encl\" : \"enclosed\",\n",
        "    \"encl.\" : \"enclosed\",\n",
        "    \"etc\" : \"and so on\",\n",
        "    \"faq\" : \"frequently asked questions\",\n",
        "    \"fawc\" : \"for anyone who cares\",\n",
        "    \"fb\" : \"facebook\",\n",
        "    \"fc\" : \"fingers crossed\",\n",
        "    \"fig\" : \"figure\",\n",
        "    \"fimh\" : \"forever in my heart\",\n",
        "    \"ft.\" : \"feet\",\n",
        "    \"ft\" : \"featuring\",\n",
        "    \"ftl\" : \"for the loss\",\n",
        "    \"ftw\" : \"for the win\",\n",
        "    \"fwiw\" : \"for what it is worth\",\n",
        "    \"fyi\" : \"for your information\",\n",
        "    \"g9\" : \"genius\",\n",
        "    \"gahoy\" : \"get a hold of yourself\",\n",
        "    \"gal\" : \"get a life\",\n",
        "    \"gcse\" : \"general certificate of secondary education\",\n",
        "    \"gfn\" : \"gone for now\",\n",
        "    \"gg\" : \"good game\",\n",
        "    \"gl\" : \"good luck\",\n",
        "    \"glhf\" : \"good luck have fun\",\n",
        "    \"gmt\" : \"greenwich mean time\",\n",
        "    \"gmta\" : \"great minds think alike\",\n",
        "    \"gn\" : \"good night\",\n",
        "    \"g.o.a.t\" : \"greatest of all time\",\n",
        "    \"goat\" : \"greatest of all time\",\n",
        "    \"goi\" : \"get over it\",\n",
        "    \"gps\" : \"global positioning system\",\n",
        "    \"gr8\" : \"great\",\n",
        "    \"gratz\" : \"congratulations\",\n",
        "    \"gyal\" : \"girl\",\n",
        "    \"h&c\" : \"hot and cold\",\n",
        "    \"hp\" : \"horsepower\",\n",
        "    \"hr\" : \"hour\",\n",
        "    \"hrh\" : \"his royal highness\",\n",
        "    \"ht\" : \"height\",\n",
        "    \"ibrb\" : \"i will be right back\",\n",
        "    \"ic\" : \"i see\",\n",
        "    \"icq\" : \"i seek you\",\n",
        "    \"icymi\" : \"in case you missed it\",\n",
        "    \"idc\" : \"i do not care\",\n",
        "    \"idgadf\" : \"i do not give a damn fuck\",\n",
        "    \"idgaf\" : \"i do not give a fuck\",\n",
        "    \"idk\" : \"i do not know\",\n",
        "    \"ie\" : \"that is\",\n",
        "    \"i.e\" : \"that is\",\n",
        "    \"ifyp\" : \"i feel your pain\",\n",
        "    \"IG\" : \"instagram\",\n",
        "    \"iirc\" : \"if i remember correctly\",\n",
        "    \"ilu\" : \"i love you\",\n",
        "    \"ily\" : \"i love you\",\n",
        "    \"imho\" : \"in my humble opinion\",\n",
        "    \"imo\" : \"in my opinion\",\n",
        "    \"imu\" : \"i miss you\",\n",
        "    \"iow\" : \"in other words\",\n",
        "    \"irl\" : \"in real life\",\n",
        "    \"j4f\" : \"just for fun\",\n",
        "    \"jic\" : \"just in case\",\n",
        "    \"jk\" : \"just kidding\",\n",
        "    \"jsyk\" : \"just so you know\",\n",
        "    \"l8r\" : \"later\",\n",
        "    \"lb\" : \"pound\",\n",
        "    \"lbs\" : \"pounds\",\n",
        "    \"ldr\" : \"long distance relationship\",\n",
        "    \"lmao\" : \"laugh my ass off\",\n",
        "    \"lmfao\" : \"laugh my fucking ass off\",\n",
        "    \"lol\" : \"laughing out loud\",\n",
        "    \"ltd\" : \"limited\",\n",
        "    \"ltns\" : \"long time no see\",\n",
        "    \"m8\" : \"mate\",\n",
        "    \"mf\" : \"motherfucker\",\n",
        "    \"mfs\" : \"motherfuckers\",\n",
        "    \"mfw\" : \"my face when\",\n",
        "    \"mofo\" : \"motherfucker\",\n",
        "    \"mph\" : \"miles per hour\",\n",
        "    \"mr\" : \"mister\",\n",
        "    \"mrw\" : \"my reaction when\",\n",
        "    \"ms\" : \"miss\",\n",
        "    \"mte\" : \"my thoughts exactly\",\n",
        "    \"nagi\" : \"not a good idea\",\n",
        "    \"nbc\" : \"national broadcasting company\",\n",
        "    \"nbd\" : \"not big deal\",\n",
        "    \"nfs\" : \"not for sale\",\n",
        "    \"ngl\" : \"not going to lie\",\n",
        "    \"nhs\" : \"national health service\",\n",
        "    \"nrn\" : \"no reply necessary\",\n",
        "    \"nsfl\" : \"not safe for life\",\n",
        "    \"nsfw\" : \"not safe for work\",\n",
        "    \"nth\" : \"nice to have\",\n",
        "    \"nvr\" : \"never\",\n",
        "    \"nyc\" : \"new york city\",\n",
        "    \"oc\" : \"original content\",\n",
        "    \"og\" : \"original\",\n",
        "    \"ohp\" : \"overhead projector\",\n",
        "    \"oic\" : \"oh i see\",\n",
        "    \"omdb\" : \"over my dead body\",\n",
        "    \"omg\" : \"oh my god\",\n",
        "    \"omw\" : \"on my way\",\n",
        "    \"p.a\" : \"per annum\",\n",
        "    \"p.m\" : \"after midday\",\n",
        "    \"pm\" : \"prime minister\",\n",
        "    \"poc\" : \"people of color\",\n",
        "    \"pov\" : \"point of view\",\n",
        "    \"pp\" : \"pages\",\n",
        "    \"ppl\" : \"people\",\n",
        "    \"prw\" : \"parents are watching\",\n",
        "    \"ps\" : \"postscript\",\n",
        "    \"pt\" : \"point\",\n",
        "    \"ptb\" : \"please text back\",\n",
        "    \"pto\" : \"please turn over\",\n",
        "    \"qpsa\" : \"what happens\", #\"que pasa\",\n",
        "    \"ratchet\" : \"rude\",\n",
        "    \"rbtl\" : \"read between the lines\",\n",
        "    \"rlrt\" : \"real life retweet\",\n",
        "    \"rofl\" : \"rolling on the floor laughing\",\n",
        "    \"roflol\" : \"rolling on the floor laughing out loud\",\n",
        "    \"rotflmao\" : \"rolling on the floor laughing my ass off\",\n",
        "    \"rt\" : \"retweet\",\n",
        "    \"ruok\" : \"are you ok\",\n",
        "    \"sfw\" : \"safe for work\",\n",
        "    \"sk8\" : \"skate\",\n",
        "    \"smh\" : \"shake my head\",\n",
        "    \"sq\" : \"square\",\n",
        "    \"srsly\" : \"seriously\",\n",
        "    \"ssdd\" : \"same stuff different day\",\n",
        "    \"tbh\" : \"to be honest\",\n",
        "    \"tbs\" : \"tablespooful\",\n",
        "    \"tbsp\" : \"tablespooful\",\n",
        "    \"tfw\" : \"that feeling when\",\n",
        "    \"thks\" : \"thank you\",\n",
        "    \"tho\" : \"though\",\n",
        "    \"thx\" : \"thank you\",\n",
        "    \"tia\" : \"thanks in advance\",\n",
        "    \"til\" : \"today i learned\",\n",
        "    \"tl;dr\" : \"too long i did not read\",\n",
        "    \"tldr\" : \"too long i did not read\",\n",
        "    \"tmb\" : \"tweet me back\",\n",
        "    \"tntl\" : \"trying not to laugh\",\n",
        "    \"ttyl\" : \"talk to you later\",\n",
        "    \"u\" : \"you\",\n",
        "    \"u2\" : \"you too\",\n",
        "    \"u4e\" : \"yours for ever\",\n",
        "    \"utc\" : \"coordinated universal time\",\n",
        "    \"w/\" : \"with\",\n",
        "    \"w/o\" : \"without\",\n",
        "    \"w8\" : \"wait\",\n",
        "    \"wassup\" : \"what is up\",\n",
        "    \"wb\" : \"welcome back\",\n",
        "    \"wtf\" : \"what the fuck\",\n",
        "    \"wtg\" : \"way to go\",\n",
        "    \"wtpa\" : \"where the party at\",\n",
        "    \"wuf\" : \"where are you from\",\n",
        "    \"wuzup\" : \"what is up\",\n",
        "    \"wywh\" : \"wish you were here\",\n",
        "    \"yd\" : \"yard\",\n",
        "    \"ygtr\" : \"you got that right\",\n",
        "    \"ynk\" : \"you never know\",\n",
        "    \"zzz\" : \"sleeping bored and tired\"\n",
        "}"
      ]
    },
    {
      "cell_type": "code",
      "execution_count": 116,
      "metadata": {
        "colab": {
          "base_uri": "https://localhost:8080/",
          "height": 836
        },
        "id": "10wnfcloQQH1",
        "outputId": "9e9b757e-b244-46dc-ef46-2492f70add8c"
      },
      "outputs": [
        {
          "data": {
            "image/png": "[encoded data removed]",
            "text/plain": [
              "<Figure size 800x800 with 1 Axes>"
            ]
          },
          "metadata": {},
          "output_type": "display_data"
        }
      ],
      "source": [
        "#Generating Word Coud\n",
        "\n",
        "token = list(abbreviations.keys())\n",
        "comment_words = ''\n",
        "stopWords = set(STOPWORDS)\n",
        "\n",
        "\n",
        "for i in range(len(token)):\n",
        "    token[i] = token[i].lower()\n",
        "\n",
        "    comment_words += \" \".join(token)+\" \"\n",
        "\n",
        "wordcloud = WordCloud(width = 800, height = 800,\n",
        "                background_color ='white',\n",
        "                stopwords = stopWords,\n",
        "                min_font_size = 10).generate(comment_words)\n",
        "\n",
        "# plot the WordCloud image\n",
        "plt.figure(figsize = (8, 8), facecolor = None)\n",
        "plt.imshow(wordcloud)\n",
        "plt.axis(\"off\")\n",
        "plt.tight_layout(pad = 0)\n",
        "\n",
        "plt.show()"
      ]
    },
    {
      "cell_type": "code",
      "execution_count": 117,
      "metadata": {
        "id": "fTHMtWbnQUdc"
      },
      "outputs": [],
      "source": [
        "# Remove all URLs, replace by URL\n",
        "def remove_URL(text):\n",
        "    url = re.compile(r'https?://\\S+|www\\.\\S+')\n",
        "    return url.sub(r'URL',text)\n",
        "\n",
        "\n",
        "# Remove HTML beacon\n",
        "def remove_HTML(text):\n",
        "    html=re.compile(r'<.*?>')\n",
        "    return html.sub(r'',text)\n",
        "\n",
        "# Remove non printable characters\n",
        "def remove_not_ASCII(text):\n",
        "    text = ''.join([word for word in text if word in string.printable])\n",
        "    return text\n",
        "\n",
        "# Change an abbreviation by its true meaning\n",
        "def word_abbrev(word):\n",
        "    return abbreviations[word.lower()] if word.lower() in abbreviations.keys() else word\n",
        "\n",
        "# Replace all abbreviations\n",
        "def replace_abbrev(text):\n",
        "    string = \"\"\n",
        "    for word in text.split():\n",
        "        string += word_abbrev(word) + \" \"\n",
        "    return string\n",
        "\n",
        "# Remove @ and mention, replace by USER\n",
        "def remove_mention(text):\n",
        "    at=re.compile(r'@\\S+')\n",
        "    return at.sub(r'USER',text)\n",
        "\n",
        "\n",
        "# Remove numbers, replace it by NUMBER\n",
        "def remove_number(text):\n",
        "    num = re.compile(r'[-+]?[.\\d]*[\\d]+[:,.\\d]*')\n",
        "    return num.sub(r'NUMBER', text)\n",
        "\n",
        "\n",
        "\n",
        "# Replace some others smileys with SADFACE\n",
        "def transcription_sad(text):\n",
        "    eyes = \"[8:=;]\"\n",
        "    nose = \"['`\\-]\"\n",
        "    smiley = re.compile(r'[8:=;][\\'\\-]?[(\\\\/]')\n",
        "    return smiley.sub(r'SADFACE', text)\n",
        "\n",
        "\n",
        "# Replace some smileys with SMILE\n",
        "def transcription_smile(text):\n",
        "    eyes = \"[8:=;]\"\n",
        "    nose = \"['`\\-]\"\n",
        "    smiley = re.compile(r'[8:=;][\\'\\-]?[)dDp]')\n",
        "    #smiley = re.compile(r'#{eyes}#{nose}[)d]+|[)d]+#{nose}#{eyes}/i')\n",
        "    return smiley.sub(r'SMILE', text)\n",
        "\n",
        "\n",
        "# Replace <3 with HEART\n",
        "def transcription_heart(text):\n",
        "    heart = re.compile(r'<3')\n",
        "    return heart.sub(r'HEART', text)\n",
        "\n",
        "\n",
        "# Factorize elongated words, add ELONG\n",
        "def remove_elongated_words(text):\n",
        "    rep = re.compile(r'\\b(\\S*?)([a-z])\\2{2,}\\b')\n",
        "    return rep.sub(r'\\1\\2 ELONG', text)\n",
        "\n",
        "\n",
        "# Factorize repeated punctuation, add REPEAT\n",
        "def remove_repeat_punct(text):\n",
        "    rep = re.compile(r'([!?.]){2,}')\n",
        "    return rep.sub(r'\\1 REPEAT', text)\n",
        "\n",
        "\n",
        "\n",
        "# Remove all punctuations\n",
        "def remove_all_punct(text):\n",
        "    table = str.maketrans('','',string.punctuation)\n",
        "    return text.translate(table)\n",
        "\n",
        "\n",
        "# Remove punctuations\n",
        "def remove_punct(text):\n",
        "    punctuations = '@#!?+&*[]-%.:/();$=><|{}^' + \"'`\"\n",
        "    for p in punctuations:\n",
        "        text = text.replace(p, f' {p} ')\n",
        "\n",
        "    text = text.replace('...', ' ... ')\n",
        "    if '...' not in text:\n",
        "        text = text.replace('..', ' ... ')\n",
        "    return text\n",
        "\n",
        "\n",
        "# Remove all english stopwords\n",
        "def remove_stopwords(text):\n",
        "    text = ' '.join([word for word in text.split() if word not in stopwords.words(\"english\")])\n",
        "    return text\n",
        "\n",
        "def stemming(text):\n",
        "    ps = PorterStemmer()\n",
        "    text = ' '.join([ps.stem(word) for word in text.split()])\n",
        "    return text\n",
        "\n",
        "def lemmatization(text):\n",
        "    lm= WordNetLemmatizer()\n",
        "    text = ' '.join([lm.lemmatize(word, pos='v') for word in text.split()])\n",
        "    return text"
      ]
    },
    {
      "cell_type": "code",
      "execution_count": 118,
      "metadata": {
        "id": "dQmcUAWyRRUm"
      },
      "outputs": [],
      "source": [
        "def clean_text(text):\n",
        "\n",
        "    # Remove non text\n",
        "    text = remove_URL(text)\n",
        "    text = remove_HTML(text)\n",
        "    text = remove_not_ASCII(text)\n",
        "\n",
        "    # Lower text, replace abbreviations\n",
        "    text = replace_abbrev(text)\n",
        "    text = remove_mention(text)\n",
        "    text = remove_number(text)\n",
        "\n",
        "    # Remove  smileys\n",
        "\n",
        "    text = transcription_sad(text)\n",
        "    text = transcription_smile(text)\n",
        "    text = transcription_heart(text)\n",
        "\n",
        "    # Remove repeated puntuations / words\n",
        "    text = remove_elongated_words(text)\n",
        "    text = remove_repeat_punct(text)\n",
        "\n",
        "    text = remove_all_punct(text)\n",
        "    text = remove_punct(text)\n",
        "    text = lemmatization(text)\n",
        "    text = text.lower()\n",
        "\n",
        "    return text"
      ]
    },
    {
      "cell_type": "code",
      "execution_count": 119,
      "metadata": {
        "colab": {
          "base_uri": "https://localhost:8080/"
        },
        "id": "EsUGcqV9QyT4",
        "outputId": "84a349c3-258d-4006-e0b7-066514cddb79"
      },
      "outputs": [
        {
          "name": "stderr",
          "output_type": "stream",
          "text": [
            "[nltk_data] Downloading package wordnet to\n",
            "[nltk_data]     /Users/jusbrasil/nltk_data...\n",
            "[nltk_data]   Package wordnet is already up-to-date!\n"
          ]
        },
        {
          "data": {
            "text/plain": [
              "True"
            ]
          },
          "execution_count": 119,
          "metadata": {},
          "output_type": "execute_result"
        }
      ],
      "source": [
        "\n",
        "nltk.download('wordnet')"
      ]
    },
    {
      "cell_type": "code",
      "execution_count": 120,
      "metadata": {
        "id": "SLRcsv92Q4Sy"
      },
      "outputs": [],
      "source": [
        "#cleaning text in data frames\n",
        "df[\"textclean\"] = df[\"text\"].apply(clean_text)"
      ]
    },
    {
      "cell_type": "code",
      "execution_count": 121,
      "metadata": {
        "colab": {
          "base_uri": "https://localhost:8080/"
        },
        "id": "LCoRRaj6RY-P",
        "outputId": "6e758439-74c9-429a-dbae-02f13b766e1d"
      },
      "outputs": [
        {
          "data": {
            "text/plain": [
              "textclean    slovakia reach hopman cup final slovakia will ...\n",
              "text         slovakia reach hopman cup final slovakia will ...\n",
              "category                                                 sport\n",
              "Name: 90, dtype: object"
            ]
          },
          "execution_count": 121,
          "metadata": {},
          "output_type": "execute_result"
        }
      ],
      "source": [
        "df[[\"textclean\", \"text\", \"category\"]].iloc[90]"
      ]
    },
    {
      "cell_type": "code",
      "execution_count": 122,
      "metadata": {
        "colab": {
          "base_uri": "https://localhost:8080/",
          "height": 452
        },
        "id": "yKXbTGYXRdb_",
        "outputId": "7697408d-9e19-4a93-d66d-ad858bc0e008"
      },
      "outputs": [
        {
          "data": {
            "text/plain": [
              "<Axes: >"
            ]
          },
          "execution_count": 122,
          "metadata": {},
          "output_type": "execute_result"
        },
        {
          "data": {
            "image/png": "[encoded data removed]",
            "text/plain": [
              "<Figure size 640x480 with 2 Axes>"
            ]
          },
          "metadata": {},
          "output_type": "display_data"
        }
      ],
      "source": [
        "textclean, text = df[[\"textclean\", \"text\", \"category\"]].iloc[90]['textclean'], df[[\"textclean\", \"text\", \"category\"]].iloc[90]['text']\n",
        "textclean, text = embed([textclean]), embed([text])\n",
        "matrix = np.corrcoef(textclean, text)\n",
        "sns.heatmap(matrix, annot=True)"
      ]
    },
    {
      "cell_type": "code",
      "execution_count": 123,
      "metadata": {
        "id": "C83pW-fJSGVE"
      },
      "outputs": [],
      "source": [
        "sentences = df[\"textclean\"].apply(lambda x: x.lower()).tolist()\n",
        "# generating training data matrix\n",
        "embed_matrix = []\n",
        "for sent in sentences:\n",
        "    embed_matrix.append(np.array(embed([sent])[0]).tolist())"
      ]
    },
    {
      "cell_type": "code",
      "execution_count": 124,
      "metadata": {
        "id": "jUsmgipEShEQ"
      },
      "outputs": [],
      "source": [
        "# Transforming catagories label\n",
        "lb = LabelBinarizer().fit(list(set(df['category'].tolist())))"
      ]
    },
    {
      "cell_type": "code",
      "execution_count": 125,
      "metadata": {
        "id": "E_XLyRdqSAJK"
      },
      "outputs": [],
      "source": [
        "X, Y = np.array(embed_matrix), lb.transform(df['category'].tolist())\n",
        "\n",
        "x_train, x_temp, y_train, y_temp = train_test_split(X, Y, test_size=0.3, random_state=42)\n",
        "x_val, x_test, y_val, y_test = train_test_split(x_temp, y_temp, test_size=0.5, random_state=42)"
      ]
    },
    {
      "cell_type": "code",
      "execution_count": 126,
      "metadata": {
        "colab": {
          "base_uri": "https://localhost:8080/"
        },
        "id": "xHpDOsWURyqx",
        "outputId": "20d7b4eb-d3a7-4919-ac51-7005a7fd60d5"
      },
      "outputs": [
        {
          "name": "stderr",
          "output_type": "stream",
          "text": [
            "WARNING:absl:At this time, the v2.11+ optimizer `tf.keras.optimizers.Adam` runs slowly on M1/M2 Macs, please use the legacy Keras optimizer instead, located at `tf.keras.optimizers.legacy.Adam`.\n",
            "WARNING:absl:There is a known slowdown when using v2.11+ Keras optimizers on M1/M2 Macs. Falling back to the legacy Keras optimizer, i.e., `tf.keras.optimizers.legacy.Adam`.\n"
          ]
        },
        {
          "name": "stdout",
          "output_type": "stream",
          "text": [
            "Epoch 1/5\n",
            "125/125 [==============================] - 0s 1ms/step - loss: 1.1378 - accuracy: 0.7928 - val_loss: 0.5570 - val_accuracy: 0.9840\n",
            "Epoch 2/5\n",
            "125/125 [==============================] - 0s 606us/step - loss: 0.4472 - accuracy: 0.9357 - val_loss: 0.2175 - val_accuracy: 0.9776\n",
            "Epoch 3/5\n",
            "125/125 [==============================] - 0s 618us/step - loss: 0.2557 - accuracy: 0.9398 - val_loss: 0.1307 - val_accuracy: 0.9872\n",
            "Epoch 4/5\n",
            "125/125 [==============================] - 0s 607us/step - loss: 0.1829 - accuracy: 0.9631 - val_loss: 0.0972 - val_accuracy: 0.9840\n",
            "Epoch 5/5\n",
            "125/125 [==============================] - 0s 600us/step - loss: 0.1479 - accuracy: 0.9622 - val_loss: 0.0814 - val_accuracy: 0.9936\n"
          ]
        },
        {
          "name": "stderr",
          "output_type": "stream",
          "text": [
            "WARNING:absl:At this time, the v2.11+ optimizer `tf.keras.optimizers.Adam` runs slowly on M1/M2 Macs, please use the legacy Keras optimizer instead, located at `tf.keras.optimizers.legacy.Adam`.\n",
            "WARNING:absl:There is a known slowdown when using v2.11+ Keras optimizers on M1/M2 Macs. Falling back to the legacy Keras optimizer, i.e., `tf.keras.optimizers.legacy.Adam`.\n"
          ]
        },
        {
          "name": "stdout",
          "output_type": "stream",
          "text": [
            "Epoch 1/20\n",
            "125/125 [==============================] - 0s 1ms/step - loss: 1.1300 - accuracy: 0.7695 - val_loss: 0.5504 - val_accuracy: 0.9679\n",
            "Epoch 2/20\n",
            "125/125 [==============================] - 0s 613us/step - loss: 0.4406 - accuracy: 0.9237 - val_loss: 0.2222 - val_accuracy: 0.9679\n",
            "Epoch 3/20\n",
            "125/125 [==============================] - 0s 617us/step - loss: 0.2522 - accuracy: 0.9486 - val_loss: 0.1367 - val_accuracy: 0.9840\n",
            "Epoch 4/20\n",
            "125/125 [==============================] - 0s 617us/step - loss: 0.1777 - accuracy: 0.9622 - val_loss: 0.1022 - val_accuracy: 0.9776\n",
            "Epoch 5/20\n",
            "125/125 [==============================] - 0s 610us/step - loss: 0.1464 - accuracy: 0.9655 - val_loss: 0.0893 - val_accuracy: 0.9936\n",
            "Epoch 6/20\n",
            "125/125 [==============================] - 0s 610us/step - loss: 0.1265 - accuracy: 0.9719 - val_loss: 0.0732 - val_accuracy: 0.9872\n",
            "Epoch 7/20\n",
            "125/125 [==============================] - 0s 607us/step - loss: 0.1044 - accuracy: 0.9743 - val_loss: 0.0645 - val_accuracy: 0.9840\n",
            "Epoch 8/20\n",
            "125/125 [==============================] - 0s 602us/step - loss: 0.0827 - accuracy: 0.9807 - val_loss: 0.0572 - val_accuracy: 0.9904\n",
            "Epoch 9/20\n",
            "125/125 [==============================] - 0s 600us/step - loss: 0.0733 - accuracy: 0.9855 - val_loss: 0.0560 - val_accuracy: 0.9904\n",
            "Epoch 10/20\n",
            "125/125 [==============================] - 0s 616us/step - loss: 0.0640 - accuracy: 0.9863 - val_loss: 0.0508 - val_accuracy: 0.9904\n",
            "Epoch 11/20\n",
            "125/125 [==============================] - 0s 621us/step - loss: 0.0572 - accuracy: 0.9863 - val_loss: 0.0533 - val_accuracy: 0.9904\n",
            "Epoch 12/20\n",
            "125/125 [==============================] - 0s 643us/step - loss: 0.0504 - accuracy: 0.9904 - val_loss: 0.0501 - val_accuracy: 0.9904\n",
            "Epoch 13/20\n",
            "125/125 [==============================] - 0s 607us/step - loss: 0.0488 - accuracy: 0.9920 - val_loss: 0.0466 - val_accuracy: 0.9904\n",
            "Epoch 14/20\n",
            "125/125 [==============================] - 0s 604us/step - loss: 0.0463 - accuracy: 0.9904 - val_loss: 0.0476 - val_accuracy: 0.9904\n",
            "Epoch 15/20\n",
            "125/125 [==============================] - 0s 595us/step - loss: 0.0404 - accuracy: 0.9904 - val_loss: 0.0410 - val_accuracy: 0.9904\n",
            "Epoch 16/20\n",
            "125/125 [==============================] - 0s 600us/step - loss: 0.0392 - accuracy: 0.9928 - val_loss: 0.0382 - val_accuracy: 0.9904\n",
            "Epoch 17/20\n",
            "125/125 [==============================] - 0s 603us/step - loss: 0.0329 - accuracy: 0.9936 - val_loss: 0.0418 - val_accuracy: 0.9904\n",
            "Epoch 18/20\n",
            "125/125 [==============================] - 0s 603us/step - loss: 0.0270 - accuracy: 0.9960 - val_loss: 0.0471 - val_accuracy: 0.9872\n",
            "Epoch 19/20\n",
            "125/125 [==============================] - 0s 613us/step - loss: 0.0253 - accuracy: 0.9968 - val_loss: 0.0380 - val_accuracy: 0.9904\n",
            "Epoch 20/20\n",
            "125/125 [==============================] - 0s 605us/step - loss: 0.0287 - accuracy: 0.9952 - val_loss: 0.0368 - val_accuracy: 0.9904\n"
          ]
        },
        {
          "name": "stderr",
          "output_type": "stream",
          "text": [
            "WARNING:absl:At this time, the v2.11+ optimizer `tf.keras.optimizers.Adam` runs slowly on M1/M2 Macs, please use the legacy Keras optimizer instead, located at `tf.keras.optimizers.legacy.Adam`.\n",
            "WARNING:absl:There is a known slowdown when using v2.11+ Keras optimizers on M1/M2 Macs. Falling back to the legacy Keras optimizer, i.e., `tf.keras.optimizers.legacy.Adam`.\n"
          ]
        },
        {
          "name": "stdout",
          "output_type": "stream",
          "text": [
            "Epoch 1/40\n",
            "125/125 [==============================] - 0s 1ms/step - loss: 1.1754 - accuracy: 0.7357 - val_loss: 0.5921 - val_accuracy: 0.9744\n",
            "Epoch 2/40\n",
            "125/125 [==============================] - 0s 638us/step - loss: 0.4532 - accuracy: 0.9373 - val_loss: 0.2179 - val_accuracy: 0.9744\n",
            "Epoch 3/40\n",
            "125/125 [==============================] - 0s 610us/step - loss: 0.2513 - accuracy: 0.9518 - val_loss: 0.1321 - val_accuracy: 0.9840\n",
            "Epoch 4/40\n",
            "125/125 [==============================] - 0s 606us/step - loss: 0.1789 - accuracy: 0.9614 - val_loss: 0.0984 - val_accuracy: 0.9840\n",
            "Epoch 5/40\n",
            "125/125 [==============================] - 0s 630us/step - loss: 0.1391 - accuracy: 0.9695 - val_loss: 0.0802 - val_accuracy: 0.9872\n",
            "Epoch 6/40\n",
            "125/125 [==============================] - 0s 619us/step - loss: 0.1197 - accuracy: 0.9687 - val_loss: 0.0698 - val_accuracy: 0.9936\n",
            "Epoch 7/40\n",
            "125/125 [==============================] - 0s 599us/step - loss: 0.1005 - accuracy: 0.9767 - val_loss: 0.0679 - val_accuracy: 0.9840\n",
            "Epoch 8/40\n",
            "125/125 [==============================] - 0s 609us/step - loss: 0.0871 - accuracy: 0.9799 - val_loss: 0.0626 - val_accuracy: 0.9904\n",
            "Epoch 9/40\n",
            "125/125 [==============================] - 0s 599us/step - loss: 0.0755 - accuracy: 0.9831 - val_loss: 0.0551 - val_accuracy: 0.9872\n",
            "Epoch 10/40\n",
            "125/125 [==============================] - 0s 617us/step - loss: 0.0768 - accuracy: 0.9807 - val_loss: 0.0507 - val_accuracy: 0.9904\n",
            "Epoch 11/40\n",
            "125/125 [==============================] - 0s 598us/step - loss: 0.0593 - accuracy: 0.9863 - val_loss: 0.0480 - val_accuracy: 0.9904\n",
            "Epoch 12/40\n",
            "125/125 [==============================] - 0s 609us/step - loss: 0.0484 - accuracy: 0.9920 - val_loss: 0.0462 - val_accuracy: 0.9904\n",
            "Epoch 13/40\n",
            "125/125 [==============================] - 0s 605us/step - loss: 0.0441 - accuracy: 0.9928 - val_loss: 0.0426 - val_accuracy: 0.9904\n",
            "Epoch 14/40\n",
            "125/125 [==============================] - 0s 627us/step - loss: 0.0419 - accuracy: 0.9880 - val_loss: 0.0461 - val_accuracy: 0.9904\n",
            "Epoch 15/40\n",
            "125/125 [==============================] - 0s 594us/step - loss: 0.0349 - accuracy: 0.9928 - val_loss: 0.0421 - val_accuracy: 0.9904\n",
            "Epoch 16/40\n",
            "125/125 [==============================] - 0s 595us/step - loss: 0.0369 - accuracy: 0.9944 - val_loss: 0.0427 - val_accuracy: 0.9904\n",
            "Epoch 17/40\n",
            "125/125 [==============================] - 0s 610us/step - loss: 0.0283 - accuracy: 0.9968 - val_loss: 0.0436 - val_accuracy: 0.9904\n",
            "Epoch 18/40\n",
            "125/125 [==============================] - 0s 608us/step - loss: 0.0287 - accuracy: 0.9920 - val_loss: 0.0398 - val_accuracy: 0.9904\n",
            "Epoch 19/40\n",
            "125/125 [==============================] - 0s 606us/step - loss: 0.0230 - accuracy: 0.9952 - val_loss: 0.0383 - val_accuracy: 0.9904\n",
            "Epoch 20/40\n",
            "125/125 [==============================] - 0s 623us/step - loss: 0.0224 - accuracy: 0.9976 - val_loss: 0.0409 - val_accuracy: 0.9872\n",
            "Epoch 21/40\n",
            "125/125 [==============================] - 0s 620us/step - loss: 0.0179 - accuracy: 0.9984 - val_loss: 0.0429 - val_accuracy: 0.9872\n",
            "Epoch 22/40\n",
            "125/125 [==============================] - 0s 634us/step - loss: 0.0222 - accuracy: 0.9952 - val_loss: 0.0441 - val_accuracy: 0.9840\n",
            "Epoch 23/40\n",
            "125/125 [==============================] - 0s 595us/step - loss: 0.0220 - accuracy: 0.9944 - val_loss: 0.0464 - val_accuracy: 0.9840\n",
            "Epoch 24/40\n",
            "125/125 [==============================] - 0s 613us/step - loss: 0.0177 - accuracy: 0.9976 - val_loss: 0.0481 - val_accuracy: 0.9872\n",
            "Epoch 25/40\n",
            "125/125 [==============================] - 0s 620us/step - loss: 0.0158 - accuracy: 0.9992 - val_loss: 0.0434 - val_accuracy: 0.9808\n",
            "Epoch 26/40\n",
            "125/125 [==============================] - 0s 599us/step - loss: 0.0124 - accuracy: 0.9992 - val_loss: 0.0494 - val_accuracy: 0.9808\n",
            "Epoch 27/40\n",
            "125/125 [==============================] - 0s 604us/step - loss: 0.0149 - accuracy: 0.9976 - val_loss: 0.0407 - val_accuracy: 0.9840\n",
            "Epoch 28/40\n",
            "125/125 [==============================] - 0s 626us/step - loss: 0.0105 - accuracy: 0.9992 - val_loss: 0.0390 - val_accuracy: 0.9840\n",
            "Epoch 29/40\n",
            "125/125 [==============================] - 0s 620us/step - loss: 0.0129 - accuracy: 0.9976 - val_loss: 0.0426 - val_accuracy: 0.9840\n",
            "Epoch 30/40\n",
            "125/125 [==============================] - 0s 807us/step - loss: 0.0107 - accuracy: 0.9984 - val_loss: 0.0397 - val_accuracy: 0.9872\n",
            "Epoch 31/40\n",
            "125/125 [==============================] - 0s 611us/step - loss: 0.0104 - accuracy: 0.9984 - val_loss: 0.0366 - val_accuracy: 0.9840\n",
            "Epoch 32/40\n",
            "125/125 [==============================] - 0s 602us/step - loss: 0.0089 - accuracy: 0.9992 - val_loss: 0.0439 - val_accuracy: 0.9872\n",
            "Epoch 33/40\n",
            "125/125 [==============================] - 0s 601us/step - loss: 0.0092 - accuracy: 0.9992 - val_loss: 0.0423 - val_accuracy: 0.9872\n",
            "Epoch 34/40\n",
            "125/125 [==============================] - 0s 600us/step - loss: 0.0077 - accuracy: 1.0000 - val_loss: 0.0379 - val_accuracy: 0.9872\n",
            "Epoch 35/40\n",
            "125/125 [==============================] - 0s 599us/step - loss: 0.0096 - accuracy: 0.9984 - val_loss: 0.0452 - val_accuracy: 0.9872\n",
            "Epoch 36/40\n",
            "125/125 [==============================] - 0s 616us/step - loss: 0.0069 - accuracy: 1.0000 - val_loss: 0.0465 - val_accuracy: 0.9776\n",
            "Epoch 37/40\n",
            "125/125 [==============================] - 0s 603us/step - loss: 0.0079 - accuracy: 0.9992 - val_loss: 0.0417 - val_accuracy: 0.9872\n",
            "Epoch 38/40\n",
            "125/125 [==============================] - 0s 598us/step - loss: 0.0087 - accuracy: 0.9992 - val_loss: 0.0505 - val_accuracy: 0.9808\n",
            "Epoch 39/40\n",
            "125/125 [==============================] - 0s 605us/step - loss: 0.0054 - accuracy: 1.0000 - val_loss: 0.0407 - val_accuracy: 0.9840\n",
            "Epoch 40/40\n",
            "125/125 [==============================] - 0s 612us/step - loss: 0.0062 - accuracy: 0.9992 - val_loss: 0.0411 - val_accuracy: 0.9840\n"
          ]
        },
        {
          "name": "stderr",
          "output_type": "stream",
          "text": [
            "WARNING:absl:At this time, the v2.11+ optimizer `tf.keras.optimizers.Adam` runs slowly on M1/M2 Macs, please use the legacy Keras optimizer instead, located at `tf.keras.optimizers.legacy.Adam`.\n",
            "WARNING:absl:There is a known slowdown when using v2.11+ Keras optimizers on M1/M2 Macs. Falling back to the legacy Keras optimizer, i.e., `tf.keras.optimizers.legacy.Adam`.\n"
          ]
        },
        {
          "name": "stdout",
          "output_type": "stream",
          "text": [
            "Epoch 1/5\n",
            "125/125 [==============================] - 0s 1ms/step - loss: 0.9908 - accuracy: 0.8273 - val_loss: 0.3518 - val_accuracy: 0.9712\n",
            "Epoch 2/5\n",
            "125/125 [==============================] - 0s 669us/step - loss: 0.2824 - accuracy: 0.9550 - val_loss: 0.1410 - val_accuracy: 0.9808\n",
            "Epoch 3/5\n",
            "125/125 [==============================] - 0s 681us/step - loss: 0.1573 - accuracy: 0.9647 - val_loss: 0.0942 - val_accuracy: 0.9744\n",
            "Epoch 4/5\n",
            "125/125 [==============================] - 0s 659us/step - loss: 0.1095 - accuracy: 0.9727 - val_loss: 0.0736 - val_accuracy: 0.9872\n",
            "Epoch 5/5\n",
            "125/125 [==============================] - 0s 681us/step - loss: 0.0881 - accuracy: 0.9815 - val_loss: 0.0680 - val_accuracy: 0.9936\n"
          ]
        },
        {
          "name": "stderr",
          "output_type": "stream",
          "text": [
            "WARNING:absl:At this time, the v2.11+ optimizer `tf.keras.optimizers.Adam` runs slowly on M1/M2 Macs, please use the legacy Keras optimizer instead, located at `tf.keras.optimizers.legacy.Adam`.\n",
            "WARNING:absl:There is a known slowdown when using v2.11+ Keras optimizers on M1/M2 Macs. Falling back to the legacy Keras optimizer, i.e., `tf.keras.optimizers.legacy.Adam`.\n"
          ]
        },
        {
          "name": "stdout",
          "output_type": "stream",
          "text": [
            "Epoch 1/20\n",
            "125/125 [==============================] - 0s 1ms/step - loss: 0.9700 - accuracy: 0.8201 - val_loss: 0.3545 - val_accuracy: 0.9712\n",
            "Epoch 2/20\n",
            "125/125 [==============================] - 0s 677us/step - loss: 0.2795 - accuracy: 0.9558 - val_loss: 0.1415 - val_accuracy: 0.9808\n",
            "Epoch 3/20\n",
            "125/125 [==============================] - 0s 662us/step - loss: 0.1620 - accuracy: 0.9614 - val_loss: 0.0949 - val_accuracy: 0.9904\n",
            "Epoch 4/20\n",
            "125/125 [==============================] - 0s 656us/step - loss: 0.1105 - accuracy: 0.9751 - val_loss: 0.0756 - val_accuracy: 0.9872\n",
            "Epoch 5/20\n",
            "125/125 [==============================] - 0s 666us/step - loss: 0.0937 - accuracy: 0.9743 - val_loss: 0.0693 - val_accuracy: 0.9872\n",
            "Epoch 6/20\n",
            "125/125 [==============================] - 0s 679us/step - loss: 0.0725 - accuracy: 0.9847 - val_loss: 0.0569 - val_accuracy: 0.9904\n",
            "Epoch 7/20\n",
            "125/125 [==============================] - 0s 716us/step - loss: 0.0621 - accuracy: 0.9847 - val_loss: 0.0545 - val_accuracy: 0.9872\n",
            "Epoch 8/20\n",
            "125/125 [==============================] - 0s 659us/step - loss: 0.0457 - accuracy: 0.9920 - val_loss: 0.0493 - val_accuracy: 0.9904\n",
            "Epoch 9/20\n",
            "125/125 [==============================] - 0s 667us/step - loss: 0.0432 - accuracy: 0.9920 - val_loss: 0.0518 - val_accuracy: 0.9840\n",
            "Epoch 10/20\n",
            "125/125 [==============================] - 0s 668us/step - loss: 0.0337 - accuracy: 0.9952 - val_loss: 0.0430 - val_accuracy: 0.9904\n",
            "Epoch 11/20\n",
            "125/125 [==============================] - 0s 660us/step - loss: 0.0282 - accuracy: 0.9960 - val_loss: 0.0410 - val_accuracy: 0.9904\n",
            "Epoch 12/20\n",
            "125/125 [==============================] - 0s 672us/step - loss: 0.0251 - accuracy: 0.9960 - val_loss: 0.0434 - val_accuracy: 0.9872\n",
            "Epoch 13/20\n",
            "125/125 [==============================] - 0s 674us/step - loss: 0.0269 - accuracy: 0.9952 - val_loss: 0.0477 - val_accuracy: 0.9872\n",
            "Epoch 14/20\n",
            "125/125 [==============================] - 0s 675us/step - loss: 0.0189 - accuracy: 0.9976 - val_loss: 0.0383 - val_accuracy: 0.9872\n",
            "Epoch 15/20\n",
            "125/125 [==============================] - 0s 660us/step - loss: 0.0170 - accuracy: 0.9992 - val_loss: 0.0390 - val_accuracy: 0.9872\n",
            "Epoch 16/20\n",
            "125/125 [==============================] - 0s 668us/step - loss: 0.0153 - accuracy: 0.9976 - val_loss: 0.0377 - val_accuracy: 0.9872\n",
            "Epoch 17/20\n",
            "125/125 [==============================] - 0s 657us/step - loss: 0.0165 - accuracy: 0.9968 - val_loss: 0.0379 - val_accuracy: 0.9872\n",
            "Epoch 18/20\n",
            "125/125 [==============================] - 0s 660us/step - loss: 0.0121 - accuracy: 0.9984 - val_loss: 0.0395 - val_accuracy: 0.9872\n",
            "Epoch 19/20\n",
            "125/125 [==============================] - 0s 664us/step - loss: 0.0108 - accuracy: 0.9984 - val_loss: 0.0433 - val_accuracy: 0.9872\n",
            "Epoch 20/20\n",
            "125/125 [==============================] - 0s 667us/step - loss: 0.0106 - accuracy: 1.0000 - val_loss: 0.0345 - val_accuracy: 0.9872\n"
          ]
        },
        {
          "name": "stderr",
          "output_type": "stream",
          "text": [
            "WARNING:absl:At this time, the v2.11+ optimizer `tf.keras.optimizers.Adam` runs slowly on M1/M2 Macs, please use the legacy Keras optimizer instead, located at `tf.keras.optimizers.legacy.Adam`.\n",
            "WARNING:absl:There is a known slowdown when using v2.11+ Keras optimizers on M1/M2 Macs. Falling back to the legacy Keras optimizer, i.e., `tf.keras.optimizers.legacy.Adam`.\n"
          ]
        },
        {
          "name": "stdout",
          "output_type": "stream",
          "text": [
            "Epoch 1/40\n",
            "125/125 [==============================] - 0s 1ms/step - loss: 0.9712 - accuracy: 0.7992 - val_loss: 0.3466 - val_accuracy: 0.9744\n",
            "Epoch 2/40\n",
            "125/125 [==============================] - 0s 674us/step - loss: 0.2738 - accuracy: 0.9518 - val_loss: 0.1448 - val_accuracy: 0.9776\n",
            "Epoch 3/40\n",
            "125/125 [==============================] - 0s 665us/step - loss: 0.1656 - accuracy: 0.9647 - val_loss: 0.0968 - val_accuracy: 0.9776\n",
            "Epoch 4/40\n",
            "125/125 [==============================] - 0s 653us/step - loss: 0.1241 - accuracy: 0.9663 - val_loss: 0.0777 - val_accuracy: 0.9808\n",
            "Epoch 5/40\n",
            "125/125 [==============================] - 0s 672us/step - loss: 0.0916 - accuracy: 0.9791 - val_loss: 0.0714 - val_accuracy: 0.9904\n",
            "Epoch 6/40\n",
            "125/125 [==============================] - 0s 660us/step - loss: 0.0701 - accuracy: 0.9847 - val_loss: 0.0608 - val_accuracy: 0.9936\n",
            "Epoch 7/40\n",
            "125/125 [==============================] - 0s 655us/step - loss: 0.0623 - accuracy: 0.9823 - val_loss: 0.0550 - val_accuracy: 0.9808\n",
            "Epoch 8/40\n",
            "125/125 [==============================] - 0s 665us/step - loss: 0.0502 - accuracy: 0.9880 - val_loss: 0.0531 - val_accuracy: 0.9936\n",
            "Epoch 9/40\n",
            "125/125 [==============================] - 0s 672us/step - loss: 0.0445 - accuracy: 0.9888 - val_loss: 0.0436 - val_accuracy: 0.9904\n",
            "Epoch 10/40\n",
            "125/125 [==============================] - 0s 659us/step - loss: 0.0332 - accuracy: 0.9936 - val_loss: 0.0426 - val_accuracy: 0.9904\n",
            "Epoch 11/40\n",
            "125/125 [==============================] - 0s 655us/step - loss: 0.0327 - accuracy: 0.9944 - val_loss: 0.0426 - val_accuracy: 0.9904\n",
            "Epoch 12/40\n",
            "125/125 [==============================] - 0s 670us/step - loss: 0.0276 - accuracy: 0.9936 - val_loss: 0.0458 - val_accuracy: 0.9904\n",
            "Epoch 13/40\n",
            "125/125 [==============================] - 0s 685us/step - loss: 0.0223 - accuracy: 0.9960 - val_loss: 0.0403 - val_accuracy: 0.9872\n",
            "Epoch 14/40\n",
            "125/125 [==============================] - 0s 672us/step - loss: 0.0221 - accuracy: 0.9960 - val_loss: 0.0410 - val_accuracy: 0.9904\n",
            "Epoch 15/40\n",
            "125/125 [==============================] - 0s 655us/step - loss: 0.0184 - accuracy: 0.9960 - val_loss: 0.0417 - val_accuracy: 0.9904\n",
            "Epoch 16/40\n",
            "125/125 [==============================] - 0s 669us/step - loss: 0.0164 - accuracy: 0.9968 - val_loss: 0.0412 - val_accuracy: 0.9904\n",
            "Epoch 17/40\n",
            "125/125 [==============================] - 0s 660us/step - loss: 0.0131 - accuracy: 0.9984 - val_loss: 0.0426 - val_accuracy: 0.9840\n",
            "Epoch 18/40\n",
            "125/125 [==============================] - 0s 667us/step - loss: 0.0134 - accuracy: 0.9984 - val_loss: 0.0466 - val_accuracy: 0.9840\n",
            "Epoch 19/40\n",
            "125/125 [==============================] - 0s 683us/step - loss: 0.0122 - accuracy: 0.9984 - val_loss: 0.0431 - val_accuracy: 0.9872\n",
            "Epoch 20/40\n",
            "125/125 [==============================] - 0s 657us/step - loss: 0.0083 - accuracy: 1.0000 - val_loss: 0.0411 - val_accuracy: 0.9872\n",
            "Epoch 21/40\n",
            "125/125 [==============================] - 0s 664us/step - loss: 0.0085 - accuracy: 1.0000 - val_loss: 0.0431 - val_accuracy: 0.9840\n",
            "Epoch 22/40\n",
            "125/125 [==============================] - 0s 659us/step - loss: 0.0070 - accuracy: 1.0000 - val_loss: 0.0421 - val_accuracy: 0.9840\n",
            "Epoch 23/40\n",
            "125/125 [==============================] - 0s 662us/step - loss: 0.0072 - accuracy: 0.9992 - val_loss: 0.0424 - val_accuracy: 0.9872\n",
            "Epoch 24/40\n",
            "125/125 [==============================] - 0s 653us/step - loss: 0.0095 - accuracy: 0.9984 - val_loss: 0.0406 - val_accuracy: 0.9872\n",
            "Epoch 25/40\n",
            "125/125 [==============================] - 0s 662us/step - loss: 0.0067 - accuracy: 1.0000 - val_loss: 0.0480 - val_accuracy: 0.9872\n",
            "Epoch 26/40\n",
            "125/125 [==============================] - 0s 655us/step - loss: 0.0056 - accuracy: 1.0000 - val_loss: 0.0419 - val_accuracy: 0.9872\n",
            "Epoch 27/40\n",
            "125/125 [==============================] - 0s 652us/step - loss: 0.0058 - accuracy: 1.0000 - val_loss: 0.0413 - val_accuracy: 0.9840\n",
            "Epoch 28/40\n",
            "125/125 [==============================] - 0s 663us/step - loss: 0.0055 - accuracy: 1.0000 - val_loss: 0.0485 - val_accuracy: 0.9808\n",
            "Epoch 29/40\n",
            "125/125 [==============================] - 0s 665us/step - loss: 0.0046 - accuracy: 1.0000 - val_loss: 0.0426 - val_accuracy: 0.9840\n",
            "Epoch 30/40\n",
            "125/125 [==============================] - 0s 658us/step - loss: 0.0040 - accuracy: 1.0000 - val_loss: 0.0422 - val_accuracy: 0.9840\n",
            "Epoch 31/40\n",
            "125/125 [==============================] - 0s 661us/step - loss: 0.0039 - accuracy: 1.0000 - val_loss: 0.0484 - val_accuracy: 0.9872\n",
            "Epoch 32/40\n",
            "125/125 [==============================] - 0s 663us/step - loss: 0.0027 - accuracy: 1.0000 - val_loss: 0.0443 - val_accuracy: 0.9840\n",
            "Epoch 33/40\n",
            "125/125 [==============================] - 0s 814us/step - loss: 0.0030 - accuracy: 1.0000 - val_loss: 0.0496 - val_accuracy: 0.9840\n",
            "Epoch 34/40\n",
            "125/125 [==============================] - 0s 674us/step - loss: 0.0024 - accuracy: 1.0000 - val_loss: 0.0447 - val_accuracy: 0.9872\n",
            "Epoch 35/40\n",
            "125/125 [==============================] - 0s 660us/step - loss: 0.0040 - accuracy: 0.9992 - val_loss: 0.0618 - val_accuracy: 0.9776\n",
            "Epoch 36/40\n",
            "125/125 [==============================] - 0s 662us/step - loss: 0.0022 - accuracy: 1.0000 - val_loss: 0.0445 - val_accuracy: 0.9840\n",
            "Epoch 37/40\n",
            "125/125 [==============================] - 0s 677us/step - loss: 0.0021 - accuracy: 1.0000 - val_loss: 0.0433 - val_accuracy: 0.9840\n",
            "Epoch 38/40\n",
            "125/125 [==============================] - 0s 685us/step - loss: 0.0022 - accuracy: 1.0000 - val_loss: 0.0472 - val_accuracy: 0.9872\n",
            "Epoch 39/40\n",
            "125/125 [==============================] - 0s 680us/step - loss: 0.0014 - accuracy: 1.0000 - val_loss: 0.0458 - val_accuracy: 0.9872\n",
            "Epoch 40/40\n",
            "125/125 [==============================] - 0s 686us/step - loss: 0.0016 - accuracy: 1.0000 - val_loss: 0.0524 - val_accuracy: 0.9776\n"
          ]
        },
        {
          "name": "stderr",
          "output_type": "stream",
          "text": [
            "WARNING:absl:At this time, the v2.11+ optimizer `tf.keras.optimizers.Adam` runs slowly on M1/M2 Macs, please use the legacy Keras optimizer instead, located at `tf.keras.optimizers.legacy.Adam`.\n",
            "WARNING:absl:There is a known slowdown when using v2.11+ Keras optimizers on M1/M2 Macs. Falling back to the legacy Keras optimizer, i.e., `tf.keras.optimizers.legacy.Adam`.\n"
          ]
        },
        {
          "name": "stdout",
          "output_type": "stream",
          "text": [
            "Epoch 1/5\n",
            "125/125 [==============================] - 0s 1ms/step - loss: 0.8045 - accuracy: 0.8506 - val_loss: 0.2183 - val_accuracy: 0.9904\n",
            "Epoch 2/5\n",
            "125/125 [==============================] - 0s 762us/step - loss: 0.1823 - accuracy: 0.9574 - val_loss: 0.1018 - val_accuracy: 0.9808\n",
            "Epoch 3/5\n",
            "125/125 [==============================] - 0s 754us/step - loss: 0.1075 - accuracy: 0.9759 - val_loss: 0.0727 - val_accuracy: 0.9872\n",
            "Epoch 4/5\n",
            "125/125 [==============================] - 0s 768us/step - loss: 0.0758 - accuracy: 0.9847 - val_loss: 0.0587 - val_accuracy: 0.9904\n",
            "Epoch 5/5\n",
            "125/125 [==============================] - 0s 757us/step - loss: 0.0543 - accuracy: 0.9888 - val_loss: 0.0564 - val_accuracy: 0.9840\n"
          ]
        },
        {
          "name": "stderr",
          "output_type": "stream",
          "text": [
            "WARNING:absl:At this time, the v2.11+ optimizer `tf.keras.optimizers.Adam` runs slowly on M1/M2 Macs, please use the legacy Keras optimizer instead, located at `tf.keras.optimizers.legacy.Adam`.\n",
            "WARNING:absl:There is a known slowdown when using v2.11+ Keras optimizers on M1/M2 Macs. Falling back to the legacy Keras optimizer, i.e., `tf.keras.optimizers.legacy.Adam`.\n"
          ]
        },
        {
          "name": "stdout",
          "output_type": "stream",
          "text": [
            "Epoch 1/20\n",
            "125/125 [==============================] - 0s 1ms/step - loss: 0.7942 - accuracy: 0.8618 - val_loss: 0.2158 - val_accuracy: 0.9808\n",
            "Epoch 2/20\n",
            "125/125 [==============================] - 0s 769us/step - loss: 0.1840 - accuracy: 0.9631 - val_loss: 0.1050 - val_accuracy: 0.9808\n",
            "Epoch 3/20\n",
            "125/125 [==============================] - 0s 750us/step - loss: 0.1067 - accuracy: 0.9743 - val_loss: 0.0726 - val_accuracy: 0.9872\n",
            "Epoch 4/20\n",
            "125/125 [==============================] - 0s 759us/step - loss: 0.0817 - accuracy: 0.9823 - val_loss: 0.0595 - val_accuracy: 0.9904\n",
            "Epoch 5/20\n",
            "125/125 [==============================] - 0s 741us/step - loss: 0.0522 - accuracy: 0.9912 - val_loss: 0.0607 - val_accuracy: 0.9904\n",
            "Epoch 6/20\n",
            "125/125 [==============================] - 0s 742us/step - loss: 0.0422 - accuracy: 0.9928 - val_loss: 0.0583 - val_accuracy: 0.9808\n",
            "Epoch 7/20\n",
            "125/125 [==============================] - 0s 748us/step - loss: 0.0349 - accuracy: 0.9928 - val_loss: 0.0483 - val_accuracy: 0.9872\n",
            "Epoch 8/20\n",
            "125/125 [==============================] - 0s 730us/step - loss: 0.0270 - accuracy: 0.9952 - val_loss: 0.0437 - val_accuracy: 0.9872\n",
            "Epoch 9/20\n",
            "125/125 [==============================] - 0s 761us/step - loss: 0.0239 - accuracy: 0.9960 - val_loss: 0.0567 - val_accuracy: 0.9808\n",
            "Epoch 10/20\n",
            "125/125 [==============================] - 0s 740us/step - loss: 0.0177 - accuracy: 0.9976 - val_loss: 0.0392 - val_accuracy: 0.9840\n",
            "Epoch 11/20\n",
            "125/125 [==============================] - 0s 756us/step - loss: 0.0151 - accuracy: 0.9976 - val_loss: 0.0516 - val_accuracy: 0.9872\n",
            "Epoch 12/20\n",
            "125/125 [==============================] - 0s 744us/step - loss: 0.0130 - accuracy: 1.0000 - val_loss: 0.0409 - val_accuracy: 0.9808\n",
            "Epoch 13/20\n",
            "125/125 [==============================] - 0s 750us/step - loss: 0.0121 - accuracy: 1.0000 - val_loss: 0.0417 - val_accuracy: 0.9840\n",
            "Epoch 14/20\n",
            "125/125 [==============================] - 0s 747us/step - loss: 0.0099 - accuracy: 0.9992 - val_loss: 0.0427 - val_accuracy: 0.9872\n",
            "Epoch 15/20\n",
            "125/125 [==============================] - 0s 756us/step - loss: 0.0070 - accuracy: 1.0000 - val_loss: 0.0446 - val_accuracy: 0.9840\n",
            "Epoch 16/20\n",
            "125/125 [==============================] - 0s 758us/step - loss: 0.0077 - accuracy: 1.0000 - val_loss: 0.0379 - val_accuracy: 0.9872\n",
            "Epoch 17/20\n",
            "125/125 [==============================] - 0s 749us/step - loss: 0.0067 - accuracy: 1.0000 - val_loss: 0.0394 - val_accuracy: 0.9872\n",
            "Epoch 18/20\n",
            "125/125 [==============================] - 0s 745us/step - loss: 0.0056 - accuracy: 0.9984 - val_loss: 0.0404 - val_accuracy: 0.9872\n",
            "Epoch 19/20\n",
            "125/125 [==============================] - 0s 751us/step - loss: 0.0054 - accuracy: 1.0000 - val_loss: 0.0372 - val_accuracy: 0.9840\n",
            "Epoch 20/20\n",
            "125/125 [==============================] - 0s 776us/step - loss: 0.0037 - accuracy: 1.0000 - val_loss: 0.0381 - val_accuracy: 0.9840\n"
          ]
        },
        {
          "name": "stderr",
          "output_type": "stream",
          "text": [
            "WARNING:absl:At this time, the v2.11+ optimizer `tf.keras.optimizers.Adam` runs slowly on M1/M2 Macs, please use the legacy Keras optimizer instead, located at `tf.keras.optimizers.legacy.Adam`.\n",
            "WARNING:absl:There is a known slowdown when using v2.11+ Keras optimizers on M1/M2 Macs. Falling back to the legacy Keras optimizer, i.e., `tf.keras.optimizers.legacy.Adam`.\n"
          ]
        },
        {
          "name": "stdout",
          "output_type": "stream",
          "text": [
            "Epoch 1/40\n",
            "125/125 [==============================] - 0s 1ms/step - loss: 0.8150 - accuracy: 0.8386 - val_loss: 0.2283 - val_accuracy: 0.9808\n",
            "Epoch 2/40\n",
            "125/125 [==============================] - 0s 776us/step - loss: 0.1871 - accuracy: 0.9590 - val_loss: 0.1043 - val_accuracy: 0.9808\n",
            "Epoch 3/40\n",
            "125/125 [==============================] - 0s 764us/step - loss: 0.1117 - accuracy: 0.9727 - val_loss: 0.0749 - val_accuracy: 0.9872\n",
            "Epoch 4/40\n",
            "125/125 [==============================] - 0s 766us/step - loss: 0.0758 - accuracy: 0.9847 - val_loss: 0.0634 - val_accuracy: 0.9872\n",
            "Epoch 5/40\n",
            "125/125 [==============================] - 0s 795us/step - loss: 0.0598 - accuracy: 0.9863 - val_loss: 0.0599 - val_accuracy: 0.9872\n",
            "Epoch 6/40\n",
            "125/125 [==============================] - 0s 788us/step - loss: 0.0498 - accuracy: 0.9896 - val_loss: 0.0547 - val_accuracy: 0.9872\n",
            "Epoch 7/40\n",
            "125/125 [==============================] - 0s 806us/step - loss: 0.0385 - accuracy: 0.9912 - val_loss: 0.0524 - val_accuracy: 0.9840\n",
            "Epoch 8/40\n",
            "125/125 [==============================] - 0s 778us/step - loss: 0.0287 - accuracy: 0.9952 - val_loss: 0.0500 - val_accuracy: 0.9808\n",
            "Epoch 9/40\n",
            "125/125 [==============================] - 0s 752us/step - loss: 0.0216 - accuracy: 0.9968 - val_loss: 0.0488 - val_accuracy: 0.9840\n",
            "Epoch 10/40\n",
            "125/125 [==============================] - 0s 767us/step - loss: 0.0165 - accuracy: 0.9992 - val_loss: 0.0437 - val_accuracy: 0.9872\n",
            "Epoch 11/40\n",
            "125/125 [==============================] - 0s 771us/step - loss: 0.0182 - accuracy: 0.9960 - val_loss: 0.0549 - val_accuracy: 0.9840\n",
            "Epoch 12/40\n",
            "125/125 [==============================] - 0s 749us/step - loss: 0.0138 - accuracy: 0.9984 - val_loss: 0.0495 - val_accuracy: 0.9872\n",
            "Epoch 13/40\n",
            "125/125 [==============================] - 0s 763us/step - loss: 0.0125 - accuracy: 0.9992 - val_loss: 0.0442 - val_accuracy: 0.9808\n",
            "Epoch 14/40\n",
            "125/125 [==============================] - 0s 763us/step - loss: 0.0086 - accuracy: 1.0000 - val_loss: 0.0467 - val_accuracy: 0.9872\n",
            "Epoch 15/40\n",
            "125/125 [==============================] - 0s 780us/step - loss: 0.0093 - accuracy: 0.9984 - val_loss: 0.0426 - val_accuracy: 0.9840\n",
            "Epoch 16/40\n",
            "125/125 [==============================] - 0s 759us/step - loss: 0.0077 - accuracy: 1.0000 - val_loss: 0.0435 - val_accuracy: 0.9872\n",
            "Epoch 17/40\n",
            "125/125 [==============================] - 0s 784us/step - loss: 0.0058 - accuracy: 1.0000 - val_loss: 0.0413 - val_accuracy: 0.9840\n",
            "Epoch 18/40\n",
            "125/125 [==============================] - 0s 826us/step - loss: 0.0049 - accuracy: 1.0000 - val_loss: 0.0430 - val_accuracy: 0.9872\n",
            "Epoch 19/40\n",
            "125/125 [==============================] - 0s 771us/step - loss: 0.0046 - accuracy: 1.0000 - val_loss: 0.0433 - val_accuracy: 0.9904\n",
            "Epoch 20/40\n",
            "125/125 [==============================] - 0s 753us/step - loss: 0.0037 - accuracy: 1.0000 - val_loss: 0.0457 - val_accuracy: 0.9872\n",
            "Epoch 21/40\n",
            "125/125 [==============================] - 0s 758us/step - loss: 0.0040 - accuracy: 1.0000 - val_loss: 0.0422 - val_accuracy: 0.9840\n",
            "Epoch 22/40\n",
            "125/125 [==============================] - 0s 767us/step - loss: 0.0033 - accuracy: 1.0000 - val_loss: 0.0467 - val_accuracy: 0.9872\n",
            "Epoch 23/40\n",
            "125/125 [==============================] - 0s 848us/step - loss: 0.0026 - accuracy: 1.0000 - val_loss: 0.0407 - val_accuracy: 0.9840\n",
            "Epoch 24/40\n",
            "125/125 [==============================] - 0s 766us/step - loss: 0.0026 - accuracy: 1.0000 - val_loss: 0.0397 - val_accuracy: 0.9872\n",
            "Epoch 25/40\n",
            "125/125 [==============================] - 0s 790us/step - loss: 0.0038 - accuracy: 1.0000 - val_loss: 0.0421 - val_accuracy: 0.9872\n",
            "Epoch 26/40\n",
            "125/125 [==============================] - 0s 740us/step - loss: 0.0015 - accuracy: 1.0000 - val_loss: 0.0421 - val_accuracy: 0.9872\n",
            "Epoch 27/40\n",
            "125/125 [==============================] - 0s 766us/step - loss: 0.0015 - accuracy: 1.0000 - val_loss: 0.0386 - val_accuracy: 0.9872\n",
            "Epoch 28/40\n",
            "125/125 [==============================] - 0s 801us/step - loss: 0.0022 - accuracy: 1.0000 - val_loss: 0.0437 - val_accuracy: 0.9872\n",
            "Epoch 29/40\n",
            "125/125 [==============================] - 0s 783us/step - loss: 0.0026 - accuracy: 1.0000 - val_loss: 0.0491 - val_accuracy: 0.9776\n",
            "Epoch 30/40\n",
            "125/125 [==============================] - 0s 754us/step - loss: 0.0020 - accuracy: 1.0000 - val_loss: 0.0482 - val_accuracy: 0.9872\n",
            "Epoch 31/40\n",
            "125/125 [==============================] - 0s 763us/step - loss: 0.0014 - accuracy: 1.0000 - val_loss: 0.0448 - val_accuracy: 0.9872\n",
            "Epoch 32/40\n",
            "125/125 [==============================] - 0s 745us/step - loss: 0.0014 - accuracy: 1.0000 - val_loss: 0.0432 - val_accuracy: 0.9872\n",
            "Epoch 33/40\n",
            "125/125 [==============================] - 0s 755us/step - loss: 8.2558e-04 - accuracy: 1.0000 - val_loss: 0.0451 - val_accuracy: 0.9872\n",
            "Epoch 34/40\n",
            "125/125 [==============================] - 0s 760us/step - loss: 0.0010 - accuracy: 1.0000 - val_loss: 0.0476 - val_accuracy: 0.9872\n",
            "Epoch 35/40\n",
            "125/125 [==============================] - 0s 776us/step - loss: 9.0533e-04 - accuracy: 1.0000 - val_loss: 0.0452 - val_accuracy: 0.9872\n",
            "Epoch 36/40\n",
            "125/125 [==============================] - 0s 807us/step - loss: 0.0013 - accuracy: 1.0000 - val_loss: 0.0520 - val_accuracy: 0.9840\n",
            "Epoch 37/40\n",
            "125/125 [==============================] - 0s 763us/step - loss: 9.9288e-04 - accuracy: 1.0000 - val_loss: 0.0540 - val_accuracy: 0.9808\n",
            "Epoch 38/40\n",
            "125/125 [==============================] - 0s 756us/step - loss: 6.4511e-04 - accuracy: 1.0000 - val_loss: 0.0551 - val_accuracy: 0.9808\n",
            "Epoch 39/40\n",
            "125/125 [==============================] - 0s 780us/step - loss: 5.9699e-04 - accuracy: 1.0000 - val_loss: 0.0526 - val_accuracy: 0.9808\n",
            "Epoch 40/40\n",
            "125/125 [==============================] - 0s 1ms/step - loss: 7.1058e-04 - accuracy: 1.0000 - val_loss: 0.0546 - val_accuracy: 0.9840\n"
          ]
        },
        {
          "name": "stderr",
          "output_type": "stream",
          "text": [
            "WARNING:absl:At this time, the v2.11+ optimizer `tf.keras.optimizers.Adam` runs slowly on M1/M2 Macs, please use the legacy Keras optimizer instead, located at `tf.keras.optimizers.legacy.Adam`.\n",
            "WARNING:absl:There is a known slowdown when using v2.11+ Keras optimizers on M1/M2 Macs. Falling back to the legacy Keras optimizer, i.e., `tf.keras.optimizers.legacy.Adam`.\n"
          ]
        },
        {
          "name": "stdout",
          "output_type": "stream",
          "text": [
            "Epoch 1/5\n",
            "125/125 [==============================] - 0s 1ms/step - loss: 1.5834 - accuracy: 0.3189 - val_loss: 1.5437 - val_accuracy: 0.5288\n",
            "Epoch 2/5\n",
            "125/125 [==============================] - 1s 7ms/step - loss: 1.4987 - accuracy: 0.5655 - val_loss: 1.4360 - val_accuracy: 0.7788\n",
            "Epoch 3/5\n",
            "125/125 [==============================] - 0s 597us/step - loss: 1.3836 - accuracy: 0.7406 - val_loss: 1.2929 - val_accuracy: 0.8974\n",
            "Epoch 4/5\n",
            "125/125 [==============================] - 0s 600us/step - loss: 1.2361 - accuracy: 0.8554 - val_loss: 1.1337 - val_accuracy: 0.9263\n",
            "Epoch 5/5\n",
            "125/125 [==============================] - 0s 601us/step - loss: 1.0870 - accuracy: 0.8900 - val_loss: 0.9850 - val_accuracy: 0.9487\n"
          ]
        },
        {
          "name": "stderr",
          "output_type": "stream",
          "text": [
            "WARNING:absl:At this time, the v2.11+ optimizer `tf.keras.optimizers.Adam` runs slowly on M1/M2 Macs, please use the legacy Keras optimizer instead, located at `tf.keras.optimizers.legacy.Adam`.\n",
            "WARNING:absl:There is a known slowdown when using v2.11+ Keras optimizers on M1/M2 Macs. Falling back to the legacy Keras optimizer, i.e., `tf.keras.optimizers.legacy.Adam`.\n"
          ]
        },
        {
          "name": "stdout",
          "output_type": "stream",
          "text": [
            "Epoch 1/20\n",
            "125/125 [==============================] - 0s 1ms/step - loss: 1.5844 - accuracy: 0.3341 - val_loss: 1.5406 - val_accuracy: 0.7051\n",
            "Epoch 2/20\n",
            "125/125 [==============================] - 0s 626us/step - loss: 1.4935 - accuracy: 0.6691 - val_loss: 1.4334 - val_accuracy: 0.8846\n",
            "Epoch 3/20\n",
            "125/125 [==============================] - 0s 622us/step - loss: 1.3779 - accuracy: 0.7880 - val_loss: 1.2948 - val_accuracy: 0.9295\n",
            "Epoch 4/20\n",
            "125/125 [==============================] - 0s 610us/step - loss: 1.2442 - accuracy: 0.8474 - val_loss: 1.1489 - val_accuracy: 0.9519\n",
            "Epoch 5/20\n",
            "125/125 [==============================] - 0s 614us/step - loss: 1.1087 - accuracy: 0.8747 - val_loss: 1.0065 - val_accuracy: 0.9487\n",
            "Epoch 6/20\n",
            "125/125 [==============================] - 0s 635us/step - loss: 0.9796 - accuracy: 0.9149 - val_loss: 0.8787 - val_accuracy: 0.9551\n",
            "Epoch 7/20\n",
            "125/125 [==============================] - 0s 648us/step - loss: 0.8760 - accuracy: 0.9116 - val_loss: 0.7678 - val_accuracy: 0.9583\n",
            "Epoch 8/20\n",
            "125/125 [==============================] - 0s 628us/step - loss: 0.7750 - accuracy: 0.9261 - val_loss: 0.6721 - val_accuracy: 0.9583\n",
            "Epoch 9/20\n",
            "125/125 [==============================] - 0s 619us/step - loss: 0.7081 - accuracy: 0.9084 - val_loss: 0.5916 - val_accuracy: 0.9615\n",
            "Epoch 10/20\n",
            "125/125 [==============================] - 0s 629us/step - loss: 0.6299 - accuracy: 0.9373 - val_loss: 0.5227 - val_accuracy: 0.9615\n",
            "Epoch 11/20\n",
            "125/125 [==============================] - 0s 610us/step - loss: 0.5710 - accuracy: 0.9373 - val_loss: 0.4645 - val_accuracy: 0.9647\n",
            "Epoch 12/20\n",
            "125/125 [==============================] - 0s 618us/step - loss: 0.5222 - accuracy: 0.9357 - val_loss: 0.4169 - val_accuracy: 0.9679\n",
            "Epoch 13/20\n",
            "125/125 [==============================] - 0s 604us/step - loss: 0.4687 - accuracy: 0.9373 - val_loss: 0.3757 - val_accuracy: 0.9679\n",
            "Epoch 14/20\n",
            "125/125 [==============================] - 0s 639us/step - loss: 0.4276 - accuracy: 0.9414 - val_loss: 0.3402 - val_accuracy: 0.9744\n",
            "Epoch 15/20\n",
            "125/125 [==============================] - 0s 645us/step - loss: 0.4021 - accuracy: 0.9494 - val_loss: 0.3099 - val_accuracy: 0.9712\n",
            "Epoch 16/20\n",
            "125/125 [==============================] - 0s 610us/step - loss: 0.3725 - accuracy: 0.9462 - val_loss: 0.2843 - val_accuracy: 0.9744\n",
            "Epoch 17/20\n",
            "125/125 [==============================] - 0s 618us/step - loss: 0.3534 - accuracy: 0.9430 - val_loss: 0.2620 - val_accuracy: 0.9744\n",
            "Epoch 18/20\n",
            "125/125 [==============================] - 0s 607us/step - loss: 0.3280 - accuracy: 0.9502 - val_loss: 0.2428 - val_accuracy: 0.9776\n",
            "Epoch 19/20\n",
            "125/125 [==============================] - 0s 606us/step - loss: 0.3057 - accuracy: 0.9526 - val_loss: 0.2263 - val_accuracy: 0.9744\n",
            "Epoch 20/20\n",
            "125/125 [==============================] - 0s 605us/step - loss: 0.2970 - accuracy: 0.9470 - val_loss: 0.2115 - val_accuracy: 0.9808\n"
          ]
        },
        {
          "name": "stderr",
          "output_type": "stream",
          "text": [
            "WARNING:absl:At this time, the v2.11+ optimizer `tf.keras.optimizers.Adam` runs slowly on M1/M2 Macs, please use the legacy Keras optimizer instead, located at `tf.keras.optimizers.legacy.Adam`.\n",
            "WARNING:absl:There is a known slowdown when using v2.11+ Keras optimizers on M1/M2 Macs. Falling back to the legacy Keras optimizer, i.e., `tf.keras.optimizers.legacy.Adam`.\n"
          ]
        },
        {
          "name": "stdout",
          "output_type": "stream",
          "text": [
            "Epoch 1/40\n",
            "125/125 [==============================] - 0s 1ms/step - loss: 1.5877 - accuracy: 0.3141 - val_loss: 1.5407 - val_accuracy: 0.6667\n",
            "Epoch 2/40\n",
            "125/125 [==============================] - 0s 623us/step - loss: 1.4982 - accuracy: 0.6129 - val_loss: 1.4364 - val_accuracy: 0.8494\n",
            "Epoch 3/40\n",
            "125/125 [==============================] - 0s 727us/step - loss: 1.3820 - accuracy: 0.7711 - val_loss: 1.3041 - val_accuracy: 0.9135\n",
            "Epoch 4/40\n",
            "125/125 [==============================] - 0s 691us/step - loss: 1.2562 - accuracy: 0.8321 - val_loss: 1.1650 - val_accuracy: 0.9359\n",
            "Epoch 5/40\n",
            "125/125 [==============================] - 0s 662us/step - loss: 1.1339 - accuracy: 0.8683 - val_loss: 1.0308 - val_accuracy: 0.9327\n",
            "Epoch 6/40\n",
            "125/125 [==============================] - 0s 632us/step - loss: 1.0264 - accuracy: 0.8747 - val_loss: 0.9084 - val_accuracy: 0.9519\n",
            "Epoch 7/40\n",
            "125/125 [==============================] - 0s 628us/step - loss: 0.9055 - accuracy: 0.9068 - val_loss: 0.7923 - val_accuracy: 0.9551\n",
            "Epoch 8/40\n",
            "125/125 [==============================] - 0s 612us/step - loss: 0.7997 - accuracy: 0.9108 - val_loss: 0.6928 - val_accuracy: 0.9583\n",
            "Epoch 9/40\n",
            "125/125 [==============================] - 0s 640us/step - loss: 0.7173 - accuracy: 0.9277 - val_loss: 0.6072 - val_accuracy: 0.9647\n",
            "Epoch 10/40\n",
            "125/125 [==============================] - 0s 631us/step - loss: 0.6534 - accuracy: 0.9277 - val_loss: 0.5355 - val_accuracy: 0.9712\n",
            "Epoch 11/40\n",
            "125/125 [==============================] - 0s 621us/step - loss: 0.5720 - accuracy: 0.9325 - val_loss: 0.4744 - val_accuracy: 0.9744\n",
            "Epoch 12/40\n",
            "125/125 [==============================] - 0s 609us/step - loss: 0.5315 - accuracy: 0.9373 - val_loss: 0.4233 - val_accuracy: 0.9776\n",
            "Epoch 13/40\n",
            "125/125 [==============================] - 0s 610us/step - loss: 0.4802 - accuracy: 0.9478 - val_loss: 0.3798 - val_accuracy: 0.9872\n",
            "Epoch 14/40\n",
            "125/125 [==============================] - 0s 611us/step - loss: 0.4407 - accuracy: 0.9446 - val_loss: 0.3432 - val_accuracy: 0.9872\n",
            "Epoch 15/40\n",
            "125/125 [==============================] - 0s 632us/step - loss: 0.4117 - accuracy: 0.9398 - val_loss: 0.3120 - val_accuracy: 0.9872\n",
            "Epoch 16/40\n",
            "125/125 [==============================] - 0s 634us/step - loss: 0.3816 - accuracy: 0.9470 - val_loss: 0.2850 - val_accuracy: 0.9904\n",
            "Epoch 17/40\n",
            "125/125 [==============================] - 0s 615us/step - loss: 0.3581 - accuracy: 0.9414 - val_loss: 0.2627 - val_accuracy: 0.9904\n",
            "Epoch 18/40\n",
            "125/125 [==============================] - 0s 651us/step - loss: 0.3360 - accuracy: 0.9478 - val_loss: 0.2432 - val_accuracy: 0.9904\n",
            "Epoch 19/40\n",
            "125/125 [==============================] - 0s 616us/step - loss: 0.3178 - accuracy: 0.9502 - val_loss: 0.2255 - val_accuracy: 0.9904\n",
            "Epoch 20/40\n",
            "125/125 [==============================] - 0s 612us/step - loss: 0.2874 - accuracy: 0.9534 - val_loss: 0.2102 - val_accuracy: 0.9872\n",
            "Epoch 21/40\n",
            "125/125 [==============================] - 0s 613us/step - loss: 0.2775 - accuracy: 0.9558 - val_loss: 0.1966 - val_accuracy: 0.9872\n",
            "Epoch 22/40\n",
            "125/125 [==============================] - 0s 622us/step - loss: 0.2671 - accuracy: 0.9502 - val_loss: 0.1851 - val_accuracy: 0.9904\n",
            "Epoch 23/40\n",
            "125/125 [==============================] - 0s 616us/step - loss: 0.2614 - accuracy: 0.9526 - val_loss: 0.1748 - val_accuracy: 0.9904\n",
            "Epoch 24/40\n",
            "125/125 [==============================] - 0s 607us/step - loss: 0.2487 - accuracy: 0.9598 - val_loss: 0.1657 - val_accuracy: 0.9904\n",
            "Epoch 25/40\n",
            "125/125 [==============================] - 0s 618us/step - loss: 0.2381 - accuracy: 0.9614 - val_loss: 0.1567 - val_accuracy: 0.9904\n",
            "Epoch 26/40\n",
            "125/125 [==============================] - 0s 623us/step - loss: 0.2241 - accuracy: 0.9598 - val_loss: 0.1491 - val_accuracy: 0.9904\n",
            "Epoch 27/40\n",
            "125/125 [==============================] - 0s 645us/step - loss: 0.2306 - accuracy: 0.9574 - val_loss: 0.1424 - val_accuracy: 0.9872\n",
            "Epoch 28/40\n",
            "125/125 [==============================] - 0s 655us/step - loss: 0.2020 - accuracy: 0.9622 - val_loss: 0.1361 - val_accuracy: 0.9872\n",
            "Epoch 29/40\n",
            "125/125 [==============================] - 0s 672us/step - loss: 0.1982 - accuracy: 0.9679 - val_loss: 0.1304 - val_accuracy: 0.9872\n",
            "Epoch 30/40\n",
            "125/125 [==============================] - 0s 644us/step - loss: 0.1932 - accuracy: 0.9550 - val_loss: 0.1247 - val_accuracy: 0.9904\n",
            "Epoch 31/40\n",
            "125/125 [==============================] - 0s 665us/step - loss: 0.1815 - accuracy: 0.9639 - val_loss: 0.1201 - val_accuracy: 0.9872\n",
            "Epoch 32/40\n",
            "125/125 [==============================] - 0s 628us/step - loss: 0.1753 - accuracy: 0.9647 - val_loss: 0.1154 - val_accuracy: 0.9872\n",
            "Epoch 33/40\n",
            "125/125 [==============================] - 0s 624us/step - loss: 0.1699 - accuracy: 0.9711 - val_loss: 0.1114 - val_accuracy: 0.9872\n",
            "Epoch 34/40\n",
            "125/125 [==============================] - 0s 642us/step - loss: 0.1748 - accuracy: 0.9671 - val_loss: 0.1074 - val_accuracy: 0.9872\n",
            "Epoch 35/40\n",
            "125/125 [==============================] - 0s 610us/step - loss: 0.1525 - accuracy: 0.9719 - val_loss: 0.1035 - val_accuracy: 0.9904\n",
            "Epoch 36/40\n",
            "125/125 [==============================] - 0s 604us/step - loss: 0.1576 - accuracy: 0.9671 - val_loss: 0.1005 - val_accuracy: 0.9872\n",
            "Epoch 37/40\n",
            "125/125 [==============================] - 0s 612us/step - loss: 0.1556 - accuracy: 0.9679 - val_loss: 0.0982 - val_accuracy: 0.9872\n",
            "Epoch 38/40\n",
            "125/125 [==============================] - 0s 828us/step - loss: 0.1542 - accuracy: 0.9647 - val_loss: 0.0951 - val_accuracy: 0.9872\n",
            "Epoch 39/40\n",
            "125/125 [==============================] - 0s 618us/step - loss: 0.1504 - accuracy: 0.9671 - val_loss: 0.0929 - val_accuracy: 0.9872\n",
            "Epoch 40/40\n",
            "125/125 [==============================] - 0s 603us/step - loss: 0.1415 - accuracy: 0.9695 - val_loss: 0.0903 - val_accuracy: 0.9872\n"
          ]
        },
        {
          "name": "stderr",
          "output_type": "stream",
          "text": [
            "WARNING:absl:At this time, the v2.11+ optimizer `tf.keras.optimizers.Adam` runs slowly on M1/M2 Macs, please use the legacy Keras optimizer instead, located at `tf.keras.optimizers.legacy.Adam`.\n",
            "WARNING:absl:There is a known slowdown when using v2.11+ Keras optimizers on M1/M2 Macs. Falling back to the legacy Keras optimizer, i.e., `tf.keras.optimizers.legacy.Adam`.\n"
          ]
        },
        {
          "name": "stdout",
          "output_type": "stream",
          "text": [
            "Epoch 1/5\n",
            "125/125 [==============================] - 0s 1ms/step - loss: 1.5694 - accuracy: 0.3855 - val_loss: 1.5047 - val_accuracy: 0.7564\n",
            "Epoch 2/5\n",
            "125/125 [==============================] - 0s 675us/step - loss: 1.4309 - accuracy: 0.7494 - val_loss: 1.3423 - val_accuracy: 0.8814\n",
            "Epoch 3/5\n",
            "125/125 [==============================] - 0s 690us/step - loss: 1.2646 - accuracy: 0.8586 - val_loss: 1.1561 - val_accuracy: 0.9295\n",
            "Epoch 4/5\n",
            "125/125 [==============================] - 0s 671us/step - loss: 1.0933 - accuracy: 0.8763 - val_loss: 0.9770 - val_accuracy: 0.9487\n",
            "Epoch 5/5\n",
            "125/125 [==============================] - 0s 673us/step - loss: 0.9267 - accuracy: 0.9181 - val_loss: 0.8142 - val_accuracy: 0.9519\n"
          ]
        },
        {
          "name": "stderr",
          "output_type": "stream",
          "text": [
            "WARNING:absl:At this time, the v2.11+ optimizer `tf.keras.optimizers.Adam` runs slowly on M1/M2 Macs, please use the legacy Keras optimizer instead, located at `tf.keras.optimizers.legacy.Adam`.\n",
            "WARNING:absl:There is a known slowdown when using v2.11+ Keras optimizers on M1/M2 Macs. Falling back to the legacy Keras optimizer, i.e., `tf.keras.optimizers.legacy.Adam`.\n"
          ]
        },
        {
          "name": "stdout",
          "output_type": "stream",
          "text": [
            "Epoch 1/20\n",
            "125/125 [==============================] - 0s 1ms/step - loss: 1.5479 - accuracy: 0.4345 - val_loss: 1.4736 - val_accuracy: 0.7917\n",
            "Epoch 2/20\n",
            "125/125 [==============================] - 0s 702us/step - loss: 1.4095 - accuracy: 0.7502 - val_loss: 1.3098 - val_accuracy: 0.8942\n",
            "Epoch 3/20\n",
            "125/125 [==============================] - 0s 729us/step - loss: 1.2360 - accuracy: 0.8610 - val_loss: 1.1193 - val_accuracy: 0.9391\n",
            "Epoch 4/20\n",
            "125/125 [==============================] - 0s 678us/step - loss: 1.0518 - accuracy: 0.9141 - val_loss: 0.9350 - val_accuracy: 0.9583\n",
            "Epoch 5/20\n",
            "125/125 [==============================] - 0s 677us/step - loss: 0.8986 - accuracy: 0.9293 - val_loss: 0.7724 - val_accuracy: 0.9615\n",
            "Epoch 6/20\n",
            "125/125 [==============================] - 0s 684us/step - loss: 0.7524 - accuracy: 0.9390 - val_loss: 0.6375 - val_accuracy: 0.9679\n",
            "Epoch 7/20\n",
            "125/125 [==============================] - 0s 683us/step - loss: 0.6362 - accuracy: 0.9382 - val_loss: 0.5315 - val_accuracy: 0.9679\n",
            "Epoch 8/20\n",
            "125/125 [==============================] - 0s 680us/step - loss: 0.5409 - accuracy: 0.9446 - val_loss: 0.4473 - val_accuracy: 0.9744\n",
            "Epoch 9/20\n",
            "125/125 [==============================] - 0s 684us/step - loss: 0.4681 - accuracy: 0.9566 - val_loss: 0.3825 - val_accuracy: 0.9776\n",
            "Epoch 10/20\n",
            "125/125 [==============================] - 0s 667us/step - loss: 0.4118 - accuracy: 0.9494 - val_loss: 0.3307 - val_accuracy: 0.9776\n",
            "Epoch 11/20\n",
            "125/125 [==============================] - 0s 675us/step - loss: 0.3625 - accuracy: 0.9574 - val_loss: 0.2898 - val_accuracy: 0.9808\n",
            "Epoch 12/20\n",
            "125/125 [==============================] - 0s 678us/step - loss: 0.3299 - accuracy: 0.9542 - val_loss: 0.2577 - val_accuracy: 0.9808\n",
            "Epoch 13/20\n",
            "125/125 [==============================] - 0s 685us/step - loss: 0.2930 - accuracy: 0.9598 - val_loss: 0.2313 - val_accuracy: 0.9808\n",
            "Epoch 14/20\n",
            "125/125 [==============================] - 0s 676us/step - loss: 0.2833 - accuracy: 0.9510 - val_loss: 0.2098 - val_accuracy: 0.9840\n",
            "Epoch 15/20\n",
            "125/125 [==============================] - 0s 689us/step - loss: 0.2559 - accuracy: 0.9558 - val_loss: 0.1918 - val_accuracy: 0.9840\n",
            "Epoch 16/20\n",
            "125/125 [==============================] - 0s 699us/step - loss: 0.2336 - accuracy: 0.9647 - val_loss: 0.1757 - val_accuracy: 0.9904\n",
            "Epoch 17/20\n",
            "125/125 [==============================] - 0s 691us/step - loss: 0.2180 - accuracy: 0.9622 - val_loss: 0.1635 - val_accuracy: 0.9904\n",
            "Epoch 18/20\n",
            "125/125 [==============================] - 0s 680us/step - loss: 0.2073 - accuracy: 0.9574 - val_loss: 0.1520 - val_accuracy: 0.9904\n",
            "Epoch 19/20\n",
            "125/125 [==============================] - 0s 673us/step - loss: 0.1901 - accuracy: 0.9655 - val_loss: 0.1421 - val_accuracy: 0.9872\n",
            "Epoch 20/20\n",
            "125/125 [==============================] - 0s 681us/step - loss: 0.1810 - accuracy: 0.9655 - val_loss: 0.1340 - val_accuracy: 0.9872\n"
          ]
        },
        {
          "name": "stderr",
          "output_type": "stream",
          "text": [
            "WARNING:absl:At this time, the v2.11+ optimizer `tf.keras.optimizers.Adam` runs slowly on M1/M2 Macs, please use the legacy Keras optimizer instead, located at `tf.keras.optimizers.legacy.Adam`.\n",
            "WARNING:absl:There is a known slowdown when using v2.11+ Keras optimizers on M1/M2 Macs. Falling back to the legacy Keras optimizer, i.e., `tf.keras.optimizers.legacy.Adam`.\n"
          ]
        },
        {
          "name": "stdout",
          "output_type": "stream",
          "text": [
            "Epoch 1/40\n",
            "125/125 [==============================] - 0s 1ms/step - loss: 1.5580 - accuracy: 0.4265 - val_loss: 1.4827 - val_accuracy: 0.7821\n",
            "Epoch 2/40\n",
            "125/125 [==============================] - 0s 678us/step - loss: 1.4190 - accuracy: 0.7446 - val_loss: 1.3189 - val_accuracy: 0.9135\n",
            "Epoch 3/40\n",
            "125/125 [==============================] - 0s 690us/step - loss: 1.2469 - accuracy: 0.8474 - val_loss: 1.1275 - val_accuracy: 0.9487\n",
            "Epoch 4/40\n",
            "125/125 [==============================] - 0s 678us/step - loss: 1.0711 - accuracy: 0.8996 - val_loss: 0.9416 - val_accuracy: 0.9487\n",
            "Epoch 5/40\n",
            "125/125 [==============================] - 0s 672us/step - loss: 0.8999 - accuracy: 0.9173 - val_loss: 0.7773 - val_accuracy: 0.9583\n",
            "Epoch 6/40\n",
            "125/125 [==============================] - 0s 680us/step - loss: 0.7578 - accuracy: 0.9325 - val_loss: 0.6411 - val_accuracy: 0.9647\n",
            "Epoch 7/40\n",
            "125/125 [==============================] - 0s 694us/step - loss: 0.6443 - accuracy: 0.9317 - val_loss: 0.5342 - val_accuracy: 0.9647\n",
            "Epoch 8/40\n",
            "125/125 [==============================] - 0s 675us/step - loss: 0.5493 - accuracy: 0.9430 - val_loss: 0.4510 - val_accuracy: 0.9679\n",
            "Epoch 9/40\n",
            "125/125 [==============================] - 0s 684us/step - loss: 0.4692 - accuracy: 0.9422 - val_loss: 0.3861 - val_accuracy: 0.9744\n",
            "Epoch 10/40\n",
            "125/125 [==============================] - 0s 673us/step - loss: 0.4140 - accuracy: 0.9486 - val_loss: 0.3345 - val_accuracy: 0.9744\n",
            "Epoch 11/40\n",
            "125/125 [==============================] - 0s 671us/step - loss: 0.3752 - accuracy: 0.9518 - val_loss: 0.2931 - val_accuracy: 0.9776\n",
            "Epoch 12/40\n",
            "125/125 [==============================] - 0s 698us/step - loss: 0.3358 - accuracy: 0.9534 - val_loss: 0.2613 - val_accuracy: 0.9776\n",
            "Epoch 13/40\n",
            "125/125 [==============================] - 0s 689us/step - loss: 0.3016 - accuracy: 0.9590 - val_loss: 0.2352 - val_accuracy: 0.9808\n",
            "Epoch 14/40\n",
            "125/125 [==============================] - 0s 673us/step - loss: 0.2799 - accuracy: 0.9614 - val_loss: 0.2128 - val_accuracy: 0.9840\n",
            "Epoch 15/40\n",
            "125/125 [==============================] - 0s 672us/step - loss: 0.2524 - accuracy: 0.9622 - val_loss: 0.1947 - val_accuracy: 0.9840\n",
            "Epoch 16/40\n",
            "125/125 [==============================] - 0s 673us/step - loss: 0.2308 - accuracy: 0.9622 - val_loss: 0.1785 - val_accuracy: 0.9840\n",
            "Epoch 17/40\n",
            "125/125 [==============================] - 0s 685us/step - loss: 0.2209 - accuracy: 0.9582 - val_loss: 0.1659 - val_accuracy: 0.9840\n",
            "Epoch 18/40\n",
            "125/125 [==============================] - 0s 673us/step - loss: 0.2125 - accuracy: 0.9622 - val_loss: 0.1551 - val_accuracy: 0.9872\n",
            "Epoch 19/40\n",
            "125/125 [==============================] - 0s 686us/step - loss: 0.1935 - accuracy: 0.9671 - val_loss: 0.1446 - val_accuracy: 0.9904\n",
            "Epoch 20/40\n",
            "125/125 [==============================] - 0s 673us/step - loss: 0.1844 - accuracy: 0.9671 - val_loss: 0.1364 - val_accuracy: 0.9904\n",
            "Epoch 21/40\n",
            "125/125 [==============================] - 0s 684us/step - loss: 0.1753 - accuracy: 0.9679 - val_loss: 0.1283 - val_accuracy: 0.9904\n",
            "Epoch 22/40\n",
            "125/125 [==============================] - 0s 666us/step - loss: 0.1581 - accuracy: 0.9711 - val_loss: 0.1223 - val_accuracy: 0.9904\n",
            "Epoch 23/40\n",
            "125/125 [==============================] - 0s 679us/step - loss: 0.1552 - accuracy: 0.9679 - val_loss: 0.1166 - val_accuracy: 0.9904\n",
            "Epoch 24/40\n",
            "125/125 [==============================] - 0s 680us/step - loss: 0.1531 - accuracy: 0.9687 - val_loss: 0.1106 - val_accuracy: 0.9904\n",
            "Epoch 25/40\n",
            "125/125 [==============================] - 0s 692us/step - loss: 0.1387 - accuracy: 0.9751 - val_loss: 0.1062 - val_accuracy: 0.9904\n",
            "Epoch 26/40\n",
            "125/125 [==============================] - 0s 683us/step - loss: 0.1414 - accuracy: 0.9655 - val_loss: 0.1018 - val_accuracy: 0.9872\n",
            "Epoch 27/40\n",
            "125/125 [==============================] - 0s 713us/step - loss: 0.1332 - accuracy: 0.9695 - val_loss: 0.0984 - val_accuracy: 0.9872\n",
            "Epoch 28/40\n",
            "125/125 [==============================] - 0s 683us/step - loss: 0.1294 - accuracy: 0.9671 - val_loss: 0.0943 - val_accuracy: 0.9872\n",
            "Epoch 29/40\n",
            "125/125 [==============================] - 0s 677us/step - loss: 0.1225 - accuracy: 0.9727 - val_loss: 0.0911 - val_accuracy: 0.9904\n",
            "Epoch 30/40\n",
            "125/125 [==============================] - 0s 672us/step - loss: 0.1192 - accuracy: 0.9751 - val_loss: 0.0881 - val_accuracy: 0.9904\n",
            "Epoch 31/40\n",
            "125/125 [==============================] - 0s 692us/step - loss: 0.1126 - accuracy: 0.9807 - val_loss: 0.0854 - val_accuracy: 0.9904\n",
            "Epoch 32/40\n",
            "125/125 [==============================] - 0s 710us/step - loss: 0.1108 - accuracy: 0.9751 - val_loss: 0.0827 - val_accuracy: 0.9904\n",
            "Epoch 33/40\n",
            "125/125 [==============================] - 0s 686us/step - loss: 0.1016 - accuracy: 0.9839 - val_loss: 0.0792 - val_accuracy: 0.9904\n",
            "Epoch 34/40\n",
            "125/125 [==============================] - 0s 688us/step - loss: 0.1011 - accuracy: 0.9791 - val_loss: 0.0774 - val_accuracy: 0.9904\n",
            "Epoch 35/40\n",
            "125/125 [==============================] - 0s 696us/step - loss: 0.0950 - accuracy: 0.9799 - val_loss: 0.0755 - val_accuracy: 0.9904\n",
            "Epoch 36/40\n",
            "125/125 [==============================] - 0s 677us/step - loss: 0.0972 - accuracy: 0.9767 - val_loss: 0.0736 - val_accuracy: 0.9904\n",
            "Epoch 37/40\n",
            "125/125 [==============================] - 0s 745us/step - loss: 0.0915 - accuracy: 0.9783 - val_loss: 0.0719 - val_accuracy: 0.9904\n",
            "Epoch 38/40\n",
            "125/125 [==============================] - 0s 906us/step - loss: 0.0886 - accuracy: 0.9839 - val_loss: 0.0699 - val_accuracy: 0.9904\n",
            "Epoch 39/40\n",
            "125/125 [==============================] - 0s 676us/step - loss: 0.0823 - accuracy: 0.9847 - val_loss: 0.0692 - val_accuracy: 0.9904\n",
            "Epoch 40/40\n",
            "125/125 [==============================] - 0s 665us/step - loss: 0.0902 - accuracy: 0.9775 - val_loss: 0.0677 - val_accuracy: 0.9904\n"
          ]
        },
        {
          "name": "stderr",
          "output_type": "stream",
          "text": [
            "WARNING:absl:At this time, the v2.11+ optimizer `tf.keras.optimizers.Adam` runs slowly on M1/M2 Macs, please use the legacy Keras optimizer instead, located at `tf.keras.optimizers.legacy.Adam`.\n",
            "WARNING:absl:There is a known slowdown when using v2.11+ Keras optimizers on M1/M2 Macs. Falling back to the legacy Keras optimizer, i.e., `tf.keras.optimizers.legacy.Adam`.\n"
          ]
        },
        {
          "name": "stdout",
          "output_type": "stream",
          "text": [
            "Epoch 1/5\n",
            "125/125 [==============================] - 0s 1ms/step - loss: 1.5399 - accuracy: 0.4819 - val_loss: 1.4391 - val_accuracy: 0.8526\n",
            "Epoch 2/5\n",
            "125/125 [==============================] - 0s 763us/step - loss: 1.3298 - accuracy: 0.8627 - val_loss: 1.1946 - val_accuracy: 0.9327\n",
            "Epoch 3/5\n",
            "125/125 [==============================] - 0s 767us/step - loss: 1.0919 - accuracy: 0.9068 - val_loss: 0.9389 - val_accuracy: 0.9551\n",
            "Epoch 4/5\n",
            "125/125 [==============================] - 0s 765us/step - loss: 0.8595 - accuracy: 0.9333 - val_loss: 0.7199 - val_accuracy: 0.9551\n",
            "Epoch 5/5\n",
            "125/125 [==============================] - 0s 758us/step - loss: 0.6725 - accuracy: 0.9438 - val_loss: 0.5535 - val_accuracy: 0.9647\n"
          ]
        },
        {
          "name": "stderr",
          "output_type": "stream",
          "text": [
            "WARNING:absl:At this time, the v2.11+ optimizer `tf.keras.optimizers.Adam` runs slowly on M1/M2 Macs, please use the legacy Keras optimizer instead, located at `tf.keras.optimizers.legacy.Adam`.\n",
            "WARNING:absl:There is a known slowdown when using v2.11+ Keras optimizers on M1/M2 Macs. Falling back to the legacy Keras optimizer, i.e., `tf.keras.optimizers.legacy.Adam`.\n"
          ]
        },
        {
          "name": "stdout",
          "output_type": "stream",
          "text": [
            "Epoch 1/20\n",
            "125/125 [==============================] - 0s 1ms/step - loss: 1.5294 - accuracy: 0.5743 - val_loss: 1.4263 - val_accuracy: 0.8365\n",
            "Epoch 2/20\n",
            "125/125 [==============================] - 0s 781us/step - loss: 1.3280 - accuracy: 0.8329 - val_loss: 1.1823 - val_accuracy: 0.8974\n",
            "Epoch 3/20\n",
            "125/125 [==============================] - 0s 788us/step - loss: 1.0863 - accuracy: 0.8932 - val_loss: 0.9234 - val_accuracy: 0.9423\n",
            "Epoch 4/20\n",
            "125/125 [==============================] - 0s 763us/step - loss: 0.8510 - accuracy: 0.9317 - val_loss: 0.7058 - val_accuracy: 0.9519\n",
            "Epoch 5/20\n",
            "125/125 [==============================] - 0s 769us/step - loss: 0.6630 - accuracy: 0.9430 - val_loss: 0.5413 - val_accuracy: 0.9519\n",
            "Epoch 6/20\n",
            "125/125 [==============================] - 0s 737us/step - loss: 0.5246 - accuracy: 0.9470 - val_loss: 0.4263 - val_accuracy: 0.9712\n",
            "Epoch 7/20\n",
            "125/125 [==============================] - 0s 744us/step - loss: 0.4248 - accuracy: 0.9550 - val_loss: 0.3457 - val_accuracy: 0.9712\n",
            "Epoch 8/20\n",
            "125/125 [==============================] - 0s 737us/step - loss: 0.3613 - accuracy: 0.9534 - val_loss: 0.2884 - val_accuracy: 0.9712\n",
            "Epoch 9/20\n",
            "125/125 [==============================] - 0s 743us/step - loss: 0.2995 - accuracy: 0.9631 - val_loss: 0.2451 - val_accuracy: 0.9744\n",
            "Epoch 10/20\n",
            "125/125 [==============================] - 0s 740us/step - loss: 0.2682 - accuracy: 0.9542 - val_loss: 0.2125 - val_accuracy: 0.9808\n",
            "Epoch 11/20\n",
            "125/125 [==============================] - 0s 748us/step - loss: 0.2332 - accuracy: 0.9703 - val_loss: 0.1888 - val_accuracy: 0.9840\n",
            "Epoch 12/20\n",
            "125/125 [==============================] - 0s 745us/step - loss: 0.2135 - accuracy: 0.9631 - val_loss: 0.1694 - val_accuracy: 0.9776\n",
            "Epoch 13/20\n",
            "125/125 [==============================] - 0s 748us/step - loss: 0.1930 - accuracy: 0.9663 - val_loss: 0.1550 - val_accuracy: 0.9776\n",
            "Epoch 14/20\n",
            "125/125 [==============================] - 0s 746us/step - loss: 0.1743 - accuracy: 0.9663 - val_loss: 0.1418 - val_accuracy: 0.9840\n",
            "Epoch 15/20\n",
            "125/125 [==============================] - 0s 746us/step - loss: 0.1620 - accuracy: 0.9719 - val_loss: 0.1307 - val_accuracy: 0.9808\n",
            "Epoch 16/20\n",
            "125/125 [==============================] - 0s 745us/step - loss: 0.1519 - accuracy: 0.9687 - val_loss: 0.1217 - val_accuracy: 0.9840\n",
            "Epoch 17/20\n",
            "125/125 [==============================] - 0s 750us/step - loss: 0.1454 - accuracy: 0.9679 - val_loss: 0.1145 - val_accuracy: 0.9840\n",
            "Epoch 18/20\n",
            "125/125 [==============================] - 0s 753us/step - loss: 0.1302 - accuracy: 0.9751 - val_loss: 0.1076 - val_accuracy: 0.9840\n",
            "Epoch 19/20\n",
            "125/125 [==============================] - 0s 782us/step - loss: 0.1273 - accuracy: 0.9711 - val_loss: 0.1012 - val_accuracy: 0.9840\n",
            "Epoch 20/20\n",
            "125/125 [==============================] - 0s 760us/step - loss: 0.1144 - accuracy: 0.9767 - val_loss: 0.0974 - val_accuracy: 0.9840\n"
          ]
        },
        {
          "name": "stderr",
          "output_type": "stream",
          "text": [
            "WARNING:absl:At this time, the v2.11+ optimizer `tf.keras.optimizers.Adam` runs slowly on M1/M2 Macs, please use the legacy Keras optimizer instead, located at `tf.keras.optimizers.legacy.Adam`.\n",
            "WARNING:absl:There is a known slowdown when using v2.11+ Keras optimizers on M1/M2 Macs. Falling back to the legacy Keras optimizer, i.e., `tf.keras.optimizers.legacy.Adam`.\n"
          ]
        },
        {
          "name": "stdout",
          "output_type": "stream",
          "text": [
            "Epoch 1/40\n",
            "125/125 [==============================] - 0s 1ms/step - loss: 1.5276 - accuracy: 0.5285 - val_loss: 1.4224 - val_accuracy: 0.8333\n",
            "Epoch 2/40\n",
            "125/125 [==============================] - 0s 749us/step - loss: 1.3217 - accuracy: 0.8458 - val_loss: 1.1761 - val_accuracy: 0.9199\n",
            "Epoch 3/40\n",
            "125/125 [==============================] - 0s 788us/step - loss: 1.0685 - accuracy: 0.9165 - val_loss: 0.9151 - val_accuracy: 0.9391\n",
            "Epoch 4/40\n",
            "125/125 [==============================] - 0s 770us/step - loss: 0.8371 - accuracy: 0.9341 - val_loss: 0.7009 - val_accuracy: 0.9519\n",
            "Epoch 5/40\n",
            "125/125 [==============================] - 0s 745us/step - loss: 0.6512 - accuracy: 0.9486 - val_loss: 0.5389 - val_accuracy: 0.9615\n",
            "Epoch 6/40\n",
            "125/125 [==============================] - 0s 747us/step - loss: 0.5202 - accuracy: 0.9454 - val_loss: 0.4253 - val_accuracy: 0.9744\n",
            "Epoch 7/40\n",
            "125/125 [==============================] - 0s 779us/step - loss: 0.4276 - accuracy: 0.9574 - val_loss: 0.3455 - val_accuracy: 0.9679\n",
            "Epoch 8/40\n",
            "125/125 [==============================] - 0s 753us/step - loss: 0.3610 - accuracy: 0.9542 - val_loss: 0.2881 - val_accuracy: 0.9776\n",
            "Epoch 9/40\n",
            "125/125 [==============================] - 0s 748us/step - loss: 0.3075 - accuracy: 0.9526 - val_loss: 0.2468 - val_accuracy: 0.9776\n",
            "Epoch 10/40\n",
            "125/125 [==============================] - 0s 772us/step - loss: 0.2644 - accuracy: 0.9631 - val_loss: 0.2145 - val_accuracy: 0.9744\n",
            "Epoch 11/40\n",
            "125/125 [==============================] - 0s 736us/step - loss: 0.2375 - accuracy: 0.9655 - val_loss: 0.1901 - val_accuracy: 0.9776\n",
            "Epoch 12/40\n",
            "125/125 [==============================] - 0s 741us/step - loss: 0.2128 - accuracy: 0.9687 - val_loss: 0.1707 - val_accuracy: 0.9776\n",
            "Epoch 13/40\n",
            "125/125 [==============================] - 0s 752us/step - loss: 0.1934 - accuracy: 0.9679 - val_loss: 0.1558 - val_accuracy: 0.9776\n",
            "Epoch 14/40\n",
            "125/125 [==============================] - 0s 742us/step - loss: 0.1772 - accuracy: 0.9671 - val_loss: 0.1420 - val_accuracy: 0.9840\n",
            "Epoch 15/40\n",
            "125/125 [==============================] - 0s 746us/step - loss: 0.1595 - accuracy: 0.9743 - val_loss: 0.1318 - val_accuracy: 0.9776\n",
            "Epoch 16/40\n",
            "125/125 [==============================] - 0s 747us/step - loss: 0.1500 - accuracy: 0.9703 - val_loss: 0.1220 - val_accuracy: 0.9840\n",
            "Epoch 17/40\n",
            "125/125 [==============================] - 0s 792us/step - loss: 0.1362 - accuracy: 0.9711 - val_loss: 0.1145 - val_accuracy: 0.9872\n",
            "Epoch 18/40\n",
            "125/125 [==============================] - 0s 789us/step - loss: 0.1380 - accuracy: 0.9751 - val_loss: 0.1077 - val_accuracy: 0.9840\n",
            "Epoch 19/40\n",
            "125/125 [==============================] - 0s 770us/step - loss: 0.1243 - accuracy: 0.9719 - val_loss: 0.1014 - val_accuracy: 0.9840\n",
            "Epoch 20/40\n",
            "125/125 [==============================] - 0s 732us/step - loss: 0.1172 - accuracy: 0.9727 - val_loss: 0.0970 - val_accuracy: 0.9808\n",
            "Epoch 21/40\n",
            "125/125 [==============================] - 0s 794us/step - loss: 0.1132 - accuracy: 0.9751 - val_loss: 0.0930 - val_accuracy: 0.9840\n",
            "Epoch 22/40\n",
            "125/125 [==============================] - 0s 795us/step - loss: 0.1066 - accuracy: 0.9767 - val_loss: 0.0885 - val_accuracy: 0.9840\n",
            "Epoch 23/40\n",
            "125/125 [==============================] - 0s 753us/step - loss: 0.1009 - accuracy: 0.9791 - val_loss: 0.0848 - val_accuracy: 0.9840\n",
            "Epoch 24/40\n",
            "125/125 [==============================] - 0s 762us/step - loss: 0.0938 - accuracy: 0.9783 - val_loss: 0.0813 - val_accuracy: 0.9872\n",
            "Epoch 25/40\n",
            "125/125 [==============================] - 0s 759us/step - loss: 0.0886 - accuracy: 0.9831 - val_loss: 0.0788 - val_accuracy: 0.9872\n",
            "Epoch 26/40\n",
            "125/125 [==============================] - 0s 741us/step - loss: 0.0905 - accuracy: 0.9791 - val_loss: 0.0767 - val_accuracy: 0.9904\n",
            "Epoch 27/40\n",
            "125/125 [==============================] - 0s 764us/step - loss: 0.0835 - accuracy: 0.9791 - val_loss: 0.0735 - val_accuracy: 0.9872\n",
            "Epoch 28/40\n",
            "125/125 [==============================] - 0s 741us/step - loss: 0.0817 - accuracy: 0.9831 - val_loss: 0.0715 - val_accuracy: 0.9904\n",
            "Epoch 29/40\n",
            "125/125 [==============================] - 0s 808us/step - loss: 0.0748 - accuracy: 0.9880 - val_loss: 0.0694 - val_accuracy: 0.9904\n",
            "Epoch 30/40\n",
            "125/125 [==============================] - 0s 779us/step - loss: 0.0736 - accuracy: 0.9888 - val_loss: 0.0692 - val_accuracy: 0.9872\n",
            "Epoch 31/40\n",
            "125/125 [==============================] - 0s 886us/step - loss: 0.0688 - accuracy: 0.9847 - val_loss: 0.0673 - val_accuracy: 0.9904\n",
            "Epoch 32/40\n",
            "125/125 [==============================] - 0s 795us/step - loss: 0.0665 - accuracy: 0.9839 - val_loss: 0.0655 - val_accuracy: 0.9872\n",
            "Epoch 33/40\n",
            "125/125 [==============================] - 0s 789us/step - loss: 0.0602 - accuracy: 0.9863 - val_loss: 0.0641 - val_accuracy: 0.9904\n",
            "Epoch 34/40\n",
            "125/125 [==============================] - 0s 802us/step - loss: 0.0588 - accuracy: 0.9880 - val_loss: 0.0622 - val_accuracy: 0.9904\n",
            "Epoch 35/40\n",
            "125/125 [==============================] - 0s 777us/step - loss: 0.0571 - accuracy: 0.9904 - val_loss: 0.0598 - val_accuracy: 0.9904\n",
            "Epoch 36/40\n",
            "125/125 [==============================] - 0s 829us/step - loss: 0.0571 - accuracy: 0.9839 - val_loss: 0.0594 - val_accuracy: 0.9904\n",
            "Epoch 37/40\n",
            "125/125 [==============================] - 0s 844us/step - loss: 0.0542 - accuracy: 0.9888 - val_loss: 0.0588 - val_accuracy: 0.9904\n",
            "Epoch 38/40\n",
            "125/125 [==============================] - 0s 1ms/step - loss: 0.0504 - accuracy: 0.9904 - val_loss: 0.0579 - val_accuracy: 0.9904\n",
            "Epoch 39/40\n",
            "125/125 [==============================] - 0s 760us/step - loss: 0.0497 - accuracy: 0.9888 - val_loss: 0.0579 - val_accuracy: 0.9872\n",
            "Epoch 40/40\n",
            "125/125 [==============================] - 0s 759us/step - loss: 0.0479 - accuracy: 0.9904 - val_loss: 0.0570 - val_accuracy: 0.9904\n"
          ]
        },
        {
          "name": "stderr",
          "output_type": "stream",
          "text": [
            "WARNING:absl:At this time, the v2.11+ optimizer `tf.keras.optimizers.Adam` runs slowly on M1/M2 Macs, please use the legacy Keras optimizer instead, located at `tf.keras.optimizers.legacy.Adam`.\n",
            "WARNING:absl:There is a known slowdown when using v2.11+ Keras optimizers on M1/M2 Macs. Falling back to the legacy Keras optimizer, i.e., `tf.keras.optimizers.legacy.Adam`.\n"
          ]
        },
        {
          "name": "stdout",
          "output_type": "stream",
          "text": [
            "Epoch 1/5\n",
            "125/125 [==============================] - 0s 1ms/step - loss: 1.6115 - accuracy: 0.1799 - val_loss: 1.6069 - val_accuracy: 0.2404\n",
            "Epoch 2/5\n",
            "125/125 [==============================] - 0s 642us/step - loss: 1.6028 - accuracy: 0.2538 - val_loss: 1.5981 - val_accuracy: 0.3045\n",
            "Epoch 3/5\n",
            "125/125 [==============================] - 0s 634us/step - loss: 1.5956 - accuracy: 0.2643 - val_loss: 1.5893 - val_accuracy: 0.3558\n",
            "Epoch 4/5\n",
            "125/125 [==============================] - 0s 638us/step - loss: 1.5870 - accuracy: 0.3068 - val_loss: 1.5803 - val_accuracy: 0.4263\n",
            "Epoch 5/5\n",
            "125/125 [==============================] - 0s 664us/step - loss: 1.5800 - accuracy: 0.3406 - val_loss: 1.5712 - val_accuracy: 0.4647\n"
          ]
        },
        {
          "name": "stderr",
          "output_type": "stream",
          "text": [
            "WARNING:absl:At this time, the v2.11+ optimizer `tf.keras.optimizers.Adam` runs slowly on M1/M2 Macs, please use the legacy Keras optimizer instead, located at `tf.keras.optimizers.legacy.Adam`.\n",
            "WARNING:absl:There is a known slowdown when using v2.11+ Keras optimizers on M1/M2 Macs. Falling back to the legacy Keras optimizer, i.e., `tf.keras.optimizers.legacy.Adam`.\n"
          ]
        },
        {
          "name": "stdout",
          "output_type": "stream",
          "text": [
            "Epoch 1/20\n",
            "125/125 [==============================] - 0s 1ms/step - loss: 1.6078 - accuracy: 0.2297 - val_loss: 1.6026 - val_accuracy: 0.2564\n",
            "Epoch 2/20\n",
            "125/125 [==============================] - 0s 639us/step - loss: 1.6000 - accuracy: 0.2466 - val_loss: 1.5949 - val_accuracy: 0.2692\n",
            "Epoch 3/20\n",
            "125/125 [==============================] - 0s 647us/step - loss: 1.5940 - accuracy: 0.2506 - val_loss: 1.5873 - val_accuracy: 0.2788\n",
            "Epoch 4/20\n",
            "125/125 [==============================] - 0s 659us/step - loss: 1.5841 - accuracy: 0.3036 - val_loss: 1.5797 - val_accuracy: 0.2917\n",
            "Epoch 5/20\n",
            "125/125 [==============================] - 0s 641us/step - loss: 1.5789 - accuracy: 0.3044 - val_loss: 1.5719 - val_accuracy: 0.3045\n",
            "Epoch 6/20\n",
            "125/125 [==============================] - 0s 629us/step - loss: 1.5723 - accuracy: 0.3229 - val_loss: 1.5640 - val_accuracy: 0.3397\n",
            "Epoch 7/20\n",
            "125/125 [==============================] - 0s 631us/step - loss: 1.5612 - accuracy: 0.3855 - val_loss: 1.5558 - val_accuracy: 0.3782\n",
            "Epoch 8/20\n",
            "125/125 [==============================] - 0s 624us/step - loss: 1.5532 - accuracy: 0.3880 - val_loss: 1.5471 - val_accuracy: 0.4103\n",
            "Epoch 9/20\n",
            "125/125 [==============================] - 0s 620us/step - loss: 1.5442 - accuracy: 0.4225 - val_loss: 1.5381 - val_accuracy: 0.4583\n",
            "Epoch 10/20\n",
            "125/125 [==============================] - 0s 624us/step - loss: 1.5408 - accuracy: 0.4418 - val_loss: 1.5290 - val_accuracy: 0.5000\n",
            "Epoch 11/20\n",
            "125/125 [==============================] - 0s 615us/step - loss: 1.5260 - accuracy: 0.4964 - val_loss: 1.5193 - val_accuracy: 0.5545\n",
            "Epoch 12/20\n",
            "125/125 [==============================] - 0s 622us/step - loss: 1.5176 - accuracy: 0.5076 - val_loss: 1.5092 - val_accuracy: 0.5801\n",
            "Epoch 13/20\n",
            "125/125 [==============================] - 0s 629us/step - loss: 1.5089 - accuracy: 0.5494 - val_loss: 1.4986 - val_accuracy: 0.6282\n",
            "Epoch 14/20\n",
            "125/125 [==============================] - 0s 638us/step - loss: 1.5010 - accuracy: 0.5558 - val_loss: 1.4879 - val_accuracy: 0.6731\n",
            "Epoch 15/20\n",
            "125/125 [==============================] - 0s 617us/step - loss: 1.4916 - accuracy: 0.5751 - val_loss: 1.4770 - val_accuracy: 0.7179\n",
            "Epoch 16/20\n",
            "125/125 [==============================] - 0s 607us/step - loss: 1.4814 - accuracy: 0.5992 - val_loss: 1.4657 - val_accuracy: 0.7500\n",
            "Epoch 17/20\n",
            "125/125 [==============================] - 0s 625us/step - loss: 1.4656 - accuracy: 0.6442 - val_loss: 1.4539 - val_accuracy: 0.7564\n",
            "Epoch 18/20\n",
            "125/125 [==============================] - 0s 613us/step - loss: 1.4565 - accuracy: 0.6474 - val_loss: 1.4419 - val_accuracy: 0.7692\n",
            "Epoch 19/20\n",
            "125/125 [==============================] - 0s 631us/step - loss: 1.4452 - accuracy: 0.6835 - val_loss: 1.4298 - val_accuracy: 0.7885\n",
            "Epoch 20/20\n",
            "125/125 [==============================] - 0s 619us/step - loss: 1.4356 - accuracy: 0.6908 - val_loss: 1.4176 - val_accuracy: 0.8141\n"
          ]
        },
        {
          "name": "stderr",
          "output_type": "stream",
          "text": [
            "WARNING:absl:At this time, the v2.11+ optimizer `tf.keras.optimizers.Adam` runs slowly on M1/M2 Macs, please use the legacy Keras optimizer instead, located at `tf.keras.optimizers.legacy.Adam`.\n",
            "WARNING:absl:There is a known slowdown when using v2.11+ Keras optimizers on M1/M2 Macs. Falling back to the legacy Keras optimizer, i.e., `tf.keras.optimizers.legacy.Adam`.\n"
          ]
        },
        {
          "name": "stdout",
          "output_type": "stream",
          "text": [
            "Epoch 1/40\n",
            "125/125 [==============================] - 0s 1ms/step - loss: 1.5944 - accuracy: 0.2924 - val_loss: 1.5891 - val_accuracy: 0.3622\n",
            "Epoch 2/40\n",
            "125/125 [==============================] - 0s 634us/step - loss: 1.5871 - accuracy: 0.2988 - val_loss: 1.5806 - val_accuracy: 0.4038\n",
            "Epoch 3/40\n",
            "125/125 [==============================] - 0s 624us/step - loss: 1.5809 - accuracy: 0.3245 - val_loss: 1.5722 - val_accuracy: 0.4551\n",
            "Epoch 4/40\n",
            "125/125 [==============================] - 0s 626us/step - loss: 1.5752 - accuracy: 0.3590 - val_loss: 1.5638 - val_accuracy: 0.5000\n",
            "Epoch 5/40\n",
            "125/125 [==============================] - 0s 624us/step - loss: 1.5648 - accuracy: 0.3767 - val_loss: 1.5552 - val_accuracy: 0.5224\n",
            "Epoch 6/40\n",
            "125/125 [==============================] - 0s 619us/step - loss: 1.5603 - accuracy: 0.3896 - val_loss: 1.5464 - val_accuracy: 0.5481\n",
            "Epoch 7/40\n",
            "125/125 [==============================] - 0s 617us/step - loss: 1.5472 - accuracy: 0.4297 - val_loss: 1.5375 - val_accuracy: 0.6154\n",
            "Epoch 8/40\n",
            "125/125 [==============================] - 0s 623us/step - loss: 1.5393 - accuracy: 0.4723 - val_loss: 1.5281 - val_accuracy: 0.6506\n",
            "Epoch 9/40\n",
            "125/125 [==============================] - 0s 623us/step - loss: 1.5314 - accuracy: 0.4876 - val_loss: 1.5185 - val_accuracy: 0.6731\n",
            "Epoch 10/40\n",
            "125/125 [==============================] - 0s 621us/step - loss: 1.5200 - accuracy: 0.5325 - val_loss: 1.5083 - val_accuracy: 0.6987\n",
            "Epoch 11/40\n",
            "125/125 [==============================] - 0s 619us/step - loss: 1.5144 - accuracy: 0.5301 - val_loss: 1.4980 - val_accuracy: 0.7308\n",
            "Epoch 12/40\n",
            "125/125 [==============================] - 0s 634us/step - loss: 1.5027 - accuracy: 0.5671 - val_loss: 1.4873 - val_accuracy: 0.7564\n",
            "Epoch 13/40\n",
            "125/125 [==============================] - 0s 621us/step - loss: 1.4941 - accuracy: 0.5823 - val_loss: 1.4762 - val_accuracy: 0.7724\n",
            "Epoch 14/40\n",
            "125/125 [==============================] - 0s 741us/step - loss: 1.4851 - accuracy: 0.6080 - val_loss: 1.4651 - val_accuracy: 0.7949\n",
            "Epoch 15/40\n",
            "125/125 [==============================] - 0s 626us/step - loss: 1.4744 - accuracy: 0.6217 - val_loss: 1.4538 - val_accuracy: 0.8077\n",
            "Epoch 16/40\n",
            "125/125 [==============================] - 0s 626us/step - loss: 1.4564 - accuracy: 0.6643 - val_loss: 1.4419 - val_accuracy: 0.8205\n",
            "Epoch 17/40\n",
            "125/125 [==============================] - 0s 626us/step - loss: 1.4468 - accuracy: 0.6843 - val_loss: 1.4297 - val_accuracy: 0.8269\n",
            "Epoch 18/40\n",
            "125/125 [==============================] - 0s 626us/step - loss: 1.4348 - accuracy: 0.6932 - val_loss: 1.4173 - val_accuracy: 0.8397\n",
            "Epoch 19/40\n",
            "125/125 [==============================] - 0s 622us/step - loss: 1.4312 - accuracy: 0.6892 - val_loss: 1.4051 - val_accuracy: 0.8397\n",
            "Epoch 20/40\n",
            "125/125 [==============================] - 0s 627us/step - loss: 1.4111 - accuracy: 0.7253 - val_loss: 1.3922 - val_accuracy: 0.8462\n",
            "Epoch 21/40\n",
            "125/125 [==============================] - 0s 620us/step - loss: 1.4047 - accuracy: 0.7277 - val_loss: 1.3795 - val_accuracy: 0.8494\n",
            "Epoch 22/40\n",
            "125/125 [==============================] - 0s 622us/step - loss: 1.3858 - accuracy: 0.7494 - val_loss: 1.3665 - val_accuracy: 0.8494\n",
            "Epoch 23/40\n",
            "125/125 [==============================] - 0s 627us/step - loss: 1.3764 - accuracy: 0.7614 - val_loss: 1.3532 - val_accuracy: 0.8558\n",
            "Epoch 24/40\n",
            "125/125 [==============================] - 0s 618us/step - loss: 1.3676 - accuracy: 0.7494 - val_loss: 1.3401 - val_accuracy: 0.8590\n",
            "Epoch 25/40\n",
            "125/125 [==============================] - 0s 616us/step - loss: 1.3567 - accuracy: 0.7590 - val_loss: 1.3270 - val_accuracy: 0.8686\n",
            "Epoch 26/40\n",
            "125/125 [==============================] - 0s 620us/step - loss: 1.3416 - accuracy: 0.7703 - val_loss: 1.3138 - val_accuracy: 0.8718\n",
            "Epoch 27/40\n",
            "125/125 [==============================] - 0s 623us/step - loss: 1.3261 - accuracy: 0.7839 - val_loss: 1.3005 - val_accuracy: 0.8782\n",
            "Epoch 28/40\n",
            "125/125 [==============================] - 0s 625us/step - loss: 1.3166 - accuracy: 0.7695 - val_loss: 1.2871 - val_accuracy: 0.8782\n",
            "Epoch 29/40\n",
            "125/125 [==============================] - 0s 620us/step - loss: 1.3090 - accuracy: 0.8000 - val_loss: 1.2739 - val_accuracy: 0.8846\n",
            "Epoch 30/40\n",
            "125/125 [==============================] - 0s 626us/step - loss: 1.2897 - accuracy: 0.7896 - val_loss: 1.2604 - val_accuracy: 0.8878\n",
            "Epoch 31/40\n",
            "125/125 [==============================] - 0s 617us/step - loss: 1.2761 - accuracy: 0.8096 - val_loss: 1.2469 - val_accuracy: 0.8910\n",
            "Epoch 32/40\n",
            "125/125 [==============================] - 0s 618us/step - loss: 1.2623 - accuracy: 0.8032 - val_loss: 1.2333 - val_accuracy: 0.8974\n",
            "Epoch 33/40\n",
            "125/125 [==============================] - 0s 618us/step - loss: 1.2581 - accuracy: 0.8032 - val_loss: 1.2200 - val_accuracy: 0.8974\n",
            "Epoch 34/40\n",
            "125/125 [==============================] - 0s 617us/step - loss: 1.2411 - accuracy: 0.8145 - val_loss: 1.2066 - val_accuracy: 0.8974\n",
            "Epoch 35/40\n",
            "125/125 [==============================] - 0s 619us/step - loss: 1.2301 - accuracy: 0.8249 - val_loss: 1.1933 - val_accuracy: 0.8974\n",
            "Epoch 36/40\n",
            "125/125 [==============================] - 0s 623us/step - loss: 1.2174 - accuracy: 0.8257 - val_loss: 1.1801 - val_accuracy: 0.9006\n",
            "Epoch 37/40\n",
            "125/125 [==============================] - 0s 614us/step - loss: 1.2074 - accuracy: 0.8241 - val_loss: 1.1670 - val_accuracy: 0.9006\n",
            "Epoch 38/40\n",
            "125/125 [==============================] - 0s 625us/step - loss: 1.1905 - accuracy: 0.8361 - val_loss: 1.1538 - val_accuracy: 0.9038\n",
            "Epoch 39/40\n",
            "125/125 [==============================] - 0s 621us/step - loss: 1.1881 - accuracy: 0.8305 - val_loss: 1.1410 - val_accuracy: 0.9071\n",
            "Epoch 40/40\n",
            "125/125 [==============================] - 0s 631us/step - loss: 1.1742 - accuracy: 0.8386 - val_loss: 1.1281 - val_accuracy: 0.9103\n"
          ]
        },
        {
          "name": "stderr",
          "output_type": "stream",
          "text": [
            "WARNING:absl:At this time, the v2.11+ optimizer `tf.keras.optimizers.Adam` runs slowly on M1/M2 Macs, please use the legacy Keras optimizer instead, located at `tf.keras.optimizers.legacy.Adam`.\n",
            "WARNING:absl:There is a known slowdown when using v2.11+ Keras optimizers on M1/M2 Macs. Falling back to the legacy Keras optimizer, i.e., `tf.keras.optimizers.legacy.Adam`.\n"
          ]
        },
        {
          "name": "stdout",
          "output_type": "stream",
          "text": [
            "Epoch 1/5\n",
            "125/125 [==============================] - 0s 1ms/step - loss: 1.6081 - accuracy: 0.1920 - val_loss: 1.6059 - val_accuracy: 0.1795\n",
            "Epoch 2/5\n",
            "125/125 [==============================] - 0s 684us/step - loss: 1.6013 - accuracy: 0.2225 - val_loss: 1.5935 - val_accuracy: 0.2244\n",
            "Epoch 3/5\n",
            "125/125 [==============================] - 0s 685us/step - loss: 1.5872 - accuracy: 0.2835 - val_loss: 1.5810 - val_accuracy: 0.2949\n",
            "Epoch 4/5\n",
            "125/125 [==============================] - 0s 673us/step - loss: 1.5749 - accuracy: 0.3382 - val_loss: 1.5686 - val_accuracy: 0.3814\n",
            "Epoch 5/5\n",
            "125/125 [==============================] - 0s 674us/step - loss: 1.5655 - accuracy: 0.3719 - val_loss: 1.5559 - val_accuracy: 0.5064\n"
          ]
        },
        {
          "name": "stderr",
          "output_type": "stream",
          "text": [
            "WARNING:absl:At this time, the v2.11+ optimizer `tf.keras.optimizers.Adam` runs slowly on M1/M2 Macs, please use the legacy Keras optimizer instead, located at `tf.keras.optimizers.legacy.Adam`.\n",
            "WARNING:absl:There is a known slowdown when using v2.11+ Keras optimizers on M1/M2 Macs. Falling back to the legacy Keras optimizer, i.e., `tf.keras.optimizers.legacy.Adam`.\n"
          ]
        },
        {
          "name": "stdout",
          "output_type": "stream",
          "text": [
            "Epoch 1/20\n",
            "125/125 [==============================] - 0s 1ms/step - loss: 1.5978 - accuracy: 0.2602 - val_loss: 1.5890 - val_accuracy: 0.4295\n",
            "Epoch 2/20\n",
            "125/125 [==============================] - 0s 676us/step - loss: 1.5822 - accuracy: 0.3502 - val_loss: 1.5764 - val_accuracy: 0.5064\n",
            "Epoch 3/20\n",
            "125/125 [==============================] - 0s 666us/step - loss: 1.5717 - accuracy: 0.3759 - val_loss: 1.5636 - val_accuracy: 0.5256\n",
            "Epoch 4/20\n",
            "125/125 [==============================] - 0s 671us/step - loss: 1.5602 - accuracy: 0.4386 - val_loss: 1.5504 - val_accuracy: 0.5641\n",
            "Epoch 5/20\n",
            "125/125 [==============================] - 0s 677us/step - loss: 1.5469 - accuracy: 0.4908 - val_loss: 1.5367 - val_accuracy: 0.6218\n",
            "Epoch 6/20\n",
            "125/125 [==============================] - 0s 689us/step - loss: 1.5309 - accuracy: 0.5486 - val_loss: 1.5225 - val_accuracy: 0.6346\n",
            "Epoch 7/20\n",
            "125/125 [==============================] - 0s 665us/step - loss: 1.5205 - accuracy: 0.5454 - val_loss: 1.5076 - val_accuracy: 0.6955\n",
            "Epoch 8/20\n",
            "125/125 [==============================] - 0s 680us/step - loss: 1.5048 - accuracy: 0.5831 - val_loss: 1.4924 - val_accuracy: 0.7340\n",
            "Epoch 9/20\n",
            "125/125 [==============================] - 0s 680us/step - loss: 1.4908 - accuracy: 0.6104 - val_loss: 1.4763 - val_accuracy: 0.7564\n",
            "Epoch 10/20\n",
            "125/125 [==============================] - 0s 673us/step - loss: 1.4762 - accuracy: 0.6201 - val_loss: 1.4596 - val_accuracy: 0.7821\n",
            "Epoch 11/20\n",
            "125/125 [==============================] - 0s 706us/step - loss: 1.4572 - accuracy: 0.6691 - val_loss: 1.4425 - val_accuracy: 0.7917\n",
            "Epoch 12/20\n",
            "125/125 [==============================] - 0s 691us/step - loss: 1.4430 - accuracy: 0.7052 - val_loss: 1.4250 - val_accuracy: 0.8013\n",
            "Epoch 13/20\n",
            "125/125 [==============================] - 0s 675us/step - loss: 1.4242 - accuracy: 0.7269 - val_loss: 1.4071 - val_accuracy: 0.8237\n",
            "Epoch 14/20\n",
            "125/125 [==============================] - 0s 702us/step - loss: 1.4104 - accuracy: 0.7277 - val_loss: 1.3888 - val_accuracy: 0.8365\n",
            "Epoch 15/20\n",
            "125/125 [==============================] - 0s 676us/step - loss: 1.3904 - accuracy: 0.7373 - val_loss: 1.3702 - val_accuracy: 0.8494\n",
            "Epoch 16/20\n",
            "125/125 [==============================] - 0s 667us/step - loss: 1.3757 - accuracy: 0.7494 - val_loss: 1.3511 - val_accuracy: 0.8622\n",
            "Epoch 17/20\n",
            "125/125 [==============================] - 0s 667us/step - loss: 1.3571 - accuracy: 0.7711 - val_loss: 1.3319 - val_accuracy: 0.8750\n",
            "Epoch 18/20\n",
            "125/125 [==============================] - 0s 669us/step - loss: 1.3376 - accuracy: 0.7735 - val_loss: 1.3125 - val_accuracy: 0.8878\n",
            "Epoch 19/20\n",
            "125/125 [==============================] - 0s 675us/step - loss: 1.3192 - accuracy: 0.8056 - val_loss: 1.2930 - val_accuracy: 0.8942\n",
            "Epoch 20/20\n",
            "125/125 [==============================] - 0s 673us/step - loss: 1.2943 - accuracy: 0.8080 - val_loss: 1.2732 - val_accuracy: 0.8974\n"
          ]
        },
        {
          "name": "stderr",
          "output_type": "stream",
          "text": [
            "WARNING:absl:At this time, the v2.11+ optimizer `tf.keras.optimizers.Adam` runs slowly on M1/M2 Macs, please use the legacy Keras optimizer instead, located at `tf.keras.optimizers.legacy.Adam`.\n",
            "WARNING:absl:There is a known slowdown when using v2.11+ Keras optimizers on M1/M2 Macs. Falling back to the legacy Keras optimizer, i.e., `tf.keras.optimizers.legacy.Adam`.\n"
          ]
        },
        {
          "name": "stdout",
          "output_type": "stream",
          "text": [
            "Epoch 1/40\n",
            "125/125 [==============================] - 0s 1ms/step - loss: 1.6007 - accuracy: 0.2458 - val_loss: 1.5899 - val_accuracy: 0.3750\n",
            "Epoch 2/40\n",
            "125/125 [==============================] - 0s 696us/step - loss: 1.5872 - accuracy: 0.3068 - val_loss: 1.5779 - val_accuracy: 0.4583\n",
            "Epoch 3/40\n",
            "125/125 [==============================] - 0s 687us/step - loss: 1.5777 - accuracy: 0.3542 - val_loss: 1.5655 - val_accuracy: 0.5641\n",
            "Epoch 4/40\n",
            "125/125 [==============================] - 0s 679us/step - loss: 1.5647 - accuracy: 0.4386 - val_loss: 1.5533 - val_accuracy: 0.6699\n",
            "Epoch 5/40\n",
            "125/125 [==============================] - 0s 677us/step - loss: 1.5548 - accuracy: 0.4570 - val_loss: 1.5406 - val_accuracy: 0.7404\n",
            "Epoch 6/40\n",
            "125/125 [==============================] - 0s 708us/step - loss: 1.5431 - accuracy: 0.5430 - val_loss: 1.5276 - val_accuracy: 0.7788\n",
            "Epoch 7/40\n",
            "125/125 [==============================] - 0s 681us/step - loss: 1.5270 - accuracy: 0.6040 - val_loss: 1.5140 - val_accuracy: 0.7981\n",
            "Epoch 8/40\n",
            "125/125 [==============================] - 0s 677us/step - loss: 1.5133 - accuracy: 0.6426 - val_loss: 1.5000 - val_accuracy: 0.8173\n",
            "Epoch 9/40\n",
            "125/125 [==============================] - 0s 680us/step - loss: 1.5012 - accuracy: 0.6578 - val_loss: 1.4855 - val_accuracy: 0.8237\n",
            "Epoch 10/40\n",
            "125/125 [==============================] - 0s 697us/step - loss: 1.4857 - accuracy: 0.6964 - val_loss: 1.4706 - val_accuracy: 0.8462\n",
            "Epoch 11/40\n",
            "125/125 [==============================] - 0s 685us/step - loss: 1.4744 - accuracy: 0.7173 - val_loss: 1.4554 - val_accuracy: 0.8526\n",
            "Epoch 12/40\n",
            "125/125 [==============================] - 0s 707us/step - loss: 1.4587 - accuracy: 0.7494 - val_loss: 1.4398 - val_accuracy: 0.8590\n",
            "Epoch 13/40\n",
            "125/125 [==============================] - 0s 679us/step - loss: 1.4452 - accuracy: 0.7502 - val_loss: 1.4238 - val_accuracy: 0.8718\n",
            "Epoch 14/40\n",
            "125/125 [==============================] - 0s 677us/step - loss: 1.4320 - accuracy: 0.7574 - val_loss: 1.4077 - val_accuracy: 0.8782\n",
            "Epoch 15/40\n",
            "125/125 [==============================] - 0s 676us/step - loss: 1.4153 - accuracy: 0.7799 - val_loss: 1.3912 - val_accuracy: 0.9006\n",
            "Epoch 16/40\n",
            "125/125 [==============================] - 0s 679us/step - loss: 1.3923 - accuracy: 0.8008 - val_loss: 1.3740 - val_accuracy: 0.9038\n",
            "Epoch 17/40\n",
            "125/125 [==============================] - 0s 672us/step - loss: 1.3779 - accuracy: 0.8120 - val_loss: 1.3566 - val_accuracy: 0.9071\n",
            "Epoch 18/40\n",
            "125/125 [==============================] - 0s 678us/step - loss: 1.3670 - accuracy: 0.8112 - val_loss: 1.3393 - val_accuracy: 0.9103\n",
            "Epoch 19/40\n",
            "125/125 [==============================] - 0s 683us/step - loss: 1.3466 - accuracy: 0.8281 - val_loss: 1.3217 - val_accuracy: 0.9135\n",
            "Epoch 20/40\n",
            "125/125 [==============================] - 0s 673us/step - loss: 1.3317 - accuracy: 0.8273 - val_loss: 1.3038 - val_accuracy: 0.9231\n",
            "Epoch 21/40\n",
            "125/125 [==============================] - 0s 677us/step - loss: 1.3061 - accuracy: 0.8578 - val_loss: 1.2856 - val_accuracy: 0.9231\n",
            "Epoch 22/40\n",
            "125/125 [==============================] - 0s 687us/step - loss: 1.2976 - accuracy: 0.8482 - val_loss: 1.2678 - val_accuracy: 0.9327\n",
            "Epoch 23/40\n",
            "125/125 [==============================] - 0s 684us/step - loss: 1.2754 - accuracy: 0.8691 - val_loss: 1.2496 - val_accuracy: 0.9327\n",
            "Epoch 24/40\n",
            "125/125 [==============================] - 0s 691us/step - loss: 1.2592 - accuracy: 0.8795 - val_loss: 1.2314 - val_accuracy: 0.9359\n",
            "Epoch 25/40\n",
            "125/125 [==============================] - 0s 678us/step - loss: 1.2454 - accuracy: 0.8731 - val_loss: 1.2133 - val_accuracy: 0.9391\n",
            "Epoch 26/40\n",
            "125/125 [==============================] - 0s 683us/step - loss: 1.2272 - accuracy: 0.8763 - val_loss: 1.1952 - val_accuracy: 0.9391\n",
            "Epoch 27/40\n",
            "125/125 [==============================] - 0s 673us/step - loss: 1.2070 - accuracy: 0.8795 - val_loss: 1.1772 - val_accuracy: 0.9391\n",
            "Epoch 28/40\n",
            "125/125 [==============================] - 0s 680us/step - loss: 1.1913 - accuracy: 0.8827 - val_loss: 1.1593 - val_accuracy: 0.9391\n",
            "Epoch 29/40\n",
            "125/125 [==============================] - 0s 680us/step - loss: 1.1745 - accuracy: 0.8835 - val_loss: 1.1415 - val_accuracy: 0.9391\n",
            "Epoch 30/40\n",
            "125/125 [==============================] - 0s 682us/step - loss: 1.1547 - accuracy: 0.8884 - val_loss: 1.1237 - val_accuracy: 0.9391\n",
            "Epoch 31/40\n",
            "125/125 [==============================] - 0s 684us/step - loss: 1.1388 - accuracy: 0.8964 - val_loss: 1.1061 - val_accuracy: 0.9359\n",
            "Epoch 32/40\n",
            "125/125 [==============================] - 0s 687us/step - loss: 1.1264 - accuracy: 0.8940 - val_loss: 1.0885 - val_accuracy: 0.9359\n",
            "Epoch 33/40\n",
            "125/125 [==============================] - 0s 681us/step - loss: 1.1046 - accuracy: 0.8972 - val_loss: 1.0709 - val_accuracy: 0.9359\n",
            "Epoch 34/40\n",
            "125/125 [==============================] - 0s 680us/step - loss: 1.0942 - accuracy: 0.9004 - val_loss: 1.0538 - val_accuracy: 0.9359\n",
            "Epoch 35/40\n",
            "125/125 [==============================] - 0s 683us/step - loss: 1.0713 - accuracy: 0.8996 - val_loss: 1.0364 - val_accuracy: 0.9359\n",
            "Epoch 36/40\n",
            "125/125 [==============================] - 0s 680us/step - loss: 1.0592 - accuracy: 0.9108 - val_loss: 1.0194 - val_accuracy: 0.9359\n",
            "Epoch 37/40\n",
            "125/125 [==============================] - 0s 687us/step - loss: 1.0408 - accuracy: 0.9108 - val_loss: 1.0023 - val_accuracy: 0.9391\n",
            "Epoch 38/40\n",
            "125/125 [==============================] - 0s 681us/step - loss: 1.0204 - accuracy: 0.9124 - val_loss: 0.9855 - val_accuracy: 0.9391\n",
            "Epoch 39/40\n",
            "125/125 [==============================] - 0s 690us/step - loss: 1.0111 - accuracy: 0.9205 - val_loss: 0.9688 - val_accuracy: 0.9391\n",
            "Epoch 40/40\n",
            "125/125 [==============================] - 0s 688us/step - loss: 0.9971 - accuracy: 0.9092 - val_loss: 0.9524 - val_accuracy: 0.9391\n"
          ]
        },
        {
          "name": "stderr",
          "output_type": "stream",
          "text": [
            "WARNING:absl:At this time, the v2.11+ optimizer `tf.keras.optimizers.Adam` runs slowly on M1/M2 Macs, please use the legacy Keras optimizer instead, located at `tf.keras.optimizers.legacy.Adam`.\n",
            "WARNING:absl:There is a known slowdown when using v2.11+ Keras optimizers on M1/M2 Macs. Falling back to the legacy Keras optimizer, i.e., `tf.keras.optimizers.legacy.Adam`.\n"
          ]
        },
        {
          "name": "stdout",
          "output_type": "stream",
          "text": [
            "Epoch 1/5\n",
            "125/125 [==============================] - 0s 1ms/step - loss: 1.6036 - accuracy: 0.2305 - val_loss: 1.5935 - val_accuracy: 0.3462\n",
            "Epoch 2/5\n",
            "125/125 [==============================] - 0s 759us/step - loss: 1.5875 - accuracy: 0.2972 - val_loss: 1.5761 - val_accuracy: 0.4231\n",
            "Epoch 3/5\n",
            "125/125 [==============================] - 0s 759us/step - loss: 1.5684 - accuracy: 0.3936 - val_loss: 1.5587 - val_accuracy: 0.5032\n",
            "Epoch 4/5\n",
            "125/125 [==============================] - 0s 784us/step - loss: 1.5536 - accuracy: 0.4916 - val_loss: 1.5412 - val_accuracy: 0.5897\n",
            "Epoch 5/5\n",
            "125/125 [==============================] - 0s 755us/step - loss: 1.5370 - accuracy: 0.5502 - val_loss: 1.5231 - val_accuracy: 0.7019\n"
          ]
        },
        {
          "name": "stderr",
          "output_type": "stream",
          "text": [
            "WARNING:absl:At this time, the v2.11+ optimizer `tf.keras.optimizers.Adam` runs slowly on M1/M2 Macs, please use the legacy Keras optimizer instead, located at `tf.keras.optimizers.legacy.Adam`.\n",
            "WARNING:absl:There is a known slowdown when using v2.11+ Keras optimizers on M1/M2 Macs. Falling back to the legacy Keras optimizer, i.e., `tf.keras.optimizers.legacy.Adam`.\n"
          ]
        },
        {
          "name": "stdout",
          "output_type": "stream",
          "text": [
            "Epoch 1/20\n",
            "125/125 [==============================] - 0s 1ms/step - loss: 1.6070 - accuracy: 0.1976 - val_loss: 1.5966 - val_accuracy: 0.3013\n",
            "Epoch 2/20\n",
            "125/125 [==============================] - 0s 981us/step - loss: 1.5917 - accuracy: 0.2884 - val_loss: 1.5795 - val_accuracy: 0.4583\n",
            "Epoch 3/20\n",
            "125/125 [==============================] - 0s 755us/step - loss: 1.5746 - accuracy: 0.3984 - val_loss: 1.5623 - val_accuracy: 0.5769\n",
            "Epoch 4/20\n",
            "125/125 [==============================] - 0s 749us/step - loss: 1.5586 - accuracy: 0.4659 - val_loss: 1.5451 - val_accuracy: 0.6506\n",
            "Epoch 5/20\n",
            "125/125 [==============================] - 0s 757us/step - loss: 1.5389 - accuracy: 0.5566 - val_loss: 1.5272 - val_accuracy: 0.6987\n",
            "Epoch 6/20\n",
            "125/125 [==============================] - 0s 755us/step - loss: 1.5255 - accuracy: 0.6080 - val_loss: 1.5086 - val_accuracy: 0.7244\n",
            "Epoch 7/20\n",
            "125/125 [==============================] - 0s 764us/step - loss: 1.5043 - accuracy: 0.6667 - val_loss: 1.4893 - val_accuracy: 0.7628\n",
            "Epoch 8/20\n",
            "125/125 [==============================] - 0s 763us/step - loss: 1.4852 - accuracy: 0.7052 - val_loss: 1.4693 - val_accuracy: 0.7788\n",
            "Epoch 9/20\n",
            "125/125 [==============================] - 0s 751us/step - loss: 1.4641 - accuracy: 0.7301 - val_loss: 1.4484 - val_accuracy: 0.8045\n",
            "Epoch 10/20\n",
            "125/125 [==============================] - 0s 764us/step - loss: 1.4448 - accuracy: 0.7655 - val_loss: 1.4268 - val_accuracy: 0.8205\n",
            "Epoch 11/20\n",
            "125/125 [==============================] - 0s 761us/step - loss: 1.4251 - accuracy: 0.7952 - val_loss: 1.4048 - val_accuracy: 0.8429\n",
            "Epoch 12/20\n",
            "125/125 [==============================] - 0s 755us/step - loss: 1.4036 - accuracy: 0.7976 - val_loss: 1.3823 - val_accuracy: 0.8590\n",
            "Epoch 13/20\n",
            "125/125 [==============================] - 0s 754us/step - loss: 1.3823 - accuracy: 0.8241 - val_loss: 1.3590 - val_accuracy: 0.8654\n",
            "Epoch 14/20\n",
            "125/125 [==============================] - 0s 759us/step - loss: 1.3593 - accuracy: 0.8313 - val_loss: 1.3355 - val_accuracy: 0.8686\n",
            "Epoch 15/20\n",
            "125/125 [==============================] - 0s 753us/step - loss: 1.3378 - accuracy: 0.8498 - val_loss: 1.3119 - val_accuracy: 0.8782\n",
            "Epoch 16/20\n",
            "125/125 [==============================] - 0s 750us/step - loss: 1.3120 - accuracy: 0.8763 - val_loss: 1.2873 - val_accuracy: 0.8942\n",
            "Epoch 17/20\n",
            "125/125 [==============================] - 0s 753us/step - loss: 1.2907 - accuracy: 0.8627 - val_loss: 1.2626 - val_accuracy: 0.8974\n",
            "Epoch 18/20\n",
            "125/125 [==============================] - 0s 755us/step - loss: 1.2642 - accuracy: 0.8755 - val_loss: 1.2376 - val_accuracy: 0.9038\n",
            "Epoch 19/20\n",
            "125/125 [==============================] - 0s 754us/step - loss: 1.2370 - accuracy: 0.8932 - val_loss: 1.2123 - val_accuracy: 0.9038\n",
            "Epoch 20/20\n",
            "125/125 [==============================] - 0s 779us/step - loss: 1.2218 - accuracy: 0.8924 - val_loss: 1.1871 - val_accuracy: 0.9135\n"
          ]
        },
        {
          "name": "stderr",
          "output_type": "stream",
          "text": [
            "WARNING:absl:At this time, the v2.11+ optimizer `tf.keras.optimizers.Adam` runs slowly on M1/M2 Macs, please use the legacy Keras optimizer instead, located at `tf.keras.optimizers.legacy.Adam`.\n",
            "WARNING:absl:There is a known slowdown when using v2.11+ Keras optimizers on M1/M2 Macs. Falling back to the legacy Keras optimizer, i.e., `tf.keras.optimizers.legacy.Adam`.\n"
          ]
        },
        {
          "name": "stdout",
          "output_type": "stream",
          "text": [
            "Epoch 1/40\n",
            "125/125 [==============================] - 0s 1ms/step - loss: 1.6003 - accuracy: 0.2361 - val_loss: 1.5916 - val_accuracy: 0.2917\n",
            "Epoch 2/40\n",
            "125/125 [==============================] - 0s 783us/step - loss: 1.5824 - accuracy: 0.3269 - val_loss: 1.5740 - val_accuracy: 0.4359\n",
            "Epoch 3/40\n",
            "125/125 [==============================] - 0s 765us/step - loss: 1.5650 - accuracy: 0.4185 - val_loss: 1.5563 - val_accuracy: 0.5673\n",
            "Epoch 4/40\n",
            "125/125 [==============================] - 0s 783us/step - loss: 1.5498 - accuracy: 0.4980 - val_loss: 1.5384 - val_accuracy: 0.6731\n",
            "Epoch 5/40\n",
            "125/125 [==============================] - 0s 763us/step - loss: 1.5303 - accuracy: 0.5751 - val_loss: 1.5197 - val_accuracy: 0.7500\n",
            "Epoch 6/40\n",
            "125/125 [==============================] - 0s 759us/step - loss: 1.5141 - accuracy: 0.6281 - val_loss: 1.5004 - val_accuracy: 0.7949\n",
            "Epoch 7/40\n",
            "125/125 [==============================] - 0s 765us/step - loss: 1.4943 - accuracy: 0.6699 - val_loss: 1.4804 - val_accuracy: 0.8109\n",
            "Epoch 8/40\n",
            "125/125 [==============================] - 0s 769us/step - loss: 1.4760 - accuracy: 0.7133 - val_loss: 1.4599 - val_accuracy: 0.8462\n",
            "Epoch 9/40\n",
            "125/125 [==============================] - 0s 784us/step - loss: 1.4566 - accuracy: 0.7494 - val_loss: 1.4386 - val_accuracy: 0.8622\n",
            "Epoch 10/40\n",
            "125/125 [==============================] - 0s 783us/step - loss: 1.4362 - accuracy: 0.7799 - val_loss: 1.4167 - val_accuracy: 0.8718\n",
            "Epoch 11/40\n",
            "125/125 [==============================] - 0s 761us/step - loss: 1.4141 - accuracy: 0.8040 - val_loss: 1.3941 - val_accuracy: 0.8878\n",
            "Epoch 12/40\n",
            "125/125 [==============================] - 0s 766us/step - loss: 1.3918 - accuracy: 0.8177 - val_loss: 1.3708 - val_accuracy: 0.8942\n",
            "Epoch 13/40\n",
            "125/125 [==============================] - 0s 762us/step - loss: 1.3680 - accuracy: 0.8241 - val_loss: 1.3467 - val_accuracy: 0.9071\n",
            "Epoch 14/40\n",
            "125/125 [==============================] - 0s 765us/step - loss: 1.3473 - accuracy: 0.8466 - val_loss: 1.3222 - val_accuracy: 0.9167\n",
            "Epoch 15/40\n",
            "125/125 [==============================] - 0s 773us/step - loss: 1.3224 - accuracy: 0.8570 - val_loss: 1.2975 - val_accuracy: 0.9327\n",
            "Epoch 16/40\n",
            "125/125 [==============================] - 0s 793us/step - loss: 1.2977 - accuracy: 0.8578 - val_loss: 1.2719 - val_accuracy: 0.9359\n",
            "Epoch 17/40\n",
            "125/125 [==============================] - 0s 778us/step - loss: 1.2732 - accuracy: 0.8691 - val_loss: 1.2461 - val_accuracy: 0.9423\n",
            "Epoch 18/40\n",
            "125/125 [==============================] - 0s 763us/step - loss: 1.2490 - accuracy: 0.8876 - val_loss: 1.2203 - val_accuracy: 0.9455\n",
            "Epoch 19/40\n",
            "125/125 [==============================] - 0s 766us/step - loss: 1.2207 - accuracy: 0.8916 - val_loss: 1.1943 - val_accuracy: 0.9455\n",
            "Epoch 20/40\n",
            "125/125 [==============================] - 0s 764us/step - loss: 1.1988 - accuracy: 0.8956 - val_loss: 1.1681 - val_accuracy: 0.9455\n",
            "Epoch 21/40\n",
            "125/125 [==============================] - 0s 786us/step - loss: 1.1744 - accuracy: 0.8908 - val_loss: 1.1422 - val_accuracy: 0.9455\n",
            "Epoch 22/40\n",
            "125/125 [==============================] - 0s 772us/step - loss: 1.1513 - accuracy: 0.9068 - val_loss: 1.1166 - val_accuracy: 0.9487\n",
            "Epoch 23/40\n",
            "125/125 [==============================] - 0s 769us/step - loss: 1.1263 - accuracy: 0.9181 - val_loss: 1.0909 - val_accuracy: 0.9519\n",
            "Epoch 24/40\n",
            "125/125 [==============================] - 0s 771us/step - loss: 1.0997 - accuracy: 0.9149 - val_loss: 1.0655 - val_accuracy: 0.9551\n",
            "Epoch 25/40\n",
            "125/125 [==============================] - 0s 760us/step - loss: 1.0765 - accuracy: 0.9181 - val_loss: 1.0403 - val_accuracy: 0.9551\n",
            "Epoch 26/40\n",
            "125/125 [==============================] - 0s 763us/step - loss: 1.0505 - accuracy: 0.9141 - val_loss: 1.0155 - val_accuracy: 0.9583\n",
            "Epoch 27/40\n",
            "125/125 [==============================] - 0s 757us/step - loss: 1.0302 - accuracy: 0.9245 - val_loss: 0.9910 - val_accuracy: 0.9615\n",
            "Epoch 28/40\n",
            "125/125 [==============================] - 0s 760us/step - loss: 1.0024 - accuracy: 0.9108 - val_loss: 0.9670 - val_accuracy: 0.9615\n",
            "Epoch 29/40\n",
            "125/125 [==============================] - 0s 771us/step - loss: 0.9800 - accuracy: 0.9253 - val_loss: 0.9434 - val_accuracy: 0.9615\n",
            "Epoch 30/40\n",
            "125/125 [==============================] - 0s 768us/step - loss: 0.9568 - accuracy: 0.9213 - val_loss: 0.9201 - val_accuracy: 0.9647\n",
            "Epoch 31/40\n",
            "125/125 [==============================] - 0s 757us/step - loss: 0.9411 - accuracy: 0.9261 - val_loss: 0.8974 - val_accuracy: 0.9647\n",
            "Epoch 32/40\n",
            "125/125 [==============================] - 0s 763us/step - loss: 0.9122 - accuracy: 0.9341 - val_loss: 0.8751 - val_accuracy: 0.9647\n",
            "Epoch 33/40\n",
            "125/125 [==============================] - 0s 758us/step - loss: 0.8896 - accuracy: 0.9333 - val_loss: 0.8530 - val_accuracy: 0.9647\n",
            "Epoch 34/40\n",
            "125/125 [==============================] - 0s 765us/step - loss: 0.8701 - accuracy: 0.9422 - val_loss: 0.8315 - val_accuracy: 0.9647\n",
            "Epoch 35/40\n",
            "125/125 [==============================] - 0s 757us/step - loss: 0.8528 - accuracy: 0.9317 - val_loss: 0.8103 - val_accuracy: 0.9647\n",
            "Epoch 36/40\n",
            "125/125 [==============================] - 0s 763us/step - loss: 0.8352 - accuracy: 0.9406 - val_loss: 0.7898 - val_accuracy: 0.9647\n",
            "Epoch 37/40\n",
            "125/125 [==============================] - 0s 806us/step - loss: 0.8207 - accuracy: 0.9357 - val_loss: 0.7698 - val_accuracy: 0.9679\n",
            "Epoch 38/40\n",
            "125/125 [==============================] - 0s 766us/step - loss: 0.7909 - accuracy: 0.9406 - val_loss: 0.7503 - val_accuracy: 0.9679\n",
            "Epoch 39/40\n",
            "125/125 [==============================] - 0s 768us/step - loss: 0.7749 - accuracy: 0.9422 - val_loss: 0.7313 - val_accuracy: 0.9679\n",
            "Epoch 40/40\n",
            "125/125 [==============================] - 0s 760us/step - loss: 0.7583 - accuracy: 0.9382 - val_loss: 0.7127 - val_accuracy: 0.9679\n"
          ]
        }
      ],
      "source": [
        "from itertools import product\n",
        "\n",
        "learning_rates = [0.001, 0.0001, 0.00001]\n",
        "units_values = [64, 128, 256]\n",
        "epochs_values = [5, 20, 40]\n",
        "\n",
        "# Creating all possible combinations of hyperparameters\n",
        "hyperparameter_combinations = list(product(learning_rates, units_values, epochs_values))\n",
        "\n",
        "input_dim = 512\n",
        "\n",
        "# Dictionary to store training results for each combination\n",
        "all_results = {}\n",
        "\n",
        "# Training the models for each possible combination\n",
        "for learning_rate, units, epochs in hyperparameter_combinations:\n",
        "    # Model Architecture\n",
        "    ann = tf.keras.models.Sequential()\n",
        "    ann.add(tf.keras.Input(shape=input_dim))\n",
        "    ann.add(tf.keras.layers.Dense(units=units, activation='relu'))\n",
        "    ann.add(tf.keras.layers.Dropout(0.5))\n",
        "    ann.add(tf.keras.layers.Dense(units=5, activation='softmax'))\n",
        "\n",
        "    # Compile the model\n",
        "    optimizer = tf.keras.optimizers.Adam(learning_rate=learning_rate)\n",
        "    ann.compile(optimizer=optimizer, loss='categorical_crossentropy', metrics=['accuracy'])\n",
        "\n",
        "    # Train the model\n",
        "    history = ann.fit(x_train, y_train, epochs=epochs, batch_size=10, validation_split=0.20)\n",
        "\n",
        "    # Get the final training loss and accuracy\n",
        "    final_train_loss = history.history['loss'][-1]\n",
        "    final_train_accuracy = history.history['accuracy'][-1]\n",
        "\n",
        "    # Get the validation loss and accuracy if available\n",
        "    if 'val_loss' in history.history and 'val_accuracy' in history.history:\n",
        "        final_val_loss = history.history['val_loss'][-1]\n",
        "        final_val_accuracy = history.history['val_accuracy'][-1]\n",
        "    else:\n",
        "        final_val_loss = None\n",
        "        final_val_accuracy = None\n",
        "\n",
        "    # Store relevant information in the dictionary\n",
        "    model_key = f\"LR_{learning_rate}_Units_{units}_Epochs_{epochs}\"\n",
        "    all_results[model_key] = {\n",
        "        'learning_rate': learning_rate,\n",
        "        'units': units,\n",
        "        'epochs': epochs,\n",
        "        'final_train_loss': final_train_loss,\n",
        "        'final_train_accuracy': final_train_accuracy,\n",
        "        'final_val_loss': final_val_loss,\n",
        "        'final_val_accuracy': final_val_accuracy\n",
        "    }"
      ]
    },
    {
      "cell_type": "code",
      "execution_count": 127,
      "metadata": {
        "colab": {
          "base_uri": "https://localhost:8080/"
        },
        "id": "BwSLA_-rU5aX",
        "outputId": "918ac8ed-6b50-44a7-c81b-6d15858d64d7"
      },
      "outputs": [
        {
          "name": "stdout",
          "output_type": "stream",
          "text": [
            "Architecture LR_0.001_Units_64_Epochs_5 parameters: \n",
            "learning_rate: 0.001000\n",
            "units: 64.000000\n",
            "epochs: 5.000000\n",
            "final_train_loss: 0.147918\n",
            "final_train_accuracy: 0.962249\n",
            "final_val_loss: 0.081368\n",
            "final_val_accuracy: 0.993590\n",
            "-----------\n",
            "Architecture LR_0.001_Units_64_Epochs_20 parameters: \n",
            "learning_rate: 0.001000\n",
            "units: 64.000000\n",
            "epochs: 20.000000\n",
            "final_train_loss: 0.028693\n",
            "final_train_accuracy: 0.995181\n",
            "final_val_loss: 0.036817\n",
            "final_val_accuracy: 0.990385\n",
            "-----------\n",
            "Architecture LR_0.001_Units_64_Epochs_40 parameters: \n",
            "learning_rate: 0.001000\n",
            "units: 64.000000\n",
            "epochs: 40.000000\n",
            "final_train_loss: 0.006162\n",
            "final_train_accuracy: 0.999197\n",
            "final_val_loss: 0.041128\n",
            "final_val_accuracy: 0.983974\n",
            "-----------\n",
            "Architecture LR_0.001_Units_128_Epochs_5 parameters: \n",
            "learning_rate: 0.001000\n",
            "units: 128.000000\n",
            "epochs: 5.000000\n",
            "final_train_loss: 0.088065\n",
            "final_train_accuracy: 0.981526\n",
            "final_val_loss: 0.068045\n",
            "final_val_accuracy: 0.993590\n",
            "-----------\n",
            "Architecture LR_0.001_Units_128_Epochs_20 parameters: \n",
            "learning_rate: 0.001000\n",
            "units: 128.000000\n",
            "epochs: 20.000000\n",
            "final_train_loss: 0.010569\n",
            "final_train_accuracy: 1.000000\n",
            "final_val_loss: 0.034467\n",
            "final_val_accuracy: 0.987179\n",
            "-----------\n",
            "Architecture LR_0.001_Units_128_Epochs_40 parameters: \n",
            "learning_rate: 0.001000\n",
            "units: 128.000000\n",
            "epochs: 40.000000\n",
            "final_train_loss: 0.001601\n",
            "final_train_accuracy: 1.000000\n",
            "final_val_loss: 0.052414\n",
            "final_val_accuracy: 0.977564\n",
            "-----------\n",
            "Architecture LR_0.001_Units_256_Epochs_5 parameters: \n",
            "learning_rate: 0.001000\n",
            "units: 256.000000\n",
            "epochs: 5.000000\n",
            "final_train_loss: 0.054316\n",
            "final_train_accuracy: 0.988755\n",
            "final_val_loss: 0.056395\n",
            "final_val_accuracy: 0.983974\n",
            "-----------\n",
            "Architecture LR_0.001_Units_256_Epochs_20 parameters: \n",
            "learning_rate: 0.001000\n",
            "units: 256.000000\n",
            "epochs: 20.000000\n",
            "final_train_loss: 0.003736\n",
            "final_train_accuracy: 1.000000\n",
            "final_val_loss: 0.038138\n",
            "final_val_accuracy: 0.983974\n",
            "-----------\n",
            "Architecture LR_0.001_Units_256_Epochs_40 parameters: \n",
            "learning_rate: 0.001000\n",
            "units: 256.000000\n",
            "epochs: 40.000000\n",
            "final_train_loss: 0.000711\n",
            "final_train_accuracy: 1.000000\n",
            "final_val_loss: 0.054558\n",
            "final_val_accuracy: 0.983974\n",
            "-----------\n",
            "Architecture LR_0.0001_Units_64_Epochs_5 parameters: \n",
            "learning_rate: 0.000100\n",
            "units: 64.000000\n",
            "epochs: 5.000000\n",
            "final_train_loss: 1.087000\n",
            "final_train_accuracy: 0.889960\n",
            "final_val_loss: 0.985037\n",
            "final_val_accuracy: 0.948718\n",
            "-----------\n",
            "Architecture LR_0.0001_Units_64_Epochs_20 parameters: \n",
            "learning_rate: 0.000100\n",
            "units: 64.000000\n",
            "epochs: 20.000000\n",
            "final_train_loss: 0.296978\n",
            "final_train_accuracy: 0.946988\n",
            "final_val_loss: 0.211539\n",
            "final_val_accuracy: 0.980769\n",
            "-----------\n",
            "Architecture LR_0.0001_Units_64_Epochs_40 parameters: \n",
            "learning_rate: 0.000100\n",
            "units: 64.000000\n",
            "epochs: 40.000000\n",
            "final_train_loss: 0.141519\n",
            "final_train_accuracy: 0.969478\n",
            "final_val_loss: 0.090332\n",
            "final_val_accuracy: 0.987179\n",
            "-----------\n",
            "Architecture LR_0.0001_Units_128_Epochs_5 parameters: \n",
            "learning_rate: 0.000100\n",
            "units: 128.000000\n",
            "epochs: 5.000000\n",
            "final_train_loss: 0.926650\n",
            "final_train_accuracy: 0.918072\n",
            "final_val_loss: 0.814177\n",
            "final_val_accuracy: 0.951923\n",
            "-----------\n",
            "Architecture LR_0.0001_Units_128_Epochs_20 parameters: \n",
            "learning_rate: 0.000100\n",
            "units: 128.000000\n",
            "epochs: 20.000000\n",
            "final_train_loss: 0.180958\n",
            "final_train_accuracy: 0.965462\n",
            "final_val_loss: 0.134042\n",
            "final_val_accuracy: 0.987179\n",
            "-----------\n",
            "Architecture LR_0.0001_Units_128_Epochs_40 parameters: \n",
            "learning_rate: 0.000100\n",
            "units: 128.000000\n",
            "epochs: 40.000000\n",
            "final_train_loss: 0.090241\n",
            "final_train_accuracy: 0.977510\n",
            "final_val_loss: 0.067693\n",
            "final_val_accuracy: 0.990385\n",
            "-----------\n",
            "Architecture LR_0.0001_Units_256_Epochs_5 parameters: \n",
            "learning_rate: 0.000100\n",
            "units: 256.000000\n",
            "epochs: 5.000000\n",
            "final_train_loss: 0.672526\n",
            "final_train_accuracy: 0.943775\n",
            "final_val_loss: 0.553505\n",
            "final_val_accuracy: 0.964744\n",
            "-----------\n",
            "Architecture LR_0.0001_Units_256_Epochs_20 parameters: \n",
            "learning_rate: 0.000100\n",
            "units: 256.000000\n",
            "epochs: 20.000000\n",
            "final_train_loss: 0.114412\n",
            "final_train_accuracy: 0.976707\n",
            "final_val_loss: 0.097370\n",
            "final_val_accuracy: 0.983974\n",
            "-----------\n",
            "Architecture LR_0.0001_Units_256_Epochs_40 parameters: \n",
            "learning_rate: 0.000100\n",
            "units: 256.000000\n",
            "epochs: 40.000000\n",
            "final_train_loss: 0.047924\n",
            "final_train_accuracy: 0.990361\n",
            "final_val_loss: 0.057025\n",
            "final_val_accuracy: 0.990385\n",
            "-----------\n",
            "Architecture LR_1e-05_Units_64_Epochs_5 parameters: \n",
            "learning_rate: 0.000010\n",
            "units: 64.000000\n",
            "epochs: 5.000000\n",
            "final_train_loss: 1.579969\n",
            "final_train_accuracy: 0.340562\n",
            "final_val_loss: 1.571158\n",
            "final_val_accuracy: 0.464744\n",
            "-----------\n",
            "Architecture LR_1e-05_Units_64_Epochs_20 parameters: \n",
            "learning_rate: 0.000010\n",
            "units: 64.000000\n",
            "epochs: 20.000000\n",
            "final_train_loss: 1.435601\n",
            "final_train_accuracy: 0.690763\n",
            "final_val_loss: 1.417602\n",
            "final_val_accuracy: 0.814103\n",
            "-----------\n",
            "Architecture LR_1e-05_Units_64_Epochs_40 parameters: \n",
            "learning_rate: 0.000010\n",
            "units: 64.000000\n",
            "epochs: 40.000000\n",
            "final_train_loss: 1.174244\n",
            "final_train_accuracy: 0.838554\n",
            "final_val_loss: 1.128098\n",
            "final_val_accuracy: 0.910256\n",
            "-----------\n",
            "Architecture LR_1e-05_Units_128_Epochs_5 parameters: \n",
            "learning_rate: 0.000010\n",
            "units: 128.000000\n",
            "epochs: 5.000000\n",
            "final_train_loss: 1.565467\n",
            "final_train_accuracy: 0.371888\n",
            "final_val_loss: 1.555871\n",
            "final_val_accuracy: 0.506410\n",
            "-----------\n",
            "Architecture LR_1e-05_Units_128_Epochs_20 parameters: \n",
            "learning_rate: 0.000010\n",
            "units: 128.000000\n",
            "epochs: 20.000000\n",
            "final_train_loss: 1.294313\n",
            "final_train_accuracy: 0.808032\n",
            "final_val_loss: 1.273233\n",
            "final_val_accuracy: 0.897436\n",
            "-----------\n",
            "Architecture LR_1e-05_Units_128_Epochs_40 parameters: \n",
            "learning_rate: 0.000010\n",
            "units: 128.000000\n",
            "epochs: 40.000000\n",
            "final_train_loss: 0.997121\n",
            "final_train_accuracy: 0.909237\n",
            "final_val_loss: 0.952392\n",
            "final_val_accuracy: 0.939103\n",
            "-----------\n",
            "Architecture LR_1e-05_Units_256_Epochs_5 parameters: \n",
            "learning_rate: 0.000010\n",
            "units: 256.000000\n",
            "epochs: 5.000000\n",
            "final_train_loss: 1.537009\n",
            "final_train_accuracy: 0.550201\n",
            "final_val_loss: 1.523088\n",
            "final_val_accuracy: 0.701923\n",
            "-----------\n",
            "Architecture LR_1e-05_Units_256_Epochs_20 parameters: \n",
            "learning_rate: 0.000010\n",
            "units: 256.000000\n",
            "epochs: 20.000000\n",
            "final_train_loss: 1.221799\n",
            "final_train_accuracy: 0.892369\n",
            "final_val_loss: 1.187132\n",
            "final_val_accuracy: 0.913462\n",
            "-----------\n",
            "Architecture LR_1e-05_Units_256_Epochs_40 parameters: \n",
            "learning_rate: 0.000010\n",
            "units: 256.000000\n",
            "epochs: 40.000000\n",
            "final_train_loss: 0.758279\n",
            "final_train_accuracy: 0.938153\n",
            "final_val_loss: 0.712701\n",
            "final_val_accuracy: 0.967949\n",
            "-----------\n"
          ]
        }
      ],
      "source": [
        "# Showing all the models parameters for analysis.\n",
        "\n",
        "for k, va in all_results.items():\n",
        "  print(f'Architecture {k} parameters: ')\n",
        "  for k, v in va.items():\n",
        "    print(f'{k}: {v:.6f}')\n",
        "  print('-----------')"
      ]
    },
    {
      "cell_type": "code",
      "execution_count": 128,
      "metadata": {
        "id": "PRad1rOEVICL"
      },
      "outputs": [],
      "source": [
        "# Best model architecture:\n",
        "\n",
        "# Architecture LR_0.0001_Units_256_Epochs_40 parameters:\n",
        "# learning_rate: 0.000100\n",
        "# units: 256.000000\n",
        "# epochs: 40.000000\n",
        "# final_train_loss: 0.062563\n",
        "# final_train_accuracy: 0.989667\n",
        "# final_val_loss: 0.075204\n",
        "# final_val_accuracy: 0.986239\n",
        "\n",
        "def build_model(seed=None):\n",
        "  tf.random.set_seed(seed)\n",
        "\n",
        "  best_ann = tf.keras.models.Sequential()\n",
        "  best_ann.add(tf.keras.Input(shape=512))\n",
        "  best_ann.add(tf.keras.layers.Dense(units=256, activation='relu'))\n",
        "  best_ann.add(tf.keras.layers.Dropout(0.5))\n",
        "  best_ann.add(tf.keras.layers.Dense(units=5, activation='softmax'))\n",
        "  optimizer = tf.keras.optimizers.Adam(learning_rate=0.0001)\n",
        "  best_ann.compile(optimizer = optimizer, loss = 'categorical_crossentropy', metrics ='categorical_accuracy')\n",
        "  model = best_ann\n",
        "  return model"
      ]
    },
    {
      "cell_type": "code",
      "execution_count": 129,
      "metadata": {
        "colab": {
          "base_uri": "https://localhost:8080/"
        },
        "id": "RACE_PxGDpwQ",
        "outputId": "b21eec17-12ce-4f42-8dcf-b6d41d48f4bb"
      },
      "outputs": [
        {
          "name": "stdout",
          "output_type": "stream",
          "text": [
            "Requirement already satisfied: scikeras in /Users/jusbrasil/.pyenv/versions/3.11.1/lib/python3.11/site-packages (0.12.0)\n",
            "Requirement already satisfied: packaging>=0.21 in /Users/jusbrasil/.pyenv/versions/3.11.1/lib/python3.11/site-packages (from scikeras) (23.1)\n",
            "Requirement already satisfied: scikit-learn>=1.0.0 in /Users/jusbrasil/.pyenv/versions/3.11.1/lib/python3.11/site-packages (from scikeras) (1.3.2)\n",
            "Requirement already satisfied: tensorflow-metal<2.0.0,>=1.1.0 in /Users/jusbrasil/.pyenv/versions/3.11.1/lib/python3.11/site-packages (from scikeras) (1.1.0)\n",
            "Requirement already satisfied: numpy<2.0,>=1.17.3 in /Users/jusbrasil/.pyenv/versions/3.11.1/lib/python3.11/site-packages (from scikit-learn>=1.0.0->scikeras) (1.24.3)\n",
            "Requirement already satisfied: scipy>=1.5.0 in /Users/jusbrasil/.pyenv/versions/3.11.1/lib/python3.11/site-packages (from scikit-learn>=1.0.0->scikeras) (1.11.1)\n",
            "Requirement already satisfied: joblib>=1.1.1 in /Users/jusbrasil/.pyenv/versions/3.11.1/lib/python3.11/site-packages (from scikit-learn>=1.0.0->scikeras) (1.3.2)\n",
            "Requirement already satisfied: threadpoolctl>=2.0.0 in /Users/jusbrasil/.pyenv/versions/3.11.1/lib/python3.11/site-packages (from scikit-learn>=1.0.0->scikeras) (3.2.0)\n",
            "Requirement already satisfied: wheel~=0.35 in /Users/jusbrasil/.pyenv/versions/3.11.1/lib/python3.11/site-packages (from tensorflow-metal<2.0.0,>=1.1.0->scikeras) (0.40.0)\n",
            "Requirement already satisfied: six>=1.15.0 in /Users/jusbrasil/.pyenv/versions/3.11.1/lib/python3.11/site-packages (from tensorflow-metal<2.0.0,>=1.1.0->scikeras) (1.16.0)\n",
            "\n",
            "\u001b[1m[\u001b[0m\u001b[34;49mnotice\u001b[0m\u001b[1;39;49m]\u001b[0m\u001b[39;49m A new release of pip available: \u001b[0m\u001b[31;49m22.3.1\u001b[0m\u001b[39;49m -> \u001b[0m\u001b[32;49m23.3.1\u001b[0m\n",
            "\u001b[1m[\u001b[0m\u001b[34;49mnotice\u001b[0m\u001b[1;39;49m]\u001b[0m\u001b[39;49m To update, run: \u001b[0m\u001b[32;49mpip install --upgrade pip\u001b[0m\n"
          ]
        }
      ],
      "source": [
        "!pip install scikeras"
      ]
    },
    {
      "cell_type": "code",
      "execution_count": 130,
      "metadata": {
        "id": "uVbBedWVEIAH"
      },
      "outputs": [],
      "source": [
        "from scikeras.wrappers import KerasClassifier"
      ]
    },
    {
      "cell_type": "code",
      "execution_count": 131,
      "metadata": {
        "colab": {
          "base_uri": "https://localhost:8080/"
        },
        "id": "FA_pNZx3C83C",
        "outputId": "3ec63068-e2bc-490f-f8d6-a978357f27ab"
      },
      "outputs": [
        {
          "name": "stderr",
          "output_type": "stream",
          "text": [
            "WARNING:absl:At this time, the v2.11+ optimizer `tf.keras.optimizers.Adam` runs slowly on M1/M2 Macs, please use the legacy Keras optimizer instead, located at `tf.keras.optimizers.legacy.Adam`.\n",
            "WARNING:absl:There is a known slowdown when using v2.11+ Keras optimizers on M1/M2 Macs. Falling back to the legacy Keras optimizer, i.e., `tf.keras.optimizers.legacy.Adam`.\n"
          ]
        },
        {
          "name": "stdout",
          "output_type": "stream",
          "text": [
            "Epoch 1/40\n",
            "125/125 [==============================] - 0s 1ms/step - loss: 1.5274 - categorical_accuracy: 0.5743 - val_loss: 1.4204 - val_categorical_accuracy: 0.8718\n",
            "Epoch 2/40\n",
            "125/125 [==============================] - 0s 775us/step - loss: 1.3176 - categorical_accuracy: 0.8418 - val_loss: 1.1694 - val_categorical_accuracy: 0.9038\n",
            "Epoch 3/40\n",
            "125/125 [==============================] - 0s 787us/step - loss: 1.0709 - categorical_accuracy: 0.9060 - val_loss: 0.9093 - val_categorical_accuracy: 0.9391\n",
            "Epoch 4/40\n",
            "125/125 [==============================] - 0s 760us/step - loss: 0.8361 - categorical_accuracy: 0.9341 - val_loss: 0.6868 - val_categorical_accuracy: 0.9455\n",
            "Epoch 5/40\n",
            "125/125 [==============================] - 0s 771us/step - loss: 0.6483 - categorical_accuracy: 0.9494 - val_loss: 0.5260 - val_categorical_accuracy: 0.9551\n",
            "Epoch 6/40\n",
            "125/125 [==============================] - 0s 754us/step - loss: 0.5181 - categorical_accuracy: 0.9438 - val_loss: 0.4144 - val_categorical_accuracy: 0.9583\n",
            "Epoch 7/40\n",
            "125/125 [==============================] - 0s 761us/step - loss: 0.4217 - categorical_accuracy: 0.9550 - val_loss: 0.3369 - val_categorical_accuracy: 0.9679\n",
            "Epoch 8/40\n",
            "125/125 [==============================] - 0s 741us/step - loss: 0.3542 - categorical_accuracy: 0.9534 - val_loss: 0.2813 - val_categorical_accuracy: 0.9776\n",
            "Epoch 9/40\n",
            "125/125 [==============================] - 0s 735us/step - loss: 0.2990 - categorical_accuracy: 0.9647 - val_loss: 0.2400 - val_categorical_accuracy: 0.9808\n",
            "Epoch 10/40\n",
            "125/125 [==============================] - 0s 744us/step - loss: 0.2676 - categorical_accuracy: 0.9598 - val_loss: 0.2097 - val_categorical_accuracy: 0.9776\n",
            "Epoch 11/40\n",
            "125/125 [==============================] - 0s 755us/step - loss: 0.2387 - categorical_accuracy: 0.9622 - val_loss: 0.1858 - val_categorical_accuracy: 0.9808\n",
            "Epoch 12/40\n",
            "125/125 [==============================] - 0s 772us/step - loss: 0.2078 - categorical_accuracy: 0.9622 - val_loss: 0.1675 - val_categorical_accuracy: 0.9808\n",
            "Epoch 13/40\n",
            "125/125 [==============================] - 0s 751us/step - loss: 0.1904 - categorical_accuracy: 0.9671 - val_loss: 0.1521 - val_categorical_accuracy: 0.9808\n",
            "Epoch 14/40\n",
            "125/125 [==============================] - 0s 745us/step - loss: 0.1762 - categorical_accuracy: 0.9679 - val_loss: 0.1399 - val_categorical_accuracy: 0.9808\n",
            "Epoch 15/40\n",
            "125/125 [==============================] - 0s 739us/step - loss: 0.1597 - categorical_accuracy: 0.9703 - val_loss: 0.1299 - val_categorical_accuracy: 0.9776\n",
            "Epoch 16/40\n",
            "125/125 [==============================] - 0s 753us/step - loss: 0.1530 - categorical_accuracy: 0.9719 - val_loss: 0.1206 - val_categorical_accuracy: 0.9840\n",
            "Epoch 17/40\n",
            "125/125 [==============================] - 0s 773us/step - loss: 0.1371 - categorical_accuracy: 0.9727 - val_loss: 0.1140 - val_categorical_accuracy: 0.9840\n",
            "Epoch 18/40\n",
            "125/125 [==============================] - 0s 772us/step - loss: 0.1311 - categorical_accuracy: 0.9759 - val_loss: 0.1070 - val_categorical_accuracy: 0.9808\n",
            "Epoch 19/40\n",
            "125/125 [==============================] - 0s 768us/step - loss: 0.1199 - categorical_accuracy: 0.9751 - val_loss: 0.1009 - val_categorical_accuracy: 0.9808\n",
            "Epoch 20/40\n",
            "125/125 [==============================] - 0s 741us/step - loss: 0.1185 - categorical_accuracy: 0.9751 - val_loss: 0.0967 - val_categorical_accuracy: 0.9840\n",
            "Epoch 21/40\n",
            "125/125 [==============================] - 0s 756us/step - loss: 0.1064 - categorical_accuracy: 0.9791 - val_loss: 0.0925 - val_categorical_accuracy: 0.9840\n",
            "Epoch 22/40\n",
            "125/125 [==============================] - 0s 748us/step - loss: 0.1075 - categorical_accuracy: 0.9759 - val_loss: 0.0887 - val_categorical_accuracy: 0.9840\n",
            "Epoch 23/40\n",
            "125/125 [==============================] - 0s 752us/step - loss: 0.0975 - categorical_accuracy: 0.9775 - val_loss: 0.0855 - val_categorical_accuracy: 0.9840\n",
            "Epoch 24/40\n",
            "125/125 [==============================] - 0s 747us/step - loss: 0.0949 - categorical_accuracy: 0.9815 - val_loss: 0.0814 - val_categorical_accuracy: 0.9840\n",
            "Epoch 25/40\n",
            "125/125 [==============================] - 0s 743us/step - loss: 0.0865 - categorical_accuracy: 0.9831 - val_loss: 0.0800 - val_categorical_accuracy: 0.9840\n",
            "Epoch 26/40\n",
            "125/125 [==============================] - 0s 751us/step - loss: 0.0860 - categorical_accuracy: 0.9807 - val_loss: 0.0761 - val_categorical_accuracy: 0.9840\n",
            "Epoch 27/40\n",
            "125/125 [==============================] - 0s 741us/step - loss: 0.0840 - categorical_accuracy: 0.9823 - val_loss: 0.0747 - val_categorical_accuracy: 0.9840\n",
            "Epoch 28/40\n",
            "125/125 [==============================] - 0s 745us/step - loss: 0.0763 - categorical_accuracy: 0.9871 - val_loss: 0.0723 - val_categorical_accuracy: 0.9840\n",
            "Epoch 29/40\n",
            "125/125 [==============================] - 0s 739us/step - loss: 0.0771 - categorical_accuracy: 0.9855 - val_loss: 0.0711 - val_categorical_accuracy: 0.9840\n",
            "Epoch 30/40\n",
            "125/125 [==============================] - 0s 752us/step - loss: 0.0698 - categorical_accuracy: 0.9831 - val_loss: 0.0695 - val_categorical_accuracy: 0.9840\n",
            "Epoch 31/40\n",
            "125/125 [==============================] - 0s 747us/step - loss: 0.0662 - categorical_accuracy: 0.9863 - val_loss: 0.0673 - val_categorical_accuracy: 0.9840\n",
            "Epoch 32/40\n",
            "125/125 [==============================] - 0s 735us/step - loss: 0.0598 - categorical_accuracy: 0.9912 - val_loss: 0.0669 - val_categorical_accuracy: 0.9840\n",
            "Epoch 33/40\n",
            "125/125 [==============================] - 0s 851us/step - loss: 0.0684 - categorical_accuracy: 0.9823 - val_loss: 0.0656 - val_categorical_accuracy: 0.9872\n",
            "Epoch 34/40\n",
            "125/125 [==============================] - 0s 758us/step - loss: 0.0588 - categorical_accuracy: 0.9896 - val_loss: 0.0631 - val_categorical_accuracy: 0.9840\n",
            "Epoch 35/40\n",
            "125/125 [==============================] - 0s 750us/step - loss: 0.0595 - categorical_accuracy: 0.9863 - val_loss: 0.0622 - val_categorical_accuracy: 0.9840\n",
            "Epoch 36/40\n",
            "125/125 [==============================] - 0s 763us/step - loss: 0.0602 - categorical_accuracy: 0.9880 - val_loss: 0.0617 - val_categorical_accuracy: 0.9840\n",
            "Epoch 37/40\n",
            "125/125 [==============================] - 0s 764us/step - loss: 0.0551 - categorical_accuracy: 0.9880 - val_loss: 0.0594 - val_categorical_accuracy: 0.9904\n",
            "Epoch 38/40\n",
            "125/125 [==============================] - 0s 954us/step - loss: 0.0505 - categorical_accuracy: 0.9936 - val_loss: 0.0583 - val_categorical_accuracy: 0.9904\n",
            "Epoch 39/40\n",
            "125/125 [==============================] - 0s 805us/step - loss: 0.0476 - categorical_accuracy: 0.9912 - val_loss: 0.0585 - val_categorical_accuracy: 0.9872\n",
            "Epoch 40/40\n",
            "125/125 [==============================] - 0s 813us/step - loss: 0.0495 - categorical_accuracy: 0.9904 - val_loss: 0.0566 - val_categorical_accuracy: 0.9904\n"
          ]
        },
        {
          "name": "stderr",
          "output_type": "stream",
          "text": [
            "WARNING:absl:At this time, the v2.11+ optimizer `tf.keras.optimizers.Adam` runs slowly on M1/M2 Macs, please use the legacy Keras optimizer instead, located at `tf.keras.optimizers.legacy.Adam`.\n",
            "WARNING:absl:There is a known slowdown when using v2.11+ Keras optimizers on M1/M2 Macs. Falling back to the legacy Keras optimizer, i.e., `tf.keras.optimizers.legacy.Adam`.\n"
          ]
        },
        {
          "name": "stdout",
          "output_type": "stream",
          "text": [
            "201/201 [==============================] - 0s 570us/step - loss: 1.4727 - categorical_accuracy: 0.6224\n",
            "23/23 [==============================] - 0s 402us/step\n"
          ]
        },
        {
          "name": "stderr",
          "output_type": "stream",
          "text": [
            "WARNING:absl:At this time, the v2.11+ optimizer `tf.keras.optimizers.Adam` runs slowly on M1/M2 Macs, please use the legacy Keras optimizer instead, located at `tf.keras.optimizers.legacy.Adam`.\n",
            "WARNING:absl:There is a known slowdown when using v2.11+ Keras optimizers on M1/M2 Macs. Falling back to the legacy Keras optimizer, i.e., `tf.keras.optimizers.legacy.Adam`.\n"
          ]
        },
        {
          "name": "stdout",
          "output_type": "stream",
          "text": [
            "201/201 [==============================] - 0s 598us/step - loss: 1.4638 - categorical_accuracy: 0.5969\n",
            "23/23 [==============================] - 0s 395us/step\n"
          ]
        },
        {
          "name": "stderr",
          "output_type": "stream",
          "text": [
            "WARNING:absl:At this time, the v2.11+ optimizer `tf.keras.optimizers.Adam` runs slowly on M1/M2 Macs, please use the legacy Keras optimizer instead, located at `tf.keras.optimizers.legacy.Adam`.\n",
            "WARNING:absl:There is a known slowdown when using v2.11+ Keras optimizers on M1/M2 Macs. Falling back to the legacy Keras optimizer, i.e., `tf.keras.optimizers.legacy.Adam`.\n"
          ]
        },
        {
          "name": "stdout",
          "output_type": "stream",
          "text": [
            "201/201 [==============================] - 0s 565us/step - loss: 1.4684 - categorical_accuracy: 0.5729\n",
            "23/23 [==============================] - 0s 395us/step\n"
          ]
        },
        {
          "name": "stderr",
          "output_type": "stream",
          "text": [
            "WARNING:absl:At this time, the v2.11+ optimizer `tf.keras.optimizers.Adam` runs slowly on M1/M2 Macs, please use the legacy Keras optimizer instead, located at `tf.keras.optimizers.legacy.Adam`.\n",
            "WARNING:absl:There is a known slowdown when using v2.11+ Keras optimizers on M1/M2 Macs. Falling back to the legacy Keras optimizer, i.e., `tf.keras.optimizers.legacy.Adam`.\n"
          ]
        },
        {
          "name": "stdout",
          "output_type": "stream",
          "text": [
            "201/201 [==============================] - 0s 701us/step - loss: 1.4595 - categorical_accuracy: 0.6613\n",
            "23/23 [==============================] - 0s 394us/step\n"
          ]
        },
        {
          "name": "stderr",
          "output_type": "stream",
          "text": [
            "WARNING:absl:At this time, the v2.11+ optimizer `tf.keras.optimizers.Adam` runs slowly on M1/M2 Macs, please use the legacy Keras optimizer instead, located at `tf.keras.optimizers.legacy.Adam`.\n",
            "WARNING:absl:There is a known slowdown when using v2.11+ Keras optimizers on M1/M2 Macs. Falling back to the legacy Keras optimizer, i.e., `tf.keras.optimizers.legacy.Adam`.\n"
          ]
        },
        {
          "name": "stdout",
          "output_type": "stream",
          "text": [
            "201/201 [==============================] - 0s 566us/step - loss: 1.4721 - categorical_accuracy: 0.6668\n",
            "23/23 [==============================] - 0s 414us/step\n"
          ]
        },
        {
          "name": "stderr",
          "output_type": "stream",
          "text": [
            "WARNING:absl:At this time, the v2.11+ optimizer `tf.keras.optimizers.Adam` runs slowly on M1/M2 Macs, please use the legacy Keras optimizer instead, located at `tf.keras.optimizers.legacy.Adam`.\n",
            "WARNING:absl:There is a known slowdown when using v2.11+ Keras optimizers on M1/M2 Macs. Falling back to the legacy Keras optimizer, i.e., `tf.keras.optimizers.legacy.Adam`.\n"
          ]
        },
        {
          "name": "stdout",
          "output_type": "stream",
          "text": [
            "201/201 [==============================] - 0s 567us/step - loss: 1.4747 - categorical_accuracy: 0.5816\n",
            "23/23 [==============================] - 0s 390us/step\n"
          ]
        },
        {
          "name": "stderr",
          "output_type": "stream",
          "text": [
            "WARNING:absl:At this time, the v2.11+ optimizer `tf.keras.optimizers.Adam` runs slowly on M1/M2 Macs, please use the legacy Keras optimizer instead, located at `tf.keras.optimizers.legacy.Adam`.\n",
            "WARNING:absl:There is a known slowdown when using v2.11+ Keras optimizers on M1/M2 Macs. Falling back to the legacy Keras optimizer, i.e., `tf.keras.optimizers.legacy.Adam`.\n"
          ]
        },
        {
          "name": "stdout",
          "output_type": "stream",
          "text": [
            "201/201 [==============================] - 0s 573us/step - loss: 1.4712 - categorical_accuracy: 0.6171\n",
            "23/23 [==============================] - 0s 396us/step\n"
          ]
        },
        {
          "name": "stderr",
          "output_type": "stream",
          "text": [
            "WARNING:absl:At this time, the v2.11+ optimizer `tf.keras.optimizers.Adam` runs slowly on M1/M2 Macs, please use the legacy Keras optimizer instead, located at `tf.keras.optimizers.legacy.Adam`.\n",
            "WARNING:absl:There is a known slowdown when using v2.11+ Keras optimizers on M1/M2 Macs. Falling back to the legacy Keras optimizer, i.e., `tf.keras.optimizers.legacy.Adam`.\n"
          ]
        },
        {
          "name": "stdout",
          "output_type": "stream",
          "text": [
            "201/201 [==============================] - 0s 573us/step - loss: 1.4509 - categorical_accuracy: 0.6126\n",
            "23/23 [==============================] - 0s 403us/step\n"
          ]
        },
        {
          "name": "stderr",
          "output_type": "stream",
          "text": [
            "WARNING:absl:At this time, the v2.11+ optimizer `tf.keras.optimizers.Adam` runs slowly on M1/M2 Macs, please use the legacy Keras optimizer instead, located at `tf.keras.optimizers.legacy.Adam`.\n",
            "WARNING:absl:There is a known slowdown when using v2.11+ Keras optimizers on M1/M2 Macs. Falling back to the legacy Keras optimizer, i.e., `tf.keras.optimizers.legacy.Adam`.\n"
          ]
        },
        {
          "name": "stdout",
          "output_type": "stream",
          "text": [
            "201/201 [==============================] - 0s 585us/step - loss: 1.4903 - categorical_accuracy: 0.6510\n",
            "23/23 [==============================] - 0s 445us/step\n"
          ]
        },
        {
          "name": "stderr",
          "output_type": "stream",
          "text": [
            "WARNING:absl:At this time, the v2.11+ optimizer `tf.keras.optimizers.Adam` runs slowly on M1/M2 Macs, please use the legacy Keras optimizer instead, located at `tf.keras.optimizers.legacy.Adam`.\n",
            "WARNING:absl:There is a known slowdown when using v2.11+ Keras optimizers on M1/M2 Macs. Falling back to the legacy Keras optimizer, i.e., `tf.keras.optimizers.legacy.Adam`.\n"
          ]
        },
        {
          "name": "stdout",
          "output_type": "stream",
          "text": [
            "201/201 [==============================] - 0s 620us/step - loss: 1.4592 - categorical_accuracy: 0.6575\n",
            "23/23 [==============================] - 0s 397us/step\n"
          ]
        },
        {
          "name": "stderr",
          "output_type": "stream",
          "text": [
            "WARNING:absl:At this time, the v2.11+ optimizer `tf.keras.optimizers.Adam` runs slowly on M1/M2 Macs, please use the legacy Keras optimizer instead, located at `tf.keras.optimizers.legacy.Adam`.\n",
            "WARNING:absl:There is a known slowdown when using v2.11+ Keras optimizers on M1/M2 Macs. Falling back to the legacy Keras optimizer, i.e., `tf.keras.optimizers.legacy.Adam`.\n"
          ]
        },
        {
          "name": "stdout",
          "output_type": "stream",
          "text": [
            "Epoch 1/40\n",
            "125/125 [==============================] - 0s 1ms/step - loss: 1.5373 - categorical_accuracy: 0.5060 - val_loss: 1.4325 - val_categorical_accuracy: 0.8397\n",
            "Epoch 2/40\n",
            "125/125 [==============================] - 0s 746us/step - loss: 1.3316 - categorical_accuracy: 0.8241 - val_loss: 1.1794 - val_categorical_accuracy: 0.9006\n",
            "Epoch 3/40\n",
            "125/125 [==============================] - 0s 766us/step - loss: 1.0781 - categorical_accuracy: 0.8876 - val_loss: 0.9178 - val_categorical_accuracy: 0.9487\n",
            "Epoch 4/40\n",
            "125/125 [==============================] - 0s 746us/step - loss: 0.8420 - categorical_accuracy: 0.9309 - val_loss: 0.7013 - val_categorical_accuracy: 0.9615\n",
            "Epoch 5/40\n",
            "125/125 [==============================] - 0s 745us/step - loss: 0.6566 - categorical_accuracy: 0.9430 - val_loss: 0.5415 - val_categorical_accuracy: 0.9647\n",
            "Epoch 6/40\n",
            "125/125 [==============================] - 0s 739us/step - loss: 0.5266 - categorical_accuracy: 0.9414 - val_loss: 0.4276 - val_categorical_accuracy: 0.9679\n",
            "Epoch 7/40\n",
            "125/125 [==============================] - 0s 740us/step - loss: 0.4350 - categorical_accuracy: 0.9542 - val_loss: 0.3471 - val_categorical_accuracy: 0.9744\n",
            "Epoch 8/40\n",
            "125/125 [==============================] - 0s 747us/step - loss: 0.3594 - categorical_accuracy: 0.9558 - val_loss: 0.2900 - val_categorical_accuracy: 0.9776\n",
            "Epoch 9/40\n",
            "125/125 [==============================] - 0s 760us/step - loss: 0.3065 - categorical_accuracy: 0.9550 - val_loss: 0.2475 - val_categorical_accuracy: 0.9808\n",
            "Epoch 10/40\n",
            "125/125 [==============================] - 0s 745us/step - loss: 0.2674 - categorical_accuracy: 0.9598 - val_loss: 0.2151 - val_categorical_accuracy: 0.9840\n",
            "Epoch 11/40\n",
            "125/125 [==============================] - 0s 749us/step - loss: 0.2351 - categorical_accuracy: 0.9631 - val_loss: 0.1903 - val_categorical_accuracy: 0.9872\n",
            "Epoch 12/40\n",
            "125/125 [==============================] - 0s 744us/step - loss: 0.2122 - categorical_accuracy: 0.9655 - val_loss: 0.1712 - val_categorical_accuracy: 0.9872\n",
            "Epoch 13/40\n",
            "125/125 [==============================] - 0s 749us/step - loss: 0.1979 - categorical_accuracy: 0.9622 - val_loss: 0.1558 - val_categorical_accuracy: 0.9872\n",
            "Epoch 14/40\n",
            "125/125 [==============================] - 0s 744us/step - loss: 0.1715 - categorical_accuracy: 0.9743 - val_loss: 0.1430 - val_categorical_accuracy: 0.9872\n",
            "Epoch 15/40\n",
            "125/125 [==============================] - 0s 743us/step - loss: 0.1666 - categorical_accuracy: 0.9614 - val_loss: 0.1328 - val_categorical_accuracy: 0.9872\n",
            "Epoch 16/40\n",
            "125/125 [==============================] - 0s 757us/step - loss: 0.1518 - categorical_accuracy: 0.9735 - val_loss: 0.1232 - val_categorical_accuracy: 0.9840\n",
            "Epoch 17/40\n",
            "125/125 [==============================] - 0s 737us/step - loss: 0.1403 - categorical_accuracy: 0.9679 - val_loss: 0.1161 - val_categorical_accuracy: 0.9840\n",
            "Epoch 18/40\n",
            "125/125 [==============================] - 0s 755us/step - loss: 0.1362 - categorical_accuracy: 0.9759 - val_loss: 0.1100 - val_categorical_accuracy: 0.9840\n",
            "Epoch 19/40\n",
            "125/125 [==============================] - 0s 748us/step - loss: 0.1206 - categorical_accuracy: 0.9759 - val_loss: 0.1043 - val_categorical_accuracy: 0.9904\n",
            "Epoch 20/40\n",
            "125/125 [==============================] - 0s 741us/step - loss: 0.1162 - categorical_accuracy: 0.9751 - val_loss: 0.0982 - val_categorical_accuracy: 0.9840\n",
            "Epoch 21/40\n",
            "125/125 [==============================] - 0s 741us/step - loss: 0.1096 - categorical_accuracy: 0.9767 - val_loss: 0.0942 - val_categorical_accuracy: 0.9840\n",
            "Epoch 22/40\n",
            "125/125 [==============================] - 0s 746us/step - loss: 0.1071 - categorical_accuracy: 0.9735 - val_loss: 0.0899 - val_categorical_accuracy: 0.9872\n",
            "Epoch 23/40\n",
            "125/125 [==============================] - 0s 739us/step - loss: 0.0964 - categorical_accuracy: 0.9791 - val_loss: 0.0865 - val_categorical_accuracy: 0.9872\n",
            "Epoch 24/40\n",
            "125/125 [==============================] - 0s 745us/step - loss: 0.0925 - categorical_accuracy: 0.9767 - val_loss: 0.0827 - val_categorical_accuracy: 0.9872\n",
            "Epoch 25/40\n",
            "125/125 [==============================] - 0s 751us/step - loss: 0.0900 - categorical_accuracy: 0.9775 - val_loss: 0.0800 - val_categorical_accuracy: 0.9904\n",
            "Epoch 26/40\n",
            "125/125 [==============================] - 0s 747us/step - loss: 0.0888 - categorical_accuracy: 0.9799 - val_loss: 0.0782 - val_categorical_accuracy: 0.9872\n",
            "Epoch 27/40\n",
            "125/125 [==============================] - 0s 746us/step - loss: 0.0828 - categorical_accuracy: 0.9791 - val_loss: 0.0755 - val_categorical_accuracy: 0.9904\n",
            "Epoch 28/40\n",
            "125/125 [==============================] - 0s 755us/step - loss: 0.0799 - categorical_accuracy: 0.9839 - val_loss: 0.0733 - val_categorical_accuracy: 0.9904\n",
            "Epoch 29/40\n",
            "125/125 [==============================] - 0s 742us/step - loss: 0.0746 - categorical_accuracy: 0.9847 - val_loss: 0.0712 - val_categorical_accuracy: 0.9904\n",
            "Epoch 30/40\n",
            "125/125 [==============================] - 0s 770us/step - loss: 0.0707 - categorical_accuracy: 0.9823 - val_loss: 0.0697 - val_categorical_accuracy: 0.9904\n",
            "Epoch 31/40\n",
            "125/125 [==============================] - 0s 742us/step - loss: 0.0708 - categorical_accuracy: 0.9880 - val_loss: 0.0669 - val_categorical_accuracy: 0.9904\n",
            "Epoch 32/40\n",
            "125/125 [==============================] - 0s 747us/step - loss: 0.0667 - categorical_accuracy: 0.9871 - val_loss: 0.0657 - val_categorical_accuracy: 0.9904\n",
            "Epoch 33/40\n",
            "125/125 [==============================] - 0s 740us/step - loss: 0.0633 - categorical_accuracy: 0.9888 - val_loss: 0.0642 - val_categorical_accuracy: 0.9904\n",
            "Epoch 34/40\n",
            "125/125 [==============================] - 0s 751us/step - loss: 0.0649 - categorical_accuracy: 0.9847 - val_loss: 0.0638 - val_categorical_accuracy: 0.9904\n",
            "Epoch 35/40\n",
            "125/125 [==============================] - 0s 735us/step - loss: 0.0604 - categorical_accuracy: 0.9863 - val_loss: 0.0614 - val_categorical_accuracy: 0.9904\n",
            "Epoch 36/40\n",
            "125/125 [==============================] - 0s 749us/step - loss: 0.0568 - categorical_accuracy: 0.9863 - val_loss: 0.0607 - val_categorical_accuracy: 0.9904\n",
            "Epoch 37/40\n",
            "125/125 [==============================] - 0s 744us/step - loss: 0.0525 - categorical_accuracy: 0.9920 - val_loss: 0.0598 - val_categorical_accuracy: 0.9904\n",
            "Epoch 38/40\n",
            "125/125 [==============================] - 0s 738us/step - loss: 0.0512 - categorical_accuracy: 0.9896 - val_loss: 0.0583 - val_categorical_accuracy: 0.9904\n",
            "Epoch 39/40\n",
            "125/125 [==============================] - 0s 742us/step - loss: 0.0506 - categorical_accuracy: 0.9896 - val_loss: 0.0566 - val_categorical_accuracy: 0.9904\n",
            "Epoch 40/40\n",
            "125/125 [==============================] - 0s 744us/step - loss: 0.0492 - categorical_accuracy: 0.9888 - val_loss: 0.0561 - val_categorical_accuracy: 0.9904\n"
          ]
        },
        {
          "name": "stderr",
          "output_type": "stream",
          "text": [
            "WARNING:absl:At this time, the v2.11+ optimizer `tf.keras.optimizers.Adam` runs slowly on M1/M2 Macs, please use the legacy Keras optimizer instead, located at `tf.keras.optimizers.legacy.Adam`.\n",
            "WARNING:absl:There is a known slowdown when using v2.11+ Keras optimizers on M1/M2 Macs. Falling back to the legacy Keras optimizer, i.e., `tf.keras.optimizers.legacy.Adam`.\n"
          ]
        },
        {
          "name": "stdout",
          "output_type": "stream",
          "text": [
            "201/201 [==============================] - 0s 575us/step - loss: 1.4499 - categorical_accuracy: 0.6653\n",
            "23/23 [==============================] - 0s 384us/step\n"
          ]
        },
        {
          "name": "stderr",
          "output_type": "stream",
          "text": [
            "WARNING:absl:At this time, the v2.11+ optimizer `tf.keras.optimizers.Adam` runs slowly on M1/M2 Macs, please use the legacy Keras optimizer instead, located at `tf.keras.optimizers.legacy.Adam`.\n",
            "WARNING:absl:There is a known slowdown when using v2.11+ Keras optimizers on M1/M2 Macs. Falling back to the legacy Keras optimizer, i.e., `tf.keras.optimizers.legacy.Adam`.\n"
          ]
        },
        {
          "name": "stdout",
          "output_type": "stream",
          "text": [
            "201/201 [==============================] - 0s 583us/step - loss: 1.4707 - categorical_accuracy: 0.6793\n",
            "23/23 [==============================] - 0s 398us/step\n"
          ]
        },
        {
          "name": "stderr",
          "output_type": "stream",
          "text": [
            "WARNING:absl:At this time, the v2.11+ optimizer `tf.keras.optimizers.Adam` runs slowly on M1/M2 Macs, please use the legacy Keras optimizer instead, located at `tf.keras.optimizers.legacy.Adam`.\n",
            "WARNING:absl:There is a known slowdown when using v2.11+ Keras optimizers on M1/M2 Macs. Falling back to the legacy Keras optimizer, i.e., `tf.keras.optimizers.legacy.Adam`.\n"
          ]
        },
        {
          "name": "stdout",
          "output_type": "stream",
          "text": [
            "201/201 [==============================] - 0s 569us/step - loss: 1.4706 - categorical_accuracy: 0.6633\n",
            "23/23 [==============================] - 0s 394us/step\n"
          ]
        },
        {
          "name": "stderr",
          "output_type": "stream",
          "text": [
            "WARNING:absl:At this time, the v2.11+ optimizer `tf.keras.optimizers.Adam` runs slowly on M1/M2 Macs, please use the legacy Keras optimizer instead, located at `tf.keras.optimizers.legacy.Adam`.\n",
            "WARNING:absl:There is a known slowdown when using v2.11+ Keras optimizers on M1/M2 Macs. Falling back to the legacy Keras optimizer, i.e., `tf.keras.optimizers.legacy.Adam`.\n"
          ]
        },
        {
          "name": "stdout",
          "output_type": "stream",
          "text": [
            "201/201 [==============================] - 0s 598us/step - loss: 1.4762 - categorical_accuracy: 0.6249\n",
            "23/23 [==============================] - 0s 405us/step\n"
          ]
        },
        {
          "name": "stderr",
          "output_type": "stream",
          "text": [
            "WARNING:absl:At this time, the v2.11+ optimizer `tf.keras.optimizers.Adam` runs slowly on M1/M2 Macs, please use the legacy Keras optimizer instead, located at `tf.keras.optimizers.legacy.Adam`.\n",
            "WARNING:absl:There is a known slowdown when using v2.11+ Keras optimizers on M1/M2 Macs. Falling back to the legacy Keras optimizer, i.e., `tf.keras.optimizers.legacy.Adam`.\n"
          ]
        },
        {
          "name": "stdout",
          "output_type": "stream",
          "text": [
            "201/201 [==============================] - 0s 587us/step - loss: 1.4737 - categorical_accuracy: 0.6089\n",
            "23/23 [==============================] - 0s 406us/step\n"
          ]
        },
        {
          "name": "stderr",
          "output_type": "stream",
          "text": [
            "WARNING:absl:At this time, the v2.11+ optimizer `tf.keras.optimizers.Adam` runs slowly on M1/M2 Macs, please use the legacy Keras optimizer instead, located at `tf.keras.optimizers.legacy.Adam`.\n",
            "WARNING:absl:There is a known slowdown when using v2.11+ Keras optimizers on M1/M2 Macs. Falling back to the legacy Keras optimizer, i.e., `tf.keras.optimizers.legacy.Adam`.\n"
          ]
        },
        {
          "name": "stdout",
          "output_type": "stream",
          "text": [
            "201/201 [==============================] - 0s 590us/step - loss: 1.4664 - categorical_accuracy: 0.6645\n",
            "23/23 [==============================] - 0s 402us/step\n"
          ]
        },
        {
          "name": "stderr",
          "output_type": "stream",
          "text": [
            "WARNING:absl:At this time, the v2.11+ optimizer `tf.keras.optimizers.Adam` runs slowly on M1/M2 Macs, please use the legacy Keras optimizer instead, located at `tf.keras.optimizers.legacy.Adam`.\n",
            "WARNING:absl:There is a known slowdown when using v2.11+ Keras optimizers on M1/M2 Macs. Falling back to the legacy Keras optimizer, i.e., `tf.keras.optimizers.legacy.Adam`.\n"
          ]
        },
        {
          "name": "stdout",
          "output_type": "stream",
          "text": [
            "201/201 [==============================] - 1s 572us/step - loss: 1.4732 - categorical_accuracy: 0.6500\n",
            "23/23 [==============================] - 0s 398us/step\n"
          ]
        },
        {
          "name": "stderr",
          "output_type": "stream",
          "text": [
            "WARNING:absl:At this time, the v2.11+ optimizer `tf.keras.optimizers.Adam` runs slowly on M1/M2 Macs, please use the legacy Keras optimizer instead, located at `tf.keras.optimizers.legacy.Adam`.\n",
            "WARNING:absl:There is a known slowdown when using v2.11+ Keras optimizers on M1/M2 Macs. Falling back to the legacy Keras optimizer, i.e., `tf.keras.optimizers.legacy.Adam`.\n"
          ]
        },
        {
          "name": "stdout",
          "output_type": "stream",
          "text": [
            "201/201 [==============================] - 0s 579us/step - loss: 1.4694 - categorical_accuracy: 0.5891\n",
            "23/23 [==============================] - 0s 393us/step\n"
          ]
        },
        {
          "name": "stderr",
          "output_type": "stream",
          "text": [
            "WARNING:absl:At this time, the v2.11+ optimizer `tf.keras.optimizers.Adam` runs slowly on M1/M2 Macs, please use the legacy Keras optimizer instead, located at `tf.keras.optimizers.legacy.Adam`.\n",
            "WARNING:absl:There is a known slowdown when using v2.11+ Keras optimizers on M1/M2 Macs. Falling back to the legacy Keras optimizer, i.e., `tf.keras.optimizers.legacy.Adam`.\n"
          ]
        },
        {
          "name": "stdout",
          "output_type": "stream",
          "text": [
            "201/201 [==============================] - 0s 588us/step - loss: 1.4873 - categorical_accuracy: 0.6331\n",
            "23/23 [==============================] - 0s 389us/step\n"
          ]
        },
        {
          "name": "stderr",
          "output_type": "stream",
          "text": [
            "WARNING:absl:At this time, the v2.11+ optimizer `tf.keras.optimizers.Adam` runs slowly on M1/M2 Macs, please use the legacy Keras optimizer instead, located at `tf.keras.optimizers.legacy.Adam`.\n",
            "WARNING:absl:There is a known slowdown when using v2.11+ Keras optimizers on M1/M2 Macs. Falling back to the legacy Keras optimizer, i.e., `tf.keras.optimizers.legacy.Adam`.\n"
          ]
        },
        {
          "name": "stdout",
          "output_type": "stream",
          "text": [
            "201/201 [==============================] - 0s 573us/step - loss: 1.4546 - categorical_accuracy: 0.6345\n",
            "23/23 [==============================] - 0s 392us/step\n"
          ]
        },
        {
          "name": "stderr",
          "output_type": "stream",
          "text": [
            "WARNING:absl:At this time, the v2.11+ optimizer `tf.keras.optimizers.Adam` runs slowly on M1/M2 Macs, please use the legacy Keras optimizer instead, located at `tf.keras.optimizers.legacy.Adam`.\n",
            "WARNING:absl:There is a known slowdown when using v2.11+ Keras optimizers on M1/M2 Macs. Falling back to the legacy Keras optimizer, i.e., `tf.keras.optimizers.legacy.Adam`.\n"
          ]
        },
        {
          "name": "stdout",
          "output_type": "stream",
          "text": [
            "Epoch 1/40\n",
            "125/125 [==============================] - 0s 1ms/step - loss: 1.5380 - categorical_accuracy: 0.4932 - val_loss: 1.4288 - val_categorical_accuracy: 0.8077\n",
            "Epoch 2/40\n",
            "125/125 [==============================] - 0s 786us/step - loss: 1.3402 - categorical_accuracy: 0.8032 - val_loss: 1.1940 - val_categorical_accuracy: 0.9167\n",
            "Epoch 3/40\n",
            "125/125 [==============================] - 0s 739us/step - loss: 1.1039 - categorical_accuracy: 0.8892 - val_loss: 0.9424 - val_categorical_accuracy: 0.9551\n",
            "Epoch 4/40\n",
            "125/125 [==============================] - 0s 871us/step - loss: 0.8643 - categorical_accuracy: 0.9245 - val_loss: 0.7201 - val_categorical_accuracy: 0.9519\n",
            "Epoch 5/40\n",
            "125/125 [==============================] - 0s 753us/step - loss: 0.6714 - categorical_accuracy: 0.9446 - val_loss: 0.5506 - val_categorical_accuracy: 0.9679\n",
            "Epoch 6/40\n",
            "125/125 [==============================] - 0s 758us/step - loss: 0.5396 - categorical_accuracy: 0.9526 - val_loss: 0.4318 - val_categorical_accuracy: 0.9744\n",
            "Epoch 7/40\n",
            "125/125 [==============================] - 0s 770us/step - loss: 0.4367 - categorical_accuracy: 0.9510 - val_loss: 0.3496 - val_categorical_accuracy: 0.9808\n",
            "Epoch 8/40\n",
            "125/125 [==============================] - 0s 796us/step - loss: 0.3680 - categorical_accuracy: 0.9590 - val_loss: 0.2905 - val_categorical_accuracy: 0.9840\n",
            "Epoch 9/40\n",
            "125/125 [==============================] - 0s 787us/step - loss: 0.3136 - categorical_accuracy: 0.9558 - val_loss: 0.2478 - val_categorical_accuracy: 0.9840\n",
            "Epoch 10/40\n",
            "125/125 [==============================] - 0s 801us/step - loss: 0.2737 - categorical_accuracy: 0.9622 - val_loss: 0.2142 - val_categorical_accuracy: 0.9840\n",
            "Epoch 11/40\n",
            "125/125 [==============================] - 0s 789us/step - loss: 0.2391 - categorical_accuracy: 0.9687 - val_loss: 0.1894 - val_categorical_accuracy: 0.9872\n",
            "Epoch 12/40\n",
            "125/125 [==============================] - 0s 770us/step - loss: 0.2170 - categorical_accuracy: 0.9606 - val_loss: 0.1699 - val_categorical_accuracy: 0.9872\n",
            "Epoch 13/40\n",
            "125/125 [==============================] - 0s 740us/step - loss: 0.1918 - categorical_accuracy: 0.9655 - val_loss: 0.1552 - val_categorical_accuracy: 0.9872\n",
            "Epoch 14/40\n",
            "125/125 [==============================] - 0s 747us/step - loss: 0.1784 - categorical_accuracy: 0.9679 - val_loss: 0.1414 - val_categorical_accuracy: 0.9872\n",
            "Epoch 15/40\n",
            "125/125 [==============================] - 0s 736us/step - loss: 0.1682 - categorical_accuracy: 0.9639 - val_loss: 0.1313 - val_categorical_accuracy: 0.9872\n",
            "Epoch 16/40\n",
            "125/125 [==============================] - 0s 748us/step - loss: 0.1480 - categorical_accuracy: 0.9727 - val_loss: 0.1213 - val_categorical_accuracy: 0.9872\n",
            "Epoch 17/40\n",
            "125/125 [==============================] - 0s 737us/step - loss: 0.1427 - categorical_accuracy: 0.9711 - val_loss: 0.1138 - val_categorical_accuracy: 0.9904\n",
            "Epoch 18/40\n",
            "125/125 [==============================] - 0s 749us/step - loss: 0.1362 - categorical_accuracy: 0.9647 - val_loss: 0.1077 - val_categorical_accuracy: 0.9904\n",
            "Epoch 19/40\n",
            "125/125 [==============================] - 0s 744us/step - loss: 0.1226 - categorical_accuracy: 0.9735 - val_loss: 0.1013 - val_categorical_accuracy: 0.9840\n",
            "Epoch 20/40\n",
            "125/125 [==============================] - 0s 770us/step - loss: 0.1155 - categorical_accuracy: 0.9743 - val_loss: 0.0960 - val_categorical_accuracy: 0.9840\n",
            "Epoch 21/40\n",
            "125/125 [==============================] - 0s 736us/step - loss: 0.1142 - categorical_accuracy: 0.9775 - val_loss: 0.0922 - val_categorical_accuracy: 0.9872\n",
            "Epoch 22/40\n",
            "125/125 [==============================] - 0s 735us/step - loss: 0.1047 - categorical_accuracy: 0.9791 - val_loss: 0.0889 - val_categorical_accuracy: 0.9840\n",
            "Epoch 23/40\n",
            "125/125 [==============================] - 0s 759us/step - loss: 0.0969 - categorical_accuracy: 0.9783 - val_loss: 0.0853 - val_categorical_accuracy: 0.9904\n",
            "Epoch 24/40\n",
            "125/125 [==============================] - 0s 759us/step - loss: 0.0947 - categorical_accuracy: 0.9759 - val_loss: 0.0820 - val_categorical_accuracy: 0.9840\n",
            "Epoch 25/40\n",
            "125/125 [==============================] - 0s 741us/step - loss: 0.0907 - categorical_accuracy: 0.9791 - val_loss: 0.0786 - val_categorical_accuracy: 0.9872\n",
            "Epoch 26/40\n",
            "125/125 [==============================] - 0s 744us/step - loss: 0.0859 - categorical_accuracy: 0.9847 - val_loss: 0.0769 - val_categorical_accuracy: 0.9904\n",
            "Epoch 27/40\n",
            "125/125 [==============================] - 0s 736us/step - loss: 0.0828 - categorical_accuracy: 0.9863 - val_loss: 0.0736 - val_categorical_accuracy: 0.9872\n",
            "Epoch 28/40\n",
            "125/125 [==============================] - 0s 756us/step - loss: 0.0765 - categorical_accuracy: 0.9839 - val_loss: 0.0717 - val_categorical_accuracy: 0.9904\n",
            "Epoch 29/40\n",
            "125/125 [==============================] - 0s 746us/step - loss: 0.0731 - categorical_accuracy: 0.9888 - val_loss: 0.0703 - val_categorical_accuracy: 0.9904\n",
            "Epoch 30/40\n",
            "125/125 [==============================] - 0s 750us/step - loss: 0.0750 - categorical_accuracy: 0.9839 - val_loss: 0.0690 - val_categorical_accuracy: 0.9904\n",
            "Epoch 31/40\n",
            "125/125 [==============================] - 0s 753us/step - loss: 0.0682 - categorical_accuracy: 0.9863 - val_loss: 0.0668 - val_categorical_accuracy: 0.9872\n",
            "Epoch 32/40\n",
            "125/125 [==============================] - 0s 746us/step - loss: 0.0657 - categorical_accuracy: 0.9855 - val_loss: 0.0654 - val_categorical_accuracy: 0.9904\n",
            "Epoch 33/40\n",
            "125/125 [==============================] - 0s 742us/step - loss: 0.0673 - categorical_accuracy: 0.9839 - val_loss: 0.0632 - val_categorical_accuracy: 0.9904\n",
            "Epoch 34/40\n",
            "125/125 [==============================] - 0s 744us/step - loss: 0.0609 - categorical_accuracy: 0.9855 - val_loss: 0.0619 - val_categorical_accuracy: 0.9904\n",
            "Epoch 35/40\n",
            "125/125 [==============================] - 0s 735us/step - loss: 0.0585 - categorical_accuracy: 0.9888 - val_loss: 0.0605 - val_categorical_accuracy: 0.9904\n",
            "Epoch 36/40\n",
            "125/125 [==============================] - 0s 743us/step - loss: 0.0583 - categorical_accuracy: 0.9888 - val_loss: 0.0595 - val_categorical_accuracy: 0.9904\n",
            "Epoch 37/40\n",
            "125/125 [==============================] - 0s 740us/step - loss: 0.0554 - categorical_accuracy: 0.9920 - val_loss: 0.0581 - val_categorical_accuracy: 0.9904\n",
            "Epoch 38/40\n",
            "125/125 [==============================] - 0s 742us/step - loss: 0.0524 - categorical_accuracy: 0.9896 - val_loss: 0.0570 - val_categorical_accuracy: 0.9904\n",
            "Epoch 39/40\n",
            "125/125 [==============================] - 0s 751us/step - loss: 0.0517 - categorical_accuracy: 0.9888 - val_loss: 0.0564 - val_categorical_accuracy: 0.9904\n",
            "Epoch 40/40\n",
            "125/125 [==============================] - 0s 747us/step - loss: 0.0512 - categorical_accuracy: 0.9880 - val_loss: 0.0564 - val_categorical_accuracy: 0.9904\n"
          ]
        },
        {
          "name": "stderr",
          "output_type": "stream",
          "text": [
            "WARNING:absl:At this time, the v2.11+ optimizer `tf.keras.optimizers.Adam` runs slowly on M1/M2 Macs, please use the legacy Keras optimizer instead, located at `tf.keras.optimizers.legacy.Adam`.\n",
            "WARNING:absl:There is a known slowdown when using v2.11+ Keras optimizers on M1/M2 Macs. Falling back to the legacy Keras optimizer, i.e., `tf.keras.optimizers.legacy.Adam`.\n"
          ]
        },
        {
          "name": "stdout",
          "output_type": "stream",
          "text": [
            "201/201 [==============================] - 0s 580us/step - loss: 1.4648 - categorical_accuracy: 0.6513\n",
            "23/23 [==============================] - 0s 420us/step\n"
          ]
        },
        {
          "name": "stderr",
          "output_type": "stream",
          "text": [
            "WARNING:absl:At this time, the v2.11+ optimizer `tf.keras.optimizers.Adam` runs slowly on M1/M2 Macs, please use the legacy Keras optimizer instead, located at `tf.keras.optimizers.legacy.Adam`.\n",
            "WARNING:absl:There is a known slowdown when using v2.11+ Keras optimizers on M1/M2 Macs. Falling back to the legacy Keras optimizer, i.e., `tf.keras.optimizers.legacy.Adam`.\n"
          ]
        },
        {
          "name": "stdout",
          "output_type": "stream",
          "text": [
            "201/201 [==============================] - 0s 580us/step - loss: 1.4665 - categorical_accuracy: 0.6444\n",
            "23/23 [==============================] - 0s 404us/step\n"
          ]
        },
        {
          "name": "stderr",
          "output_type": "stream",
          "text": [
            "WARNING:absl:At this time, the v2.11+ optimizer `tf.keras.optimizers.Adam` runs slowly on M1/M2 Macs, please use the legacy Keras optimizer instead, located at `tf.keras.optimizers.legacy.Adam`.\n",
            "WARNING:absl:There is a known slowdown when using v2.11+ Keras optimizers on M1/M2 Macs. Falling back to the legacy Keras optimizer, i.e., `tf.keras.optimizers.legacy.Adam`.\n"
          ]
        },
        {
          "name": "stdout",
          "output_type": "stream",
          "text": [
            "201/201 [==============================] - 0s 582us/step - loss: 1.4534 - categorical_accuracy: 0.6518\n",
            "23/23 [==============================] - 0s 388us/step\n"
          ]
        },
        {
          "name": "stderr",
          "output_type": "stream",
          "text": [
            "WARNING:absl:At this time, the v2.11+ optimizer `tf.keras.optimizers.Adam` runs slowly on M1/M2 Macs, please use the legacy Keras optimizer instead, located at `tf.keras.optimizers.legacy.Adam`.\n",
            "WARNING:absl:There is a known slowdown when using v2.11+ Keras optimizers on M1/M2 Macs. Falling back to the legacy Keras optimizer, i.e., `tf.keras.optimizers.legacy.Adam`.\n"
          ]
        },
        {
          "name": "stdout",
          "output_type": "stream",
          "text": [
            "201/201 [==============================] - 0s 571us/step - loss: 1.4496 - categorical_accuracy: 0.6184\n",
            "23/23 [==============================] - 0s 396us/step\n"
          ]
        },
        {
          "name": "stderr",
          "output_type": "stream",
          "text": [
            "WARNING:absl:At this time, the v2.11+ optimizer `tf.keras.optimizers.Adam` runs slowly on M1/M2 Macs, please use the legacy Keras optimizer instead, located at `tf.keras.optimizers.legacy.Adam`.\n",
            "WARNING:absl:There is a known slowdown when using v2.11+ Keras optimizers on M1/M2 Macs. Falling back to the legacy Keras optimizer, i.e., `tf.keras.optimizers.legacy.Adam`.\n"
          ]
        },
        {
          "name": "stdout",
          "output_type": "stream",
          "text": [
            "201/201 [==============================] - 0s 580us/step - loss: 1.4600 - categorical_accuracy: 0.6304\n",
            "23/23 [==============================] - 0s 388us/step\n"
          ]
        },
        {
          "name": "stderr",
          "output_type": "stream",
          "text": [
            "WARNING:absl:At this time, the v2.11+ optimizer `tf.keras.optimizers.Adam` runs slowly on M1/M2 Macs, please use the legacy Keras optimizer instead, located at `tf.keras.optimizers.legacy.Adam`.\n",
            "WARNING:absl:There is a known slowdown when using v2.11+ Keras optimizers on M1/M2 Macs. Falling back to the legacy Keras optimizer, i.e., `tf.keras.optimizers.legacy.Adam`.\n"
          ]
        },
        {
          "name": "stdout",
          "output_type": "stream",
          "text": [
            "201/201 [==============================] - 0s 587us/step - loss: 1.4691 - categorical_accuracy: 0.6475\n",
            "23/23 [==============================] - 0s 393us/step\n"
          ]
        },
        {
          "name": "stderr",
          "output_type": "stream",
          "text": [
            "WARNING:absl:At this time, the v2.11+ optimizer `tf.keras.optimizers.Adam` runs slowly on M1/M2 Macs, please use the legacy Keras optimizer instead, located at `tf.keras.optimizers.legacy.Adam`.\n",
            "WARNING:absl:There is a known slowdown when using v2.11+ Keras optimizers on M1/M2 Macs. Falling back to the legacy Keras optimizer, i.e., `tf.keras.optimizers.legacy.Adam`.\n"
          ]
        },
        {
          "name": "stdout",
          "output_type": "stream",
          "text": [
            "201/201 [==============================] - 0s 568us/step - loss: 1.4825 - categorical_accuracy: 0.6670\n",
            "23/23 [==============================] - 0s 398us/step\n"
          ]
        },
        {
          "name": "stderr",
          "output_type": "stream",
          "text": [
            "WARNING:absl:At this time, the v2.11+ optimizer `tf.keras.optimizers.Adam` runs slowly on M1/M2 Macs, please use the legacy Keras optimizer instead, located at `tf.keras.optimizers.legacy.Adam`.\n",
            "WARNING:absl:There is a known slowdown when using v2.11+ Keras optimizers on M1/M2 Macs. Falling back to the legacy Keras optimizer, i.e., `tf.keras.optimizers.legacy.Adam`.\n"
          ]
        },
        {
          "name": "stdout",
          "output_type": "stream",
          "text": [
            "201/201 [==============================] - 0s 568us/step - loss: 1.4580 - categorical_accuracy: 0.6271\n",
            "23/23 [==============================] - 0s 409us/step\n"
          ]
        },
        {
          "name": "stderr",
          "output_type": "stream",
          "text": [
            "WARNING:absl:At this time, the v2.11+ optimizer `tf.keras.optimizers.Adam` runs slowly on M1/M2 Macs, please use the legacy Keras optimizer instead, located at `tf.keras.optimizers.legacy.Adam`.\n",
            "WARNING:absl:There is a known slowdown when using v2.11+ Keras optimizers on M1/M2 Macs. Falling back to the legacy Keras optimizer, i.e., `tf.keras.optimizers.legacy.Adam`.\n"
          ]
        },
        {
          "name": "stdout",
          "output_type": "stream",
          "text": [
            "201/201 [==============================] - 0s 579us/step - loss: 1.4616 - categorical_accuracy: 0.6755\n",
            "23/23 [==============================] - 0s 397us/step\n"
          ]
        },
        {
          "name": "stderr",
          "output_type": "stream",
          "text": [
            "WARNING:absl:At this time, the v2.11+ optimizer `tf.keras.optimizers.Adam` runs slowly on M1/M2 Macs, please use the legacy Keras optimizer instead, located at `tf.keras.optimizers.legacy.Adam`.\n",
            "WARNING:absl:There is a known slowdown when using v2.11+ Keras optimizers on M1/M2 Macs. Falling back to the legacy Keras optimizer, i.e., `tf.keras.optimizers.legacy.Adam`.\n"
          ]
        },
        {
          "name": "stdout",
          "output_type": "stream",
          "text": [
            "201/201 [==============================] - 0s 566us/step - loss: 1.4571 - categorical_accuracy: 0.6331\n",
            "23/23 [==============================] - 0s 395us/step\n"
          ]
        },
        {
          "name": "stderr",
          "output_type": "stream",
          "text": [
            "WARNING:absl:At this time, the v2.11+ optimizer `tf.keras.optimizers.Adam` runs slowly on M1/M2 Macs, please use the legacy Keras optimizer instead, located at `tf.keras.optimizers.legacy.Adam`.\n",
            "WARNING:absl:There is a known slowdown when using v2.11+ Keras optimizers on M1/M2 Macs. Falling back to the legacy Keras optimizer, i.e., `tf.keras.optimizers.legacy.Adam`.\n"
          ]
        },
        {
          "name": "stdout",
          "output_type": "stream",
          "text": [
            "Epoch 1/40\n",
            "125/125 [==============================] - 0s 1ms/step - loss: 1.5279 - categorical_accuracy: 0.5703 - val_loss: 1.4273 - val_categorical_accuracy: 0.9038\n",
            "Epoch 2/40\n",
            "125/125 [==============================] - 0s 766us/step - loss: 1.3386 - categorical_accuracy: 0.8538 - val_loss: 1.1988 - val_categorical_accuracy: 0.9423\n",
            "Epoch 3/40\n",
            "125/125 [==============================] - 0s 747us/step - loss: 1.1033 - categorical_accuracy: 0.9108 - val_loss: 0.9479 - val_categorical_accuracy: 0.9583\n",
            "Epoch 4/40\n",
            "125/125 [==============================] - 0s 757us/step - loss: 0.8764 - categorical_accuracy: 0.9309 - val_loss: 0.7263 - val_categorical_accuracy: 0.9583\n",
            "Epoch 5/40\n",
            "125/125 [==============================] - 0s 782us/step - loss: 0.6863 - categorical_accuracy: 0.9382 - val_loss: 0.5593 - val_categorical_accuracy: 0.9679\n",
            "Epoch 6/40\n",
            "125/125 [==============================] - 0s 818us/step - loss: 0.5409 - categorical_accuracy: 0.9566 - val_loss: 0.4386 - val_categorical_accuracy: 0.9647\n",
            "Epoch 7/40\n",
            "125/125 [==============================] - 0s 803us/step - loss: 0.4289 - categorical_accuracy: 0.9590 - val_loss: 0.3539 - val_categorical_accuracy: 0.9679\n",
            "Epoch 8/40\n",
            "125/125 [==============================] - 0s 819us/step - loss: 0.3627 - categorical_accuracy: 0.9574 - val_loss: 0.2917 - val_categorical_accuracy: 0.9744\n",
            "Epoch 9/40\n",
            "125/125 [==============================] - 0s 768us/step - loss: 0.3051 - categorical_accuracy: 0.9622 - val_loss: 0.2486 - val_categorical_accuracy: 0.9744\n",
            "Epoch 10/40\n",
            "125/125 [==============================] - 0s 808us/step - loss: 0.2693 - categorical_accuracy: 0.9622 - val_loss: 0.2156 - val_categorical_accuracy: 0.9808\n",
            "Epoch 11/40\n",
            "125/125 [==============================] - 0s 744us/step - loss: 0.2441 - categorical_accuracy: 0.9606 - val_loss: 0.1903 - val_categorical_accuracy: 0.9808\n",
            "Epoch 12/40\n",
            "125/125 [==============================] - 0s 740us/step - loss: 0.2148 - categorical_accuracy: 0.9663 - val_loss: 0.1714 - val_categorical_accuracy: 0.9808\n",
            "Epoch 13/40\n",
            "125/125 [==============================] - 0s 754us/step - loss: 0.1942 - categorical_accuracy: 0.9687 - val_loss: 0.1548 - val_categorical_accuracy: 0.9808\n",
            "Epoch 14/40\n",
            "125/125 [==============================] - 0s 763us/step - loss: 0.1809 - categorical_accuracy: 0.9663 - val_loss: 0.1418 - val_categorical_accuracy: 0.9808\n",
            "Epoch 15/40\n",
            "125/125 [==============================] - 0s 816us/step - loss: 0.1668 - categorical_accuracy: 0.9687 - val_loss: 0.1319 - val_categorical_accuracy: 0.9808\n",
            "Epoch 16/40\n",
            "125/125 [==============================] - 0s 801us/step - loss: 0.1548 - categorical_accuracy: 0.9679 - val_loss: 0.1227 - val_categorical_accuracy: 0.9808\n",
            "Epoch 17/40\n",
            "125/125 [==============================] - 0s 796us/step - loss: 0.1412 - categorical_accuracy: 0.9759 - val_loss: 0.1147 - val_categorical_accuracy: 0.9808\n",
            "Epoch 18/40\n",
            "125/125 [==============================] - 0s 798us/step - loss: 0.1303 - categorical_accuracy: 0.9775 - val_loss: 0.1071 - val_categorical_accuracy: 0.9808\n",
            "Epoch 19/40\n",
            "125/125 [==============================] - 0s 759us/step - loss: 0.1220 - categorical_accuracy: 0.9807 - val_loss: 0.1011 - val_categorical_accuracy: 0.9808\n",
            "Epoch 20/40\n",
            "125/125 [==============================] - 0s 755us/step - loss: 0.1180 - categorical_accuracy: 0.9751 - val_loss: 0.0969 - val_categorical_accuracy: 0.9808\n",
            "Epoch 21/40\n",
            "125/125 [==============================] - 0s 744us/step - loss: 0.1130 - categorical_accuracy: 0.9759 - val_loss: 0.0910 - val_categorical_accuracy: 0.9840\n",
            "Epoch 22/40\n",
            "125/125 [==============================] - 0s 757us/step - loss: 0.1050 - categorical_accuracy: 0.9807 - val_loss: 0.0883 - val_categorical_accuracy: 0.9840\n",
            "Epoch 23/40\n",
            "125/125 [==============================] - 0s 746us/step - loss: 0.0986 - categorical_accuracy: 0.9783 - val_loss: 0.0847 - val_categorical_accuracy: 0.9904\n",
            "Epoch 24/40\n",
            "125/125 [==============================] - 0s 762us/step - loss: 0.0945 - categorical_accuracy: 0.9767 - val_loss: 0.0821 - val_categorical_accuracy: 0.9840\n",
            "Epoch 25/40\n",
            "125/125 [==============================] - 0s 755us/step - loss: 0.0898 - categorical_accuracy: 0.9823 - val_loss: 0.0795 - val_categorical_accuracy: 0.9840\n",
            "Epoch 26/40\n",
            "125/125 [==============================] - 0s 796us/step - loss: 0.0891 - categorical_accuracy: 0.9807 - val_loss: 0.0762 - val_categorical_accuracy: 0.9872\n",
            "Epoch 27/40\n",
            "125/125 [==============================] - 0s 744us/step - loss: 0.0812 - categorical_accuracy: 0.9847 - val_loss: 0.0735 - val_categorical_accuracy: 0.9904\n",
            "Epoch 28/40\n",
            "125/125 [==============================] - 0s 755us/step - loss: 0.0751 - categorical_accuracy: 0.9847 - val_loss: 0.0726 - val_categorical_accuracy: 0.9904\n",
            "Epoch 29/40\n",
            "125/125 [==============================] - 0s 748us/step - loss: 0.0772 - categorical_accuracy: 0.9807 - val_loss: 0.0693 - val_categorical_accuracy: 0.9904\n",
            "Epoch 30/40\n",
            "125/125 [==============================] - 0s 750us/step - loss: 0.0715 - categorical_accuracy: 0.9839 - val_loss: 0.0676 - val_categorical_accuracy: 0.9872\n",
            "Epoch 31/40\n",
            "125/125 [==============================] - 0s 749us/step - loss: 0.0682 - categorical_accuracy: 0.9863 - val_loss: 0.0663 - val_categorical_accuracy: 0.9904\n",
            "Epoch 32/40\n",
            "125/125 [==============================] - 0s 753us/step - loss: 0.0682 - categorical_accuracy: 0.9855 - val_loss: 0.0657 - val_categorical_accuracy: 0.9872\n",
            "Epoch 33/40\n",
            "125/125 [==============================] - 0s 748us/step - loss: 0.0658 - categorical_accuracy: 0.9863 - val_loss: 0.0630 - val_categorical_accuracy: 0.9904\n",
            "Epoch 34/40\n",
            "125/125 [==============================] - 0s 742us/step - loss: 0.0566 - categorical_accuracy: 0.9896 - val_loss: 0.0617 - val_categorical_accuracy: 0.9904\n",
            "Epoch 35/40\n",
            "125/125 [==============================] - 0s 769us/step - loss: 0.0601 - categorical_accuracy: 0.9880 - val_loss: 0.0631 - val_categorical_accuracy: 0.9904\n",
            "Epoch 36/40\n",
            "125/125 [==============================] - 0s 756us/step - loss: 0.0549 - categorical_accuracy: 0.9912 - val_loss: 0.0604 - val_categorical_accuracy: 0.9904\n",
            "Epoch 37/40\n",
            "125/125 [==============================] - 0s 748us/step - loss: 0.0535 - categorical_accuracy: 0.9888 - val_loss: 0.0595 - val_categorical_accuracy: 0.9904\n",
            "Epoch 38/40\n",
            "125/125 [==============================] - 0s 765us/step - loss: 0.0525 - categorical_accuracy: 0.9855 - val_loss: 0.0570 - val_categorical_accuracy: 0.9904\n",
            "Epoch 39/40\n",
            "125/125 [==============================] - 0s 748us/step - loss: 0.0506 - categorical_accuracy: 0.9880 - val_loss: 0.0556 - val_categorical_accuracy: 0.9904\n",
            "Epoch 40/40\n",
            "125/125 [==============================] - 0s 752us/step - loss: 0.0500 - categorical_accuracy: 0.9871 - val_loss: 0.0570 - val_categorical_accuracy: 0.9904\n"
          ]
        },
        {
          "name": "stderr",
          "output_type": "stream",
          "text": [
            "WARNING:absl:At this time, the v2.11+ optimizer `tf.keras.optimizers.Adam` runs slowly on M1/M2 Macs, please use the legacy Keras optimizer instead, located at `tf.keras.optimizers.legacy.Adam`.\n",
            "WARNING:absl:There is a known slowdown when using v2.11+ Keras optimizers on M1/M2 Macs. Falling back to the legacy Keras optimizer, i.e., `tf.keras.optimizers.legacy.Adam`.\n"
          ]
        },
        {
          "name": "stdout",
          "output_type": "stream",
          "text": [
            "201/201 [==============================] - 0s 589us/step - loss: 1.4791 - categorical_accuracy: 0.6294\n",
            "23/23 [==============================] - 0s 372us/step\n"
          ]
        },
        {
          "name": "stderr",
          "output_type": "stream",
          "text": [
            "WARNING:absl:At this time, the v2.11+ optimizer `tf.keras.optimizers.Adam` runs slowly on M1/M2 Macs, please use the legacy Keras optimizer instead, located at `tf.keras.optimizers.legacy.Adam`.\n",
            "WARNING:absl:There is a known slowdown when using v2.11+ Keras optimizers on M1/M2 Macs. Falling back to the legacy Keras optimizer, i.e., `tf.keras.optimizers.legacy.Adam`.\n"
          ]
        },
        {
          "name": "stdout",
          "output_type": "stream",
          "text": [
            "201/201 [==============================] - 0s 585us/step - loss: 1.4738 - categorical_accuracy: 0.6563\n",
            "23/23 [==============================] - 0s 392us/step\n"
          ]
        },
        {
          "name": "stderr",
          "output_type": "stream",
          "text": [
            "WARNING:absl:At this time, the v2.11+ optimizer `tf.keras.optimizers.Adam` runs slowly on M1/M2 Macs, please use the legacy Keras optimizer instead, located at `tf.keras.optimizers.legacy.Adam`.\n",
            "WARNING:absl:There is a known slowdown when using v2.11+ Keras optimizers on M1/M2 Macs. Falling back to the legacy Keras optimizer, i.e., `tf.keras.optimizers.legacy.Adam`.\n"
          ]
        },
        {
          "name": "stdout",
          "output_type": "stream",
          "text": [
            "201/201 [==============================] - 0s 581us/step - loss: 1.4551 - categorical_accuracy: 0.6578\n",
            "23/23 [==============================] - 0s 403us/step\n"
          ]
        },
        {
          "name": "stderr",
          "output_type": "stream",
          "text": [
            "WARNING:absl:At this time, the v2.11+ optimizer `tf.keras.optimizers.Adam` runs slowly on M1/M2 Macs, please use the legacy Keras optimizer instead, located at `tf.keras.optimizers.legacy.Adam`.\n",
            "WARNING:absl:There is a known slowdown when using v2.11+ Keras optimizers on M1/M2 Macs. Falling back to the legacy Keras optimizer, i.e., `tf.keras.optimizers.legacy.Adam`.\n"
          ]
        },
        {
          "name": "stdout",
          "output_type": "stream",
          "text": [
            "201/201 [==============================] - 0s 585us/step - loss: 1.4664 - categorical_accuracy: 0.6768\n",
            "23/23 [==============================] - 0s 399us/step\n"
          ]
        },
        {
          "name": "stderr",
          "output_type": "stream",
          "text": [
            "WARNING:absl:At this time, the v2.11+ optimizer `tf.keras.optimizers.Adam` runs slowly on M1/M2 Macs, please use the legacy Keras optimizer instead, located at `tf.keras.optimizers.legacy.Adam`.\n",
            "WARNING:absl:There is a known slowdown when using v2.11+ Keras optimizers on M1/M2 Macs. Falling back to the legacy Keras optimizer, i.e., `tf.keras.optimizers.legacy.Adam`.\n"
          ]
        },
        {
          "name": "stdout",
          "output_type": "stream",
          "text": [
            "201/201 [==============================] - 0s 577us/step - loss: 1.4638 - categorical_accuracy: 0.6658\n",
            "23/23 [==============================] - 0s 401us/step\n"
          ]
        },
        {
          "name": "stderr",
          "output_type": "stream",
          "text": [
            "WARNING:absl:At this time, the v2.11+ optimizer `tf.keras.optimizers.Adam` runs slowly on M1/M2 Macs, please use the legacy Keras optimizer instead, located at `tf.keras.optimizers.legacy.Adam`.\n",
            "WARNING:absl:There is a known slowdown when using v2.11+ Keras optimizers on M1/M2 Macs. Falling back to the legacy Keras optimizer, i.e., `tf.keras.optimizers.legacy.Adam`.\n"
          ]
        },
        {
          "name": "stdout",
          "output_type": "stream",
          "text": [
            "201/201 [==============================] - 0s 566us/step - loss: 1.4610 - categorical_accuracy: 0.6810\n",
            "23/23 [==============================] - 0s 388us/step\n"
          ]
        },
        {
          "name": "stderr",
          "output_type": "stream",
          "text": [
            "WARNING:absl:At this time, the v2.11+ optimizer `tf.keras.optimizers.Adam` runs slowly on M1/M2 Macs, please use the legacy Keras optimizer instead, located at `tf.keras.optimizers.legacy.Adam`.\n",
            "WARNING:absl:There is a known slowdown when using v2.11+ Keras optimizers on M1/M2 Macs. Falling back to the legacy Keras optimizer, i.e., `tf.keras.optimizers.legacy.Adam`.\n"
          ]
        },
        {
          "name": "stdout",
          "output_type": "stream",
          "text": [
            "201/201 [==============================] - 0s 575us/step - loss: 1.4594 - categorical_accuracy: 0.6610\n",
            "23/23 [==============================] - 0s 393us/step\n"
          ]
        },
        {
          "name": "stderr",
          "output_type": "stream",
          "text": [
            "WARNING:absl:At this time, the v2.11+ optimizer `tf.keras.optimizers.Adam` runs slowly on M1/M2 Macs, please use the legacy Keras optimizer instead, located at `tf.keras.optimizers.legacy.Adam`.\n",
            "WARNING:absl:There is a known slowdown when using v2.11+ Keras optimizers on M1/M2 Macs. Falling back to the legacy Keras optimizer, i.e., `tf.keras.optimizers.legacy.Adam`.\n"
          ]
        },
        {
          "name": "stdout",
          "output_type": "stream",
          "text": [
            "201/201 [==============================] - 0s 579us/step - loss: 1.4642 - categorical_accuracy: 0.6081\n",
            "23/23 [==============================] - 0s 397us/step\n"
          ]
        },
        {
          "name": "stderr",
          "output_type": "stream",
          "text": [
            "WARNING:absl:At this time, the v2.11+ optimizer `tf.keras.optimizers.Adam` runs slowly on M1/M2 Macs, please use the legacy Keras optimizer instead, located at `tf.keras.optimizers.legacy.Adam`.\n",
            "WARNING:absl:There is a known slowdown when using v2.11+ Keras optimizers on M1/M2 Macs. Falling back to the legacy Keras optimizer, i.e., `tf.keras.optimizers.legacy.Adam`.\n"
          ]
        },
        {
          "name": "stdout",
          "output_type": "stream",
          "text": [
            "201/201 [==============================] - 0s 588us/step - loss: 1.4660 - categorical_accuracy: 0.6810\n",
            "23/23 [==============================] - 0s 404us/step\n"
          ]
        },
        {
          "name": "stderr",
          "output_type": "stream",
          "text": [
            "WARNING:absl:At this time, the v2.11+ optimizer `tf.keras.optimizers.Adam` runs slowly on M1/M2 Macs, please use the legacy Keras optimizer instead, located at `tf.keras.optimizers.legacy.Adam`.\n",
            "WARNING:absl:There is a known slowdown when using v2.11+ Keras optimizers on M1/M2 Macs. Falling back to the legacy Keras optimizer, i.e., `tf.keras.optimizers.legacy.Adam`.\n"
          ]
        },
        {
          "name": "stdout",
          "output_type": "stream",
          "text": [
            "201/201 [==============================] - 0s 586us/step - loss: 1.4719 - categorical_accuracy: 0.5861\n",
            "23/23 [==============================] - 0s 406us/step\n"
          ]
        },
        {
          "name": "stderr",
          "output_type": "stream",
          "text": [
            "WARNING:absl:At this time, the v2.11+ optimizer `tf.keras.optimizers.Adam` runs slowly on M1/M2 Macs, please use the legacy Keras optimizer instead, located at `tf.keras.optimizers.legacy.Adam`.\n",
            "WARNING:absl:There is a known slowdown when using v2.11+ Keras optimizers on M1/M2 Macs. Falling back to the legacy Keras optimizer, i.e., `tf.keras.optimizers.legacy.Adam`.\n"
          ]
        },
        {
          "name": "stdout",
          "output_type": "stream",
          "text": [
            "Epoch 1/40\n",
            "125/125 [==============================] - 0s 1ms/step - loss: 1.5329 - categorical_accuracy: 0.5534 - val_loss: 1.4330 - val_categorical_accuracy: 0.8782\n",
            "Epoch 2/40\n",
            "125/125 [==============================] - 0s 745us/step - loss: 1.3371 - categorical_accuracy: 0.8562 - val_loss: 1.1977 - val_categorical_accuracy: 0.9231\n",
            "Epoch 3/40\n",
            "125/125 [==============================] - 0s 748us/step - loss: 1.0956 - categorical_accuracy: 0.9052 - val_loss: 0.9398 - val_categorical_accuracy: 0.9487\n",
            "Epoch 4/40\n",
            "125/125 [==============================] - 0s 745us/step - loss: 0.8589 - categorical_accuracy: 0.9373 - val_loss: 0.7179 - val_categorical_accuracy: 0.9551\n",
            "Epoch 5/40\n",
            "125/125 [==============================] - 0s 752us/step - loss: 0.6738 - categorical_accuracy: 0.9470 - val_loss: 0.5516 - val_categorical_accuracy: 0.9551\n",
            "Epoch 6/40\n",
            "125/125 [==============================] - 0s 735us/step - loss: 0.5329 - categorical_accuracy: 0.9510 - val_loss: 0.4343 - val_categorical_accuracy: 0.9647\n",
            "Epoch 7/40\n",
            "125/125 [==============================] - 0s 776us/step - loss: 0.4323 - categorical_accuracy: 0.9598 - val_loss: 0.3510 - val_categorical_accuracy: 0.9615\n",
            "Epoch 8/40\n",
            "125/125 [==============================] - 0s 759us/step - loss: 0.3548 - categorical_accuracy: 0.9663 - val_loss: 0.2916 - val_categorical_accuracy: 0.9679\n",
            "Epoch 9/40\n",
            "125/125 [==============================] - 0s 744us/step - loss: 0.3020 - categorical_accuracy: 0.9631 - val_loss: 0.2484 - val_categorical_accuracy: 0.9808\n",
            "Epoch 10/40\n",
            "125/125 [==============================] - 0s 739us/step - loss: 0.2667 - categorical_accuracy: 0.9639 - val_loss: 0.2158 - val_categorical_accuracy: 0.9808\n",
            "Epoch 11/40\n",
            "125/125 [==============================] - 0s 736us/step - loss: 0.2379 - categorical_accuracy: 0.9655 - val_loss: 0.1917 - val_categorical_accuracy: 0.9808\n",
            "Epoch 12/40\n",
            "125/125 [==============================] - 0s 754us/step - loss: 0.2123 - categorical_accuracy: 0.9639 - val_loss: 0.1716 - val_categorical_accuracy: 0.9872\n",
            "Epoch 13/40\n",
            "125/125 [==============================] - 0s 741us/step - loss: 0.1912 - categorical_accuracy: 0.9655 - val_loss: 0.1560 - val_categorical_accuracy: 0.9840\n",
            "Epoch 14/40\n",
            "125/125 [==============================] - 0s 747us/step - loss: 0.1771 - categorical_accuracy: 0.9663 - val_loss: 0.1436 - val_categorical_accuracy: 0.9808\n",
            "Epoch 15/40\n",
            "125/125 [==============================] - 0s 743us/step - loss: 0.1660 - categorical_accuracy: 0.9687 - val_loss: 0.1327 - val_categorical_accuracy: 0.9808\n",
            "Epoch 16/40\n",
            "125/125 [==============================] - 0s 738us/step - loss: 0.1520 - categorical_accuracy: 0.9711 - val_loss: 0.1243 - val_categorical_accuracy: 0.9808\n",
            "Epoch 17/40\n",
            "125/125 [==============================] - 0s 922us/step - loss: 0.1451 - categorical_accuracy: 0.9679 - val_loss: 0.1162 - val_categorical_accuracy: 0.9840\n",
            "Epoch 18/40\n",
            "125/125 [==============================] - 0s 794us/step - loss: 0.1376 - categorical_accuracy: 0.9703 - val_loss: 0.1099 - val_categorical_accuracy: 0.9840\n",
            "Epoch 19/40\n",
            "125/125 [==============================] - 0s 790us/step - loss: 0.1241 - categorical_accuracy: 0.9759 - val_loss: 0.1042 - val_categorical_accuracy: 0.9840\n",
            "Epoch 20/40\n",
            "125/125 [==============================] - 0s 740us/step - loss: 0.1115 - categorical_accuracy: 0.9759 - val_loss: 0.0999 - val_categorical_accuracy: 0.9840\n",
            "Epoch 21/40\n",
            "125/125 [==============================] - 0s 830us/step - loss: 0.1029 - categorical_accuracy: 0.9823 - val_loss: 0.0943 - val_categorical_accuracy: 0.9872\n",
            "Epoch 22/40\n",
            "125/125 [==============================] - 0s 784us/step - loss: 0.1014 - categorical_accuracy: 0.9759 - val_loss: 0.0900 - val_categorical_accuracy: 0.9872\n",
            "Epoch 23/40\n",
            "125/125 [==============================] - 0s 782us/step - loss: 0.0972 - categorical_accuracy: 0.9791 - val_loss: 0.0873 - val_categorical_accuracy: 0.9904\n",
            "Epoch 24/40\n",
            "125/125 [==============================] - 0s 760us/step - loss: 0.0972 - categorical_accuracy: 0.9815 - val_loss: 0.0854 - val_categorical_accuracy: 0.9872\n",
            "Epoch 25/40\n",
            "125/125 [==============================] - 0s 943us/step - loss: 0.0923 - categorical_accuracy: 0.9815 - val_loss: 0.0810 - val_categorical_accuracy: 0.9904\n",
            "Epoch 26/40\n",
            "125/125 [==============================] - 0s 812us/step - loss: 0.0857 - categorical_accuracy: 0.9823 - val_loss: 0.0778 - val_categorical_accuracy: 0.9904\n",
            "Epoch 27/40\n",
            "125/125 [==============================] - 0s 909us/step - loss: 0.0820 - categorical_accuracy: 0.9799 - val_loss: 0.0759 - val_categorical_accuracy: 0.9904\n",
            "Epoch 28/40\n",
            "125/125 [==============================] - 0s 793us/step - loss: 0.0782 - categorical_accuracy: 0.9839 - val_loss: 0.0731 - val_categorical_accuracy: 0.9904\n",
            "Epoch 29/40\n",
            "125/125 [==============================] - 0s 780us/step - loss: 0.0766 - categorical_accuracy: 0.9815 - val_loss: 0.0719 - val_categorical_accuracy: 0.9904\n",
            "Epoch 30/40\n",
            "125/125 [==============================] - 0s 750us/step - loss: 0.0739 - categorical_accuracy: 0.9815 - val_loss: 0.0704 - val_categorical_accuracy: 0.9904\n",
            "Epoch 31/40\n",
            "125/125 [==============================] - 0s 754us/step - loss: 0.0749 - categorical_accuracy: 0.9839 - val_loss: 0.0688 - val_categorical_accuracy: 0.9904\n",
            "Epoch 32/40\n",
            "125/125 [==============================] - 0s 745us/step - loss: 0.0718 - categorical_accuracy: 0.9807 - val_loss: 0.0668 - val_categorical_accuracy: 0.9904\n",
            "Epoch 33/40\n",
            "125/125 [==============================] - 0s 742us/step - loss: 0.0697 - categorical_accuracy: 0.9839 - val_loss: 0.0658 - val_categorical_accuracy: 0.9904\n",
            "Epoch 34/40\n",
            "125/125 [==============================] - 0s 747us/step - loss: 0.0593 - categorical_accuracy: 0.9871 - val_loss: 0.0641 - val_categorical_accuracy: 0.9904\n",
            "Epoch 35/40\n",
            "125/125 [==============================] - 0s 742us/step - loss: 0.0619 - categorical_accuracy: 0.9847 - val_loss: 0.0628 - val_categorical_accuracy: 0.9904\n",
            "Epoch 36/40\n",
            "125/125 [==============================] - 0s 725us/step - loss: 0.0562 - categorical_accuracy: 0.9912 - val_loss: 0.0615 - val_categorical_accuracy: 0.9904\n",
            "Epoch 37/40\n",
            "125/125 [==============================] - 0s 756us/step - loss: 0.0488 - categorical_accuracy: 0.9912 - val_loss: 0.0591 - val_categorical_accuracy: 0.9904\n",
            "Epoch 38/40\n",
            "125/125 [==============================] - 0s 738us/step - loss: 0.0525 - categorical_accuracy: 0.9847 - val_loss: 0.0600 - val_categorical_accuracy: 0.9904\n",
            "Epoch 39/40\n",
            "125/125 [==============================] - 0s 738us/step - loss: 0.0515 - categorical_accuracy: 0.9904 - val_loss: 0.0598 - val_categorical_accuracy: 0.9904\n",
            "Epoch 40/40\n",
            "125/125 [==============================] - 0s 739us/step - loss: 0.0466 - categorical_accuracy: 0.9936 - val_loss: 0.0577 - val_categorical_accuracy: 0.9904\n"
          ]
        },
        {
          "name": "stderr",
          "output_type": "stream",
          "text": [
            "WARNING:absl:At this time, the v2.11+ optimizer `tf.keras.optimizers.Adam` runs slowly on M1/M2 Macs, please use the legacy Keras optimizer instead, located at `tf.keras.optimizers.legacy.Adam`.\n",
            "WARNING:absl:There is a known slowdown when using v2.11+ Keras optimizers on M1/M2 Macs. Falling back to the legacy Keras optimizer, i.e., `tf.keras.optimizers.legacy.Adam`.\n"
          ]
        },
        {
          "name": "stdout",
          "output_type": "stream",
          "text": [
            "201/201 [==============================] - 0s 571us/step - loss: 1.4760 - categorical_accuracy: 0.6489\n",
            "23/23 [==============================] - 0s 411us/step\n"
          ]
        },
        {
          "name": "stderr",
          "output_type": "stream",
          "text": [
            "WARNING:absl:At this time, the v2.11+ optimizer `tf.keras.optimizers.Adam` runs slowly on M1/M2 Macs, please use the legacy Keras optimizer instead, located at `tf.keras.optimizers.legacy.Adam`.\n",
            "WARNING:absl:There is a known slowdown when using v2.11+ Keras optimizers on M1/M2 Macs. Falling back to the legacy Keras optimizer, i.e., `tf.keras.optimizers.legacy.Adam`.\n"
          ]
        },
        {
          "name": "stdout",
          "output_type": "stream",
          "text": [
            "201/201 [==============================] - 0s 575us/step - loss: 1.4849 - categorical_accuracy: 0.6054\n",
            "23/23 [==============================] - 0s 390us/step\n"
          ]
        },
        {
          "name": "stderr",
          "output_type": "stream",
          "text": [
            "WARNING:absl:At this time, the v2.11+ optimizer `tf.keras.optimizers.Adam` runs slowly on M1/M2 Macs, please use the legacy Keras optimizer instead, located at `tf.keras.optimizers.legacy.Adam`.\n",
            "WARNING:absl:There is a known slowdown when using v2.11+ Keras optimizers on M1/M2 Macs. Falling back to the legacy Keras optimizer, i.e., `tf.keras.optimizers.legacy.Adam`.\n"
          ]
        },
        {
          "name": "stdout",
          "output_type": "stream",
          "text": [
            "201/201 [==============================] - 0s 596us/step - loss: 1.4879 - categorical_accuracy: 0.6054\n",
            "23/23 [==============================] - 0s 394us/step\n"
          ]
        },
        {
          "name": "stderr",
          "output_type": "stream",
          "text": [
            "WARNING:absl:At this time, the v2.11+ optimizer `tf.keras.optimizers.Adam` runs slowly on M1/M2 Macs, please use the legacy Keras optimizer instead, located at `tf.keras.optimizers.legacy.Adam`.\n",
            "WARNING:absl:There is a known slowdown when using v2.11+ Keras optimizers on M1/M2 Macs. Falling back to the legacy Keras optimizer, i.e., `tf.keras.optimizers.legacy.Adam`.\n"
          ]
        },
        {
          "name": "stdout",
          "output_type": "stream",
          "text": [
            "201/201 [==============================] - 0s 577us/step - loss: 1.4639 - categorical_accuracy: 0.6154\n",
            "23/23 [==============================] - 0s 399us/step\n"
          ]
        },
        {
          "name": "stderr",
          "output_type": "stream",
          "text": [
            "WARNING:absl:At this time, the v2.11+ optimizer `tf.keras.optimizers.Adam` runs slowly on M1/M2 Macs, please use the legacy Keras optimizer instead, located at `tf.keras.optimizers.legacy.Adam`.\n",
            "WARNING:absl:There is a known slowdown when using v2.11+ Keras optimizers on M1/M2 Macs. Falling back to the legacy Keras optimizer, i.e., `tf.keras.optimizers.legacy.Adam`.\n"
          ]
        },
        {
          "name": "stdout",
          "output_type": "stream",
          "text": [
            "201/201 [==============================] - 0s 602us/step - loss: 1.4664 - categorical_accuracy: 0.6169\n",
            "23/23 [==============================] - 0s 392us/step\n"
          ]
        },
        {
          "name": "stderr",
          "output_type": "stream",
          "text": [
            "WARNING:absl:At this time, the v2.11+ optimizer `tf.keras.optimizers.Adam` runs slowly on M1/M2 Macs, please use the legacy Keras optimizer instead, located at `tf.keras.optimizers.legacy.Adam`.\n",
            "WARNING:absl:There is a known slowdown when using v2.11+ Keras optimizers on M1/M2 Macs. Falling back to the legacy Keras optimizer, i.e., `tf.keras.optimizers.legacy.Adam`.\n"
          ]
        },
        {
          "name": "stdout",
          "output_type": "stream",
          "text": [
            "201/201 [==============================] - 0s 576us/step - loss: 1.4916 - categorical_accuracy: 0.6126\n",
            "23/23 [==============================] - 0s 386us/step\n"
          ]
        },
        {
          "name": "stderr",
          "output_type": "stream",
          "text": [
            "WARNING:absl:At this time, the v2.11+ optimizer `tf.keras.optimizers.Adam` runs slowly on M1/M2 Macs, please use the legacy Keras optimizer instead, located at `tf.keras.optimizers.legacy.Adam`.\n",
            "WARNING:absl:There is a known slowdown when using v2.11+ Keras optimizers on M1/M2 Macs. Falling back to the legacy Keras optimizer, i.e., `tf.keras.optimizers.legacy.Adam`.\n"
          ]
        },
        {
          "name": "stdout",
          "output_type": "stream",
          "text": [
            "201/201 [==============================] - 0s 577us/step - loss: 1.4702 - categorical_accuracy: 0.6231\n",
            "23/23 [==============================] - 0s 388us/step\n"
          ]
        },
        {
          "name": "stderr",
          "output_type": "stream",
          "text": [
            "WARNING:absl:At this time, the v2.11+ optimizer `tf.keras.optimizers.Adam` runs slowly on M1/M2 Macs, please use the legacy Keras optimizer instead, located at `tf.keras.optimizers.legacy.Adam`.\n",
            "WARNING:absl:There is a known slowdown when using v2.11+ Keras optimizers on M1/M2 Macs. Falling back to the legacy Keras optimizer, i.e., `tf.keras.optimizers.legacy.Adam`.\n"
          ]
        },
        {
          "name": "stdout",
          "output_type": "stream",
          "text": [
            "201/201 [==============================] - 0s 589us/step - loss: 1.4623 - categorical_accuracy: 0.5781\n",
            "23/23 [==============================] - 0s 419us/step\n"
          ]
        },
        {
          "name": "stderr",
          "output_type": "stream",
          "text": [
            "WARNING:absl:At this time, the v2.11+ optimizer `tf.keras.optimizers.Adam` runs slowly on M1/M2 Macs, please use the legacy Keras optimizer instead, located at `tf.keras.optimizers.legacy.Adam`.\n",
            "WARNING:absl:There is a known slowdown when using v2.11+ Keras optimizers on M1/M2 Macs. Falling back to the legacy Keras optimizer, i.e., `tf.keras.optimizers.legacy.Adam`.\n"
          ]
        },
        {
          "name": "stdout",
          "output_type": "stream",
          "text": [
            "201/201 [==============================] - 0s 570us/step - loss: 1.4737 - categorical_accuracy: 0.6685\n",
            "23/23 [==============================] - 0s 398us/step\n"
          ]
        },
        {
          "name": "stderr",
          "output_type": "stream",
          "text": [
            "WARNING:absl:At this time, the v2.11+ optimizer `tf.keras.optimizers.Adam` runs slowly on M1/M2 Macs, please use the legacy Keras optimizer instead, located at `tf.keras.optimizers.legacy.Adam`.\n",
            "WARNING:absl:There is a known slowdown when using v2.11+ Keras optimizers on M1/M2 Macs. Falling back to the legacy Keras optimizer, i.e., `tf.keras.optimizers.legacy.Adam`.\n"
          ]
        },
        {
          "name": "stdout",
          "output_type": "stream",
          "text": [
            "201/201 [==============================] - 0s 589us/step - loss: 1.4530 - categorical_accuracy: 0.6171\n",
            "23/23 [==============================] - 0s 401us/step\n"
          ]
        }
      ],
      "source": [
        "# Testing 5 different seeds (5 different initial values, hence, 5 fits)\n",
        "\n",
        "seeds = [1, 2, 3, 4, 5]  # For the sake of reproducibility\n",
        "models = {}\n",
        "\n",
        "for seed in seeds:\n",
        "  model = build_model(seed)\n",
        "  Kmodel = KerasClassifier(build_fn=build_model, batch_size=10, verbose=1)\n",
        "\n",
        "  model_history = model.fit(x_train, y_train, epochs=40, batch_size=10, validation_split=0.20)\n",
        "\n",
        "  # Implementing the 10-fold cross validation\n",
        "  scores = cross_val_score(Kmodel, X, Y, cv=10, scoring='accuracy')\n",
        "\n",
        "\n",
        "  # Get the final training loss and accuracy\n",
        "  final_train_loss = model_history.history['loss'][-1]\n",
        "  final_train_accuracy = model_history.history['categorical_accuracy'][-1]\n",
        "\n",
        "  # Get the validation loss and accuracy if available\n",
        "  # if 'val_loss' in history.history and 'val_accuracy' in history.history:\n",
        "  final_val_loss = model_history.history['val_loss'][-1]\n",
        "  final_val_accuracy = model_history.history['val_categorical_accuracy'][-1]\n",
        "  # else:\n",
        "  #     final_val_loss = None\n",
        "  #     final_val_accuracy = None\n",
        "\n",
        "  model_key = f\"best_architecture_seed_{seed}\"\n",
        "  models[model_key] = {\n",
        "    'final_train_loss': f'{final_train_loss:.4f}',\n",
        "    'final_train_accuracy': f'{final_train_accuracy:.4f}',\n",
        "    'final_val_loss': f'{final_val_loss:.4f}',\n",
        "    'final_val_accuracy': f'{final_val_accuracy:.4f}',\n",
        "    '10_fold_average': f'{scores.mean():.4f}',\n",
        "    '10_fold_standard deviation': f'{scores.std():.4f}',\n",
        "    'seed': seed\n",
        "    }\n",
        "\n",
        "  # Cleaning the variable\n",
        "  model_history = ''\n",
        "  Kmodel = ''\n",
        "\n",
        "# Best model with seed = 1:\n",
        "# model = build_model(1)\n",
        "\n",
        "# best_model = build_model()\n",
        "\n",
        "# Kmodel = KerasClassifier(build_fn=build_model, verbose=1)"
      ]
    },
    {
      "cell_type": "code",
      "execution_count": 132,
      "metadata": {
        "colab": {
          "base_uri": "https://localhost:8080/"
        },
        "id": "u6bEyA0TPSm8",
        "outputId": "50865537-a827-4086-b6b2-5db7f529b1df"
      },
      "outputs": [
        {
          "data": {
            "text/plain": [
              "{'best_architecture_seed_1': {'final_train_loss': '0.0495',\n",
              "  'final_train_accuracy': '0.9904',\n",
              "  'final_val_loss': '0.0566',\n",
              "  'final_val_accuracy': '0.9904',\n",
              "  '10_fold_average': '0.8751',\n",
              "  '10_fold_standard deviation': '0.0358',\n",
              "  'seed': 1},\n",
              " 'best_architecture_seed_2': {'final_train_loss': '0.0492',\n",
              "  'final_train_accuracy': '0.9888',\n",
              "  'final_val_loss': '0.0561',\n",
              "  'final_val_accuracy': '0.9904',\n",
              "  '10_fold_average': '0.8890',\n",
              "  '10_fold_standard deviation': '0.0419',\n",
              "  'seed': 2},\n",
              " 'best_architecture_seed_3': {'final_train_loss': '0.0512',\n",
              "  'final_train_accuracy': '0.9880',\n",
              "  'final_val_loss': '0.0564',\n",
              "  'final_val_accuracy': '0.9904',\n",
              "  '10_fold_average': '0.8885',\n",
              "  '10_fold_standard deviation': '0.0306',\n",
              "  'seed': 3},\n",
              " 'best_architecture_seed_4': {'final_train_loss': '0.0500',\n",
              "  'final_train_accuracy': '0.9871',\n",
              "  'final_val_loss': '0.0570',\n",
              "  'final_val_accuracy': '0.9904',\n",
              "  '10_fold_average': '0.8872',\n",
              "  '10_fold_standard deviation': '0.0430',\n",
              "  'seed': 4},\n",
              " 'best_architecture_seed_5': {'final_train_loss': '0.0466',\n",
              "  'final_train_accuracy': '0.9936',\n",
              "  'final_val_loss': '0.0577',\n",
              "  'final_val_accuracy': '0.9904',\n",
              "  '10_fold_average': '0.8570',\n",
              "  '10_fold_standard deviation': '0.0598',\n",
              "  'seed': 5}}"
            ]
          },
          "execution_count": 132,
          "metadata": {},
          "output_type": "execute_result"
        }
      ],
      "source": [
        "# Checking the models\n",
        "models"
      ]
    },
    {
      "cell_type": "code",
      "execution_count": 133,
      "metadata": {
        "colab": {
          "base_uri": "https://localhost:8080/"
        },
        "id": "jtQ6o6sJVLz8",
        "outputId": "1d1dcea1-1494-47f2-b06b-764fb0620867"
      },
      "outputs": [
        {
          "name": "stderr",
          "output_type": "stream",
          "text": [
            "WARNING:absl:At this time, the v2.11+ optimizer `tf.keras.optimizers.Adam` runs slowly on M1/M2 Macs, please use the legacy Keras optimizer instead, located at `tf.keras.optimizers.legacy.Adam`.\n",
            "WARNING:absl:There is a known slowdown when using v2.11+ Keras optimizers on M1/M2 Macs. Falling back to the legacy Keras optimizer, i.e., `tf.keras.optimizers.legacy.Adam`.\n"
          ]
        },
        {
          "name": "stdout",
          "output_type": "stream",
          "text": [
            "Epoch 1/40\n",
            "125/125 [==============================] - 0s 1ms/step - loss: 1.5341 - categorical_accuracy: 0.5052 - val_loss: 1.4265 - val_categorical_accuracy: 0.8782\n",
            "Epoch 2/40\n",
            "125/125 [==============================] - 0s 758us/step - loss: 1.3322 - categorical_accuracy: 0.8329 - val_loss: 1.1891 - val_categorical_accuracy: 0.9295\n",
            "Epoch 3/40\n",
            "125/125 [==============================] - 0s 771us/step - loss: 1.0992 - categorical_accuracy: 0.8996 - val_loss: 0.9407 - val_categorical_accuracy: 0.9487\n",
            "Epoch 4/40\n",
            "125/125 [==============================] - 0s 754us/step - loss: 0.8660 - categorical_accuracy: 0.9301 - val_loss: 0.7277 - val_categorical_accuracy: 0.9583\n",
            "Epoch 5/40\n",
            "125/125 [==============================] - 0s 769us/step - loss: 0.6799 - categorical_accuracy: 0.9454 - val_loss: 0.5627 - val_categorical_accuracy: 0.9647\n",
            "Epoch 6/40\n",
            "125/125 [==============================] - 0s 749us/step - loss: 0.5479 - categorical_accuracy: 0.9526 - val_loss: 0.4435 - val_categorical_accuracy: 0.9712\n",
            "Epoch 7/40\n",
            "125/125 [==============================] - 0s 761us/step - loss: 0.4475 - categorical_accuracy: 0.9526 - val_loss: 0.3601 - val_categorical_accuracy: 0.9712\n",
            "Epoch 8/40\n",
            "125/125 [==============================] - 0s 746us/step - loss: 0.3729 - categorical_accuracy: 0.9542 - val_loss: 0.2995 - val_categorical_accuracy: 0.9744\n",
            "Epoch 9/40\n",
            "125/125 [==============================] - 0s 757us/step - loss: 0.3176 - categorical_accuracy: 0.9566 - val_loss: 0.2553 - val_categorical_accuracy: 0.9712\n",
            "Epoch 10/40\n",
            "125/125 [==============================] - 0s 748us/step - loss: 0.2817 - categorical_accuracy: 0.9590 - val_loss: 0.2212 - val_categorical_accuracy: 0.9744\n",
            "Epoch 11/40\n",
            "125/125 [==============================] - 0s 750us/step - loss: 0.2474 - categorical_accuracy: 0.9590 - val_loss: 0.1956 - val_categorical_accuracy: 0.9744\n",
            "Epoch 12/40\n",
            "125/125 [==============================] - 0s 758us/step - loss: 0.2200 - categorical_accuracy: 0.9663 - val_loss: 0.1755 - val_categorical_accuracy: 0.9776\n",
            "Epoch 13/40\n",
            "125/125 [==============================] - 0s 753us/step - loss: 0.2012 - categorical_accuracy: 0.9655 - val_loss: 0.1591 - val_categorical_accuracy: 0.9776\n",
            "Epoch 14/40\n",
            "125/125 [==============================] - 0s 752us/step - loss: 0.1854 - categorical_accuracy: 0.9679 - val_loss: 0.1453 - val_categorical_accuracy: 0.9776\n",
            "Epoch 15/40\n",
            "125/125 [==============================] - 0s 754us/step - loss: 0.1651 - categorical_accuracy: 0.9695 - val_loss: 0.1347 - val_categorical_accuracy: 0.9744\n",
            "Epoch 16/40\n",
            "125/125 [==============================] - 0s 750us/step - loss: 0.1540 - categorical_accuracy: 0.9743 - val_loss: 0.1244 - val_categorical_accuracy: 0.9776\n",
            "Epoch 17/40\n",
            "125/125 [==============================] - 0s 745us/step - loss: 0.1454 - categorical_accuracy: 0.9703 - val_loss: 0.1158 - val_categorical_accuracy: 0.9840\n",
            "Epoch 18/40\n",
            "125/125 [==============================] - 0s 751us/step - loss: 0.1406 - categorical_accuracy: 0.9687 - val_loss: 0.1095 - val_categorical_accuracy: 0.9776\n",
            "Epoch 19/40\n",
            "125/125 [==============================] - 0s 766us/step - loss: 0.1267 - categorical_accuracy: 0.9735 - val_loss: 0.1035 - val_categorical_accuracy: 0.9776\n",
            "Epoch 20/40\n",
            "125/125 [==============================] - 0s 754us/step - loss: 0.1193 - categorical_accuracy: 0.9719 - val_loss: 0.0982 - val_categorical_accuracy: 0.9744\n",
            "Epoch 21/40\n",
            "125/125 [==============================] - 0s 741us/step - loss: 0.1138 - categorical_accuracy: 0.9791 - val_loss: 0.0932 - val_categorical_accuracy: 0.9840\n",
            "Epoch 22/40\n",
            "125/125 [==============================] - 0s 748us/step - loss: 0.1100 - categorical_accuracy: 0.9767 - val_loss: 0.0898 - val_categorical_accuracy: 0.9840\n",
            "Epoch 23/40\n",
            "125/125 [==============================] - 0s 751us/step - loss: 0.0988 - categorical_accuracy: 0.9815 - val_loss: 0.0862 - val_categorical_accuracy: 0.9840\n",
            "Epoch 24/40\n",
            "125/125 [==============================] - 0s 751us/step - loss: 0.0937 - categorical_accuracy: 0.9783 - val_loss: 0.0833 - val_categorical_accuracy: 0.9808\n",
            "Epoch 25/40\n",
            "125/125 [==============================] - 0s 751us/step - loss: 0.0964 - categorical_accuracy: 0.9751 - val_loss: 0.0794 - val_categorical_accuracy: 0.9872\n",
            "Epoch 26/40\n",
            "125/125 [==============================] - 0s 776us/step - loss: 0.0856 - categorical_accuracy: 0.9831 - val_loss: 0.0767 - val_categorical_accuracy: 0.9904\n",
            "Epoch 27/40\n",
            "125/125 [==============================] - 0s 750us/step - loss: 0.0871 - categorical_accuracy: 0.9775 - val_loss: 0.0737 - val_categorical_accuracy: 0.9904\n",
            "Epoch 28/40\n",
            "125/125 [==============================] - 0s 760us/step - loss: 0.0815 - categorical_accuracy: 0.9831 - val_loss: 0.0711 - val_categorical_accuracy: 0.9904\n",
            "Epoch 29/40\n",
            "125/125 [==============================] - 0s 813us/step - loss: 0.0746 - categorical_accuracy: 0.9855 - val_loss: 0.0694 - val_categorical_accuracy: 0.9904\n",
            "Epoch 30/40\n",
            "125/125 [==============================] - 0s 801us/step - loss: 0.0721 - categorical_accuracy: 0.9863 - val_loss: 0.0684 - val_categorical_accuracy: 0.9904\n",
            "Epoch 31/40\n",
            "125/125 [==============================] - 0s 746us/step - loss: 0.0681 - categorical_accuracy: 0.9839 - val_loss: 0.0667 - val_categorical_accuracy: 0.9872\n",
            "Epoch 32/40\n",
            "125/125 [==============================] - 0s 750us/step - loss: 0.0671 - categorical_accuracy: 0.9871 - val_loss: 0.0645 - val_categorical_accuracy: 0.9904\n",
            "Epoch 33/40\n",
            "125/125 [==============================] - 0s 742us/step - loss: 0.0681 - categorical_accuracy: 0.9831 - val_loss: 0.0618 - val_categorical_accuracy: 0.9904\n",
            "Epoch 34/40\n",
            "125/125 [==============================] - 0s 959us/step - loss: 0.0628 - categorical_accuracy: 0.9896 - val_loss: 0.0610 - val_categorical_accuracy: 0.9904\n",
            "Epoch 35/40\n",
            "125/125 [==============================] - 0s 783us/step - loss: 0.0598 - categorical_accuracy: 0.9880 - val_loss: 0.0588 - val_categorical_accuracy: 0.9904\n",
            "Epoch 36/40\n",
            "125/125 [==============================] - 0s 770us/step - loss: 0.0561 - categorical_accuracy: 0.9880 - val_loss: 0.0595 - val_categorical_accuracy: 0.9904\n",
            "Epoch 37/40\n",
            "125/125 [==============================] - 0s 747us/step - loss: 0.0519 - categorical_accuracy: 0.9888 - val_loss: 0.0581 - val_categorical_accuracy: 0.9904\n",
            "Epoch 38/40\n",
            "125/125 [==============================] - 0s 753us/step - loss: 0.0541 - categorical_accuracy: 0.9904 - val_loss: 0.0571 - val_categorical_accuracy: 0.9904\n",
            "Epoch 39/40\n",
            "125/125 [==============================] - 0s 764us/step - loss: 0.0505 - categorical_accuracy: 0.9928 - val_loss: 0.0570 - val_categorical_accuracy: 0.9904\n",
            "Epoch 40/40\n",
            "125/125 [==============================] - 0s 749us/step - loss: 0.0512 - categorical_accuracy: 0.9880 - val_loss: 0.0562 - val_categorical_accuracy: 0.9904\n"
          ]
        }
      ],
      "source": [
        "# After several tests, we ended up with the best model Architecture LR_0.0001_Units_256_Epochs_40 with seed 3.\n",
        "\n",
        "model = build_model(3)\n",
        "\n",
        "model_history = model.fit(x_train, y_train, epochs=40, batch_size=10, validation_split=0.20)"
      ]
    },
    {
      "cell_type": "code",
      "execution_count": 134,
      "metadata": {
        "colab": {
          "base_uri": "https://localhost:8080/"
        },
        "id": "7nUl81J-V2Eq",
        "outputId": "0f692d61-00bf-430c-cc06-728a3800787e"
      },
      "outputs": [
        {
          "name": "stdout",
          "output_type": "stream",
          "text": [
            "Model: \"sequential_248\"\n",
            "_________________________________________________________________\n",
            " Layer (type)                Output Shape              Param #   \n",
            "=================================================================\n",
            " dense_496 (Dense)           (None, 256)               131328    \n",
            "                                                                 \n",
            " dropout_248 (Dropout)       (None, 256)               0         \n",
            "                                                                 \n",
            " dense_497 (Dense)           (None, 5)                 1285      \n",
            "                                                                 \n",
            "=================================================================\n",
            "Total params: 132613 (518.02 KB)\n",
            "Trainable params: 132613 (518.02 KB)\n",
            "Non-trainable params: 0 (0.00 Byte)\n",
            "_________________________________________________________________\n"
          ]
        }
      ],
      "source": [
        "# Summary\n",
        "model.summary()"
      ]
    },
    {
      "cell_type": "code",
      "execution_count": 135,
      "metadata": {
        "colab": {
          "base_uri": "https://localhost:8080/"
        },
        "id": "81-_4sncUv1Q",
        "outputId": "29e99711-8c3f-45e2-cb71-396d693b3c9e"
      },
      "outputs": [
        {
          "name": "stdout",
          "output_type": "stream",
          "text": [
            "Requirement already satisfied: visualkeras in /Users/jusbrasil/.pyenv/versions/3.11.1/lib/python3.11/site-packages (0.0.2)\n",
            "Requirement already satisfied: pydot in /Users/jusbrasil/.pyenv/versions/3.11.1/lib/python3.11/site-packages (1.4.2)\n",
            "Requirement already satisfied: graphviz in /Users/jusbrasil/.pyenv/versions/3.11.1/lib/python3.11/site-packages (0.20.1)\n",
            "Requirement already satisfied: pillow>=6.2.0 in /Users/jusbrasil/.pyenv/versions/3.11.1/lib/python3.11/site-packages (from visualkeras) (9.5.0)\n",
            "Requirement already satisfied: numpy>=1.18.1 in /Users/jusbrasil/.pyenv/versions/3.11.1/lib/python3.11/site-packages (from visualkeras) (1.24.3)\n",
            "Requirement already satisfied: aggdraw>=1.3.11 in /Users/jusbrasil/.pyenv/versions/3.11.1/lib/python3.11/site-packages (from visualkeras) (1.3.18)\n",
            "Requirement already satisfied: pyparsing>=2.1.4 in /Users/jusbrasil/.pyenv/versions/3.11.1/lib/python3.11/site-packages (from pydot) (3.1.0)\n",
            "\n",
            "\u001b[1m[\u001b[0m\u001b[34;49mnotice\u001b[0m\u001b[1;39;49m]\u001b[0m\u001b[39;49m A new release of pip available: \u001b[0m\u001b[31;49m22.3.1\u001b[0m\u001b[39;49m -> \u001b[0m\u001b[32;49m23.3.1\u001b[0m\n",
            "\u001b[1m[\u001b[0m\u001b[34;49mnotice\u001b[0m\u001b[1;39;49m]\u001b[0m\u001b[39;49m To update, run: \u001b[0m\u001b[32;49mpip install --upgrade pip\u001b[0m\n"
          ]
        }
      ],
      "source": [
        "!pip install visualkeras pydot graphviz\n",
        "import visualkeras"
      ]
    },
    {
      "cell_type": "code",
      "execution_count": 136,
      "metadata": {
        "colab": {
          "base_uri": "https://localhost:8080/",
          "height": 126
        },
        "id": "qmIQ9kY_4K9P",
        "outputId": "a08b11ec-5368-49b1-becb-b72c630aac0f"
      },
      "outputs": [
        {
          "data": {
            "image/png": "[encoded data removed]",
            "text/plain": [
              "<PIL.Image.Image image mode=RGBA size=158x109>"
            ]
          },
          "execution_count": 136,
          "metadata": {},
          "output_type": "execute_result"
        }
      ],
      "source": [
        "visualkeras.layered_view(ann,legend=True, draw_volume=True, spacing=30)"
      ]
    },
    {
      "cell_type": "code",
      "execution_count": 137,
      "metadata": {
        "colab": {
          "base_uri": "https://localhost:8080/",
          "height": 422
        },
        "id": "6leExURT3wxW",
        "outputId": "18a20040-f98e-4046-cbbf-37de22214d92"
      },
      "outputs": [
        {
          "name": "stdout",
          "output_type": "stream",
          "text": [
            "You must install pydot (`pip install pydot`) and install graphviz (see instructions at https://graphviz.gitlab.io/download/) for plot_model to work.\n"
          ]
        }
      ],
      "source": [
        "from tensorflow.keras.utils import plot_model\n",
        "plot_model(model, show_shapes=True, show_layer_names=True)"
      ]
    },
    {
      "cell_type": "code",
      "execution_count": 138,
      "metadata": {
        "colab": {
          "base_uri": "https://localhost:8080/",
          "height": 472
        },
        "id": "kS6Hc4cv34N8",
        "outputId": "113dcd01-d83b-4451-c0e3-a966de7748e7"
      },
      "outputs": [
        {
          "data": {
            "image/png": "[encoded data removed]",
            "text/plain": [
              "<Figure size 640x480 with 1 Axes>"
            ]
          },
          "metadata": {},
          "output_type": "display_data"
        }
      ],
      "source": [
        "history = model.history\n",
        "# summarize history for accuracy\n",
        "plt.plot(history.history['categorical_accuracy'])\n",
        "plt.title('model accuracy')\n",
        "plt.ylabel('accuracy')\n",
        "plt.xlabel('epoch')\n",
        "# summarize history for loss\n",
        "plt.plot(history.history['loss'])\n",
        "plt.title('model loss')\n",
        "plt.ylabel('loss')\n",
        "plt.xlabel('epoch')\n",
        "plt.legend(['train acc', 'train loss'], loc='upper right')\n",
        "plt.show()"
      ]
    },
    {
      "cell_type": "code",
      "execution_count": 139,
      "metadata": {
        "id": "OTAOTcdQ6jzh"
      },
      "outputs": [],
      "source": [
        "# label encoding for validation purposes\n",
        "le = LabelEncoder().fit(sorted(list(set(df['category'].tolist()))))"
      ]
    },
    {
      "cell_type": "code",
      "execution_count": 140,
      "metadata": {
        "colab": {
          "base_uri": "https://localhost:8080/",
          "height": 466
        },
        "id": "laapZwdU4Z5O",
        "outputId": "c1d08c38-706b-4965-e27e-f59d230db7af"
      },
      "outputs": [
        {
          "name": "stdout",
          "output_type": "stream",
          "text": [
            "11/11 [==============================] - 0s 1ms/step\n"
          ]
        },
        {
          "data": {
            "image/png": "[encoded data removed]",
            "text/plain": [
              "<Figure size 640x480 with 2 Axes>"
            ]
          },
          "metadata": {},
          "output_type": "display_data"
        }
      ],
      "source": [
        "# Confusion Matrix\n",
        "cm_rm_2 = confusion_matrix(le.transform(lb.inverse_transform(np.array(y_test))),model.predict(x_test).argmax(axis=1))\n",
        "disp = ConfusionMatrixDisplay(confusion_matrix=cm_rm_2)\n",
        "disp.plot(cmap=plt.cm.Blues)\n",
        "plt.show()"
      ]
    },
    {
      "cell_type": "code",
      "execution_count": 141,
      "metadata": {
        "colab": {
          "base_uri": "https://localhost:8080/"
        },
        "id": "lg03iYdQ4gus",
        "outputId": "5b1ca4cf-e8dc-4b86-9abc-46495858d71b"
      },
      "outputs": [
        {
          "name": "stdout",
          "output_type": "stream",
          "text": [
            "11/11 [==============================] - 0s 1ms/step\n",
            "              precision    recall  f1-score   support\n",
            "\n",
            "           0       0.96      0.99      0.98        83\n",
            "           1       0.98      1.00      0.99        52\n",
            "           2       0.98      0.96      0.97        54\n",
            "           3       1.00      1.00      1.00        79\n",
            "           4       1.00      0.97      0.98        66\n",
            "\n",
            "    accuracy                           0.99       334\n",
            "   macro avg       0.99      0.98      0.98       334\n",
            "weighted avg       0.99      0.99      0.99       334\n",
            "\n"
          ]
        }
      ],
      "source": [
        "# Classification report\n",
        "from sklearn.metrics import classification_report\n",
        "print(classification_report(le.transform(lb.inverse_transform(np.array(y_test))),model.predict(x_test).argmax(axis=1)))"
      ]
    }
  ],
  "metadata": {
    "colab": {
      "authorship_tag": "ABX9TyOIQ2FdsgpetJZGsraj5LY8",
      "include_colab_link": true,
      "provenance": []
    },
    "kernelspec": {
      "display_name": "Python 3",
      "name": "python3"
    },
    "language_info": {
      "codemirror_mode": {
        "name": "ipython",
        "version": 3
      },
      "file_extension": ".py",
      "mimetype": "text/x-python",
      "name": "python",
      "nbconvert_exporter": "python",
      "pygments_lexer": "ipython3",
      "version": "3.11.1"
    }
  },
  "nbformat": 4,
  "nbformat_minor": 0
}
